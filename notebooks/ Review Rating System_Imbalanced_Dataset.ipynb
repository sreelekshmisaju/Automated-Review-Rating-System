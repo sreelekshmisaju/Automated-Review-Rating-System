{
 "cells": [
  {
   "cell_type": "markdown",
   "id": "4508de6d-a560-4bad-9972-8e12688c09f0",
   "metadata": {},
   "source": [
    "# Importing Libraries"
   ]
  },
  {
   "cell_type": "code",
   "execution_count": 1,
   "id": "588d416f-26ce-4993-b3ad-7838db4444b1",
   "metadata": {},
   "outputs": [],
   "source": [
    "import pandas as pd\n",
    "import numpy as np \n",
    "import matplotlib.pyplot as plt\n",
    "import seaborn as sns\n",
    "import re\n"
   ]
  },
  {
   "cell_type": "markdown",
   "id": "2846ef04-31c2-4eb1-bae6-fc18abce059a",
   "metadata": {},
   "source": [
    "# Load Data"
   ]
  },
  {
   "cell_type": "code",
   "execution_count": 2,
   "id": "eadbf9e8-178b-4331-9826-76d72309482f",
   "metadata": {},
   "outputs": [
    {
     "name": "stdout",
     "output_type": "stream",
     "text": [
      "Imbalanced_reviews dataset shape: (36963, 3)\n"
     ]
    }
   ],
   "source": [
    "df = pd.read_csv(r\"..\\data\\new data\\Imbalanced_reviews.csv\", encoding='latin-1')\n",
    "\n",
    "print(\"Imbalanced_reviews dataset shape:\", df.shape)"
   ]
  },
  {
   "cell_type": "markdown",
   "id": "3c9c0051-4b13-4d65-b94c-4c59b830a67c",
   "metadata": {},
   "source": [
    "# View Data"
   ]
  },
  {
   "cell_type": "code",
   "execution_count": 3,
   "id": "f4f7707e-db75-47de-a771-51ef4202d1f3",
   "metadata": {},
   "outputs": [
    {
     "name": "stdout",
     "output_type": "stream",
     "text": [
      "\n",
      "Imbalanced_reviews dataset:\n",
      "<class 'pandas.core.frame.DataFrame'>\n",
      "RangeIndex: 36963 entries, 0 to 36962\n",
      "Data columns (total 3 columns):\n",
      " #   Column        Non-Null Count  Dtype \n",
      "---  ------        --------------  ----- \n",
      " 0   Rating        36963 non-null  int64 \n",
      " 1   Review        36963 non-null  object\n",
      " 2   ReviewLength  36963 non-null  int64 \n",
      "dtypes: int64(2), object(1)\n",
      "memory usage: 866.4+ KB\n"
     ]
    },
    {
     "data": {
      "text/html": [
       "<div>\n",
       "<style scoped>\n",
       "    .dataframe tbody tr th:only-of-type {\n",
       "        vertical-align: middle;\n",
       "    }\n",
       "\n",
       "    .dataframe tbody tr th {\n",
       "        vertical-align: top;\n",
       "    }\n",
       "\n",
       "    .dataframe thead th {\n",
       "        text-align: right;\n",
       "    }\n",
       "</style>\n",
       "<table border=\"1\" class=\"dataframe\">\n",
       "  <thead>\n",
       "    <tr style=\"text-align: right;\">\n",
       "      <th></th>\n",
       "      <th>Rating</th>\n",
       "      <th>ReviewLength</th>\n",
       "    </tr>\n",
       "  </thead>\n",
       "  <tbody>\n",
       "    <tr>\n",
       "      <th>count</th>\n",
       "      <td>36963.000000</td>\n",
       "      <td>36963.000000</td>\n",
       "    </tr>\n",
       "    <tr>\n",
       "      <th>mean</th>\n",
       "      <td>3.959825</td>\n",
       "      <td>610.114980</td>\n",
       "    </tr>\n",
       "    <tr>\n",
       "      <th>std</th>\n",
       "      <td>1.020558</td>\n",
       "      <td>711.886906</td>\n",
       "    </tr>\n",
       "    <tr>\n",
       "      <th>min</th>\n",
       "      <td>1.000000</td>\n",
       "      <td>4.000000</td>\n",
       "    </tr>\n",
       "    <tr>\n",
       "      <th>25%</th>\n",
       "      <td>4.000000</td>\n",
       "      <td>170.000000</td>\n",
       "    </tr>\n",
       "    <tr>\n",
       "      <th>50%</th>\n",
       "      <td>4.000000</td>\n",
       "      <td>334.000000</td>\n",
       "    </tr>\n",
       "    <tr>\n",
       "      <th>75%</th>\n",
       "      <td>5.000000</td>\n",
       "      <td>759.000000</td>\n",
       "    </tr>\n",
       "    <tr>\n",
       "      <th>max</th>\n",
       "      <td>5.000000</td>\n",
       "      <td>9559.000000</td>\n",
       "    </tr>\n",
       "  </tbody>\n",
       "</table>\n",
       "</div>"
      ],
      "text/plain": [
       "             Rating  ReviewLength\n",
       "count  36963.000000  36963.000000\n",
       "mean       3.959825    610.114980\n",
       "std        1.020558    711.886906\n",
       "min        1.000000      4.000000\n",
       "25%        4.000000    170.000000\n",
       "50%        4.000000    334.000000\n",
       "75%        5.000000    759.000000\n",
       "max        5.000000   9559.000000"
      ]
     },
     "execution_count": 3,
     "metadata": {},
     "output_type": "execute_result"
    }
   ],
   "source": [
    "print(\"\\nImbalanced_reviews dataset:\")\n",
    "\n",
    "df.info()\n",
    "df.describe()"
   ]
  },
  {
   "cell_type": "code",
   "execution_count": 4,
   "id": "ad15d9a4-a894-47ae-8b7c-f668ef4ea3fa",
   "metadata": {},
   "outputs": [
    {
     "data": {
      "text/html": [
       "<div>\n",
       "<style scoped>\n",
       "    .dataframe tbody tr th:only-of-type {\n",
       "        vertical-align: middle;\n",
       "    }\n",
       "\n",
       "    .dataframe tbody tr th {\n",
       "        vertical-align: top;\n",
       "    }\n",
       "\n",
       "    .dataframe thead th {\n",
       "        text-align: right;\n",
       "    }\n",
       "</style>\n",
       "<table border=\"1\" class=\"dataframe\">\n",
       "  <thead>\n",
       "    <tr style=\"text-align: right;\">\n",
       "      <th></th>\n",
       "      <th>Rating</th>\n",
       "      <th>Review</th>\n",
       "      <th>ReviewLength</th>\n",
       "    </tr>\n",
       "  </thead>\n",
       "  <tbody>\n",
       "    <tr>\n",
       "      <th>0</th>\n",
       "      <td>1</td>\n",
       "      <td>This book was so short it wouldn't even qualif...</td>\n",
       "      <td>113</td>\n",
       "    </tr>\n",
       "    <tr>\n",
       "      <th>1</th>\n",
       "      <td>1</td>\n",
       "      <td>I can't believe all the good reviews for this ...</td>\n",
       "      <td>259</td>\n",
       "    </tr>\n",
       "    <tr>\n",
       "      <th>2</th>\n",
       "      <td>1</td>\n",
       "      <td>Loved the book. Great mystery and love story. ...</td>\n",
       "      <td>133</td>\n",
       "    </tr>\n",
       "    <tr>\n",
       "      <th>3</th>\n",
       "      <td>1</td>\n",
       "      <td>Like another reviewer I found this book creepy...</td>\n",
       "      <td>212</td>\n",
       "    </tr>\n",
       "    <tr>\n",
       "      <th>4</th>\n",
       "      <td>1</td>\n",
       "      <td>This book was a real let down. Gets into peopl...</td>\n",
       "      <td>165</td>\n",
       "    </tr>\n",
       "  </tbody>\n",
       "</table>\n",
       "</div>"
      ],
      "text/plain": [
       "   Rating                                             Review  ReviewLength\n",
       "0       1  This book was so short it wouldn't even qualif...           113\n",
       "1       1  I can't believe all the good reviews for this ...           259\n",
       "2       1  Loved the book. Great mystery and love story. ...           133\n",
       "3       1  Like another reviewer I found this book creepy...           212\n",
       "4       1  This book was a real let down. Gets into peopl...           165"
      ]
     },
     "execution_count": 4,
     "metadata": {},
     "output_type": "execute_result"
    }
   ],
   "source": [
    "df.head()\n"
   ]
  },
  {
   "cell_type": "code",
   "execution_count": 5,
   "id": "c2efa3ce-d63d-4744-b797-ab7ce45aa6cb",
   "metadata": {},
   "outputs": [
    {
     "data": {
      "text/html": [
       "<div>\n",
       "<style scoped>\n",
       "    .dataframe tbody tr th:only-of-type {\n",
       "        vertical-align: middle;\n",
       "    }\n",
       "\n",
       "    .dataframe tbody tr th {\n",
       "        vertical-align: top;\n",
       "    }\n",
       "\n",
       "    .dataframe thead th {\n",
       "        text-align: right;\n",
       "    }\n",
       "</style>\n",
       "<table border=\"1\" class=\"dataframe\">\n",
       "  <thead>\n",
       "    <tr style=\"text-align: right;\">\n",
       "      <th></th>\n",
       "      <th>Rating</th>\n",
       "      <th>Review</th>\n",
       "      <th>ReviewLength</th>\n",
       "    </tr>\n",
       "  </thead>\n",
       "  <tbody>\n",
       "    <tr>\n",
       "      <th>36958</th>\n",
       "      <td>5</td>\n",
       "      <td>I love these kind of stories! I just could not...</td>\n",
       "      <td>99</td>\n",
       "    </tr>\n",
       "    <tr>\n",
       "      <th>36959</th>\n",
       "      <td>5</td>\n",
       "      <td>This sweet story that reminds me of Cinderella...</td>\n",
       "      <td>377</td>\n",
       "    </tr>\n",
       "    <tr>\n",
       "      <th>36960</th>\n",
       "      <td>5</td>\n",
       "      <td>Loved this book so much! Everyone should read ...</td>\n",
       "      <td>192</td>\n",
       "    </tr>\n",
       "    <tr>\n",
       "      <th>36961</th>\n",
       "      <td>5</td>\n",
       "      <td>Larissa Cross was only looking for a summer fl...</td>\n",
       "      <td>1528</td>\n",
       "    </tr>\n",
       "    <tr>\n",
       "      <th>36962</th>\n",
       "      <td>5</td>\n",
       "      <td>Really enjoyed this book. Hard to put down. Th...</td>\n",
       "      <td>121</td>\n",
       "    </tr>\n",
       "  </tbody>\n",
       "</table>\n",
       "</div>"
      ],
      "text/plain": [
       "       Rating                                             Review  ReviewLength\n",
       "36958       5  I love these kind of stories! I just could not...            99\n",
       "36959       5  This sweet story that reminds me of Cinderella...           377\n",
       "36960       5  Loved this book so much! Everyone should read ...           192\n",
       "36961       5  Larissa Cross was only looking for a summer fl...          1528\n",
       "36962       5  Really enjoyed this book. Hard to put down. Th...           121"
      ]
     },
     "execution_count": 5,
     "metadata": {},
     "output_type": "execute_result"
    }
   ],
   "source": [
    "df.tail()"
   ]
  },
  {
   "cell_type": "markdown",
   "id": "b243ae8c-701a-4b81-af64-8e1fe12c5f42",
   "metadata": {},
   "source": [
    "# Selecting Columns"
   ]
  },
  {
   "cell_type": "code",
   "execution_count": 6,
   "id": "4c028cd7-8b7a-4c0b-bc0b-7cca858abfe3",
   "metadata": {},
   "outputs": [
    {
     "name": "stdout",
     "output_type": "stream",
     "text": [
      "Final dataset columns: ['Rating', 'Review']\n",
      "Final dataset shape: (36963, 2)\n"
     ]
    }
   ],
   "source": [
    "# Keep only relevant columns\n",
    "df = df[['Rating', 'Review']]\n",
    "\n",
    "print(\"Final dataset columns:\", df.columns.tolist())\n",
    "print(\"Final dataset shape:\", df.shape)\n"
   ]
  },
  {
   "cell_type": "markdown",
   "id": "f88fc99a-dbba-4c92-8c63-76e953d53d21",
   "metadata": {},
   "source": [
    "# Natural Language Processing (NLP)"
   ]
  },
  {
   "cell_type": "markdown",
   "id": "3019d40c-a1ad-4135-b679-af1fa8e65c87",
   "metadata": {},
   "source": [
    "# Lowercase All Text"
   ]
  },
  {
   "cell_type": "code",
   "execution_count": 7,
   "id": "758367d8-7f49-46ce-a972-e8eb9132019d",
   "metadata": {},
   "outputs": [
    {
     "data": {
      "text/html": [
       "<div>\n",
       "<style scoped>\n",
       "    .dataframe tbody tr th:only-of-type {\n",
       "        vertical-align: middle;\n",
       "    }\n",
       "\n",
       "    .dataframe tbody tr th {\n",
       "        vertical-align: top;\n",
       "    }\n",
       "\n",
       "    .dataframe thead th {\n",
       "        text-align: right;\n",
       "    }\n",
       "</style>\n",
       "<table border=\"1\" class=\"dataframe\">\n",
       "  <thead>\n",
       "    <tr style=\"text-align: right;\">\n",
       "      <th></th>\n",
       "      <th>Rating</th>\n",
       "      <th>Review</th>\n",
       "    </tr>\n",
       "  </thead>\n",
       "  <tbody>\n",
       "    <tr>\n",
       "      <th>0</th>\n",
       "      <td>1</td>\n",
       "      <td>this book was so short it wouldn't even qualif...</td>\n",
       "    </tr>\n",
       "    <tr>\n",
       "      <th>1</th>\n",
       "      <td>1</td>\n",
       "      <td>i can't believe all the good reviews for this ...</td>\n",
       "    </tr>\n",
       "    <tr>\n",
       "      <th>2</th>\n",
       "      <td>1</td>\n",
       "      <td>loved the book. great mystery and love story. ...</td>\n",
       "    </tr>\n",
       "    <tr>\n",
       "      <th>3</th>\n",
       "      <td>1</td>\n",
       "      <td>like another reviewer i found this book creepy...</td>\n",
       "    </tr>\n",
       "    <tr>\n",
       "      <th>4</th>\n",
       "      <td>1</td>\n",
       "      <td>this book was a real let down. gets into peopl...</td>\n",
       "    </tr>\n",
       "  </tbody>\n",
       "</table>\n",
       "</div>"
      ],
      "text/plain": [
       "   Rating                                             Review\n",
       "0       1  this book was so short it wouldn't even qualif...\n",
       "1       1  i can't believe all the good reviews for this ...\n",
       "2       1  loved the book. great mystery and love story. ...\n",
       "3       1  like another reviewer i found this book creepy...\n",
       "4       1  this book was a real let down. gets into peopl..."
      ]
     },
     "execution_count": 7,
     "metadata": {},
     "output_type": "execute_result"
    }
   ],
   "source": [
    "# Convert all review text to lowercase\n",
    "df['Review'] = df['Review'].str.lower()\n",
    "\n",
    "df.head()\n"
   ]
  },
  {
   "cell_type": "markdown",
   "id": "5abb72fb-765d-4b0e-a42c-8ebef58c5261",
   "metadata": {},
   "source": [
    "# Remove URL"
   ]
  },
  {
   "cell_type": "code",
   "execution_count": 8,
   "id": "55d46e34-dd62-49aa-93eb-4e05920bc19a",
   "metadata": {},
   "outputs": [
    {
     "data": {
      "text/html": [
       "<div>\n",
       "<style scoped>\n",
       "    .dataframe tbody tr th:only-of-type {\n",
       "        vertical-align: middle;\n",
       "    }\n",
       "\n",
       "    .dataframe tbody tr th {\n",
       "        vertical-align: top;\n",
       "    }\n",
       "\n",
       "    .dataframe thead th {\n",
       "        text-align: right;\n",
       "    }\n",
       "</style>\n",
       "<table border=\"1\" class=\"dataframe\">\n",
       "  <thead>\n",
       "    <tr style=\"text-align: right;\">\n",
       "      <th></th>\n",
       "      <th>Rating</th>\n",
       "      <th>Review</th>\n",
       "    </tr>\n",
       "  </thead>\n",
       "  <tbody>\n",
       "    <tr>\n",
       "      <th>0</th>\n",
       "      <td>1</td>\n",
       "      <td>this book was so short it wouldn't even qualif...</td>\n",
       "    </tr>\n",
       "    <tr>\n",
       "      <th>1</th>\n",
       "      <td>1</td>\n",
       "      <td>i can't believe all the good reviews for this ...</td>\n",
       "    </tr>\n",
       "    <tr>\n",
       "      <th>2</th>\n",
       "      <td>1</td>\n",
       "      <td>loved the book. great mystery and love story. ...</td>\n",
       "    </tr>\n",
       "    <tr>\n",
       "      <th>3</th>\n",
       "      <td>1</td>\n",
       "      <td>like another reviewer i found this book creepy...</td>\n",
       "    </tr>\n",
       "    <tr>\n",
       "      <th>4</th>\n",
       "      <td>1</td>\n",
       "      <td>this book was a real let down. gets into peopl...</td>\n",
       "    </tr>\n",
       "  </tbody>\n",
       "</table>\n",
       "</div>"
      ],
      "text/plain": [
       "   Rating                                             Review\n",
       "0       1  this book was so short it wouldn't even qualif...\n",
       "1       1  i can't believe all the good reviews for this ...\n",
       "2       1  loved the book. great mystery and love story. ...\n",
       "3       1  like another reviewer i found this book creepy...\n",
       "4       1  this book was a real let down. gets into peopl..."
      ]
     },
     "execution_count": 8,
     "metadata": {},
     "output_type": "execute_result"
    }
   ],
   "source": [
    "# Remove URLs from the review text\n",
    "df['Review'] = df['Review'].apply(lambda x: re.sub(r'http\\S+|www\\S+|https\\S+', '', x, flags=re.IGNORECASE))\n",
    "\n",
    "df.head()\n"
   ]
  },
  {
   "cell_type": "markdown",
   "id": "b4978e29-d0a3-4f8d-ae49-802af1b7771e",
   "metadata": {},
   "source": [
    "# Remove HTML tags"
   ]
  },
  {
   "cell_type": "code",
   "execution_count": 9,
   "id": "08634921-2a01-4952-8ca1-4abbd4a149e7",
   "metadata": {},
   "outputs": [
    {
     "data": {
      "text/html": [
       "<div>\n",
       "<style scoped>\n",
       "    .dataframe tbody tr th:only-of-type {\n",
       "        vertical-align: middle;\n",
       "    }\n",
       "\n",
       "    .dataframe tbody tr th {\n",
       "        vertical-align: top;\n",
       "    }\n",
       "\n",
       "    .dataframe thead th {\n",
       "        text-align: right;\n",
       "    }\n",
       "</style>\n",
       "<table border=\"1\" class=\"dataframe\">\n",
       "  <thead>\n",
       "    <tr style=\"text-align: right;\">\n",
       "      <th></th>\n",
       "      <th>Rating</th>\n",
       "      <th>Review</th>\n",
       "    </tr>\n",
       "  </thead>\n",
       "  <tbody>\n",
       "    <tr>\n",
       "      <th>0</th>\n",
       "      <td>1</td>\n",
       "      <td>this book was so short it wouldn't even qualif...</td>\n",
       "    </tr>\n",
       "    <tr>\n",
       "      <th>1</th>\n",
       "      <td>1</td>\n",
       "      <td>i can't believe all the good reviews for this ...</td>\n",
       "    </tr>\n",
       "    <tr>\n",
       "      <th>2</th>\n",
       "      <td>1</td>\n",
       "      <td>loved the book. great mystery and love story. ...</td>\n",
       "    </tr>\n",
       "    <tr>\n",
       "      <th>3</th>\n",
       "      <td>1</td>\n",
       "      <td>like another reviewer i found this book creepy...</td>\n",
       "    </tr>\n",
       "    <tr>\n",
       "      <th>4</th>\n",
       "      <td>1</td>\n",
       "      <td>this book was a real let down. gets into peopl...</td>\n",
       "    </tr>\n",
       "  </tbody>\n",
       "</table>\n",
       "</div>"
      ],
      "text/plain": [
       "   Rating                                             Review\n",
       "0       1  this book was so short it wouldn't even qualif...\n",
       "1       1  i can't believe all the good reviews for this ...\n",
       "2       1  loved the book. great mystery and love story. ...\n",
       "3       1  like another reviewer i found this book creepy...\n",
       "4       1  this book was a real let down. gets into peopl..."
      ]
     },
     "execution_count": 9,
     "metadata": {},
     "output_type": "execute_result"
    }
   ],
   "source": [
    "# Remove HTML tags from review text\n",
    "df['Review'] = df['Review'].apply(lambda x: re.sub(r'<.*?>', '', x))\n",
    "\n",
    "df.head()\n"
   ]
  },
  {
   "cell_type": "markdown",
   "id": "4e642ea8-8cc3-47f7-a421-bed350569607",
   "metadata": {},
   "source": [
    "# Remove emojis, punctuation and special characters"
   ]
  },
  {
   "cell_type": "code",
   "execution_count": 10,
   "id": "bfeb54bd-e3ed-4a6d-9a58-52af456c545a",
   "metadata": {},
   "outputs": [
    {
     "data": {
      "text/html": [
       "<div>\n",
       "<style scoped>\n",
       "    .dataframe tbody tr th:only-of-type {\n",
       "        vertical-align: middle;\n",
       "    }\n",
       "\n",
       "    .dataframe tbody tr th {\n",
       "        vertical-align: top;\n",
       "    }\n",
       "\n",
       "    .dataframe thead th {\n",
       "        text-align: right;\n",
       "    }\n",
       "</style>\n",
       "<table border=\"1\" class=\"dataframe\">\n",
       "  <thead>\n",
       "    <tr style=\"text-align: right;\">\n",
       "      <th></th>\n",
       "      <th>Rating</th>\n",
       "      <th>Review</th>\n",
       "    </tr>\n",
       "  </thead>\n",
       "  <tbody>\n",
       "    <tr>\n",
       "      <th>0</th>\n",
       "      <td>1</td>\n",
       "      <td>this book was so short it wouldnt even qualify...</td>\n",
       "    </tr>\n",
       "    <tr>\n",
       "      <th>1</th>\n",
       "      <td>1</td>\n",
       "      <td>i cant believe all the good reviews for this b...</td>\n",
       "    </tr>\n",
       "    <tr>\n",
       "      <th>2</th>\n",
       "      <td>1</td>\n",
       "      <td>loved the book great mystery and love story wo...</td>\n",
       "    </tr>\n",
       "    <tr>\n",
       "      <th>3</th>\n",
       "      <td>1</td>\n",
       "      <td>like another reviewer i found this book creepy...</td>\n",
       "    </tr>\n",
       "    <tr>\n",
       "      <th>4</th>\n",
       "      <td>1</td>\n",
       "      <td>this book was a real let down gets into people...</td>\n",
       "    </tr>\n",
       "  </tbody>\n",
       "</table>\n",
       "</div>"
      ],
      "text/plain": [
       "   Rating                                             Review\n",
       "0       1  this book was so short it wouldnt even qualify...\n",
       "1       1  i cant believe all the good reviews for this b...\n",
       "2       1  loved the book great mystery and love story wo...\n",
       "3       1  like another reviewer i found this book creepy...\n",
       "4       1  this book was a real let down gets into people..."
      ]
     },
     "execution_count": 10,
     "metadata": {},
     "output_type": "execute_result"
    }
   ],
   "source": [
    "# Remove emojis, punctuation, and special characters\n",
    "df['Review'] = df['Review'].apply(lambda x: re.sub(r'[^a-zA-Z0-9\\s]', '', x))\n",
    "\n",
    "# Remove extra whitespaces\n",
    "df['Review'] = df['Review'].apply(lambda x: re.sub(r'\\s+', ' ', x).strip())\n",
    "\n",
    "\n",
    "df.head()\n"
   ]
  },
  {
   "cell_type": "markdown",
   "id": "4ac8fd2f-97f2-4963-b776-7acfc437cd33",
   "metadata": {},
   "source": [
    "# Showing stopwords"
   ]
  },
  {
   "cell_type": "code",
   "execution_count": 11,
   "id": "b5210d79-ab16-4de7-9a58-2acb5a1e7e61",
   "metadata": {},
   "outputs": [
    {
     "name": "stdout",
     "output_type": "stream",
     "text": [
      "Number of stopwords: 326\n",
      "Sample stopwords: ['ourselves', 'itself', 'before', 'latterly', 'around', 'less', 'alone', '’ve', 'their', 'never', 'them', 'might', 'afterwards', 'up', 'not', 'yourself', 'none', 'each', 'our', 'somehow']\n"
     ]
    },
    {
     "data": {
      "text/html": [
       "<div>\n",
       "<style scoped>\n",
       "    .dataframe tbody tr th:only-of-type {\n",
       "        vertical-align: middle;\n",
       "    }\n",
       "\n",
       "    .dataframe tbody tr th {\n",
       "        vertical-align: top;\n",
       "    }\n",
       "\n",
       "    .dataframe thead th {\n",
       "        text-align: right;\n",
       "    }\n",
       "</style>\n",
       "<table border=\"1\" class=\"dataframe\">\n",
       "  <thead>\n",
       "    <tr style=\"text-align: right;\">\n",
       "      <th></th>\n",
       "      <th>Review</th>\n",
       "      <th>Stopword_Count</th>\n",
       "    </tr>\n",
       "  </thead>\n",
       "  <tbody>\n",
       "    <tr>\n",
       "      <th>0</th>\n",
       "      <td>this book was so short it wouldnt even qualify...</td>\n",
       "      <td>15</td>\n",
       "    </tr>\n",
       "    <tr>\n",
       "      <th>1</th>\n",
       "      <td>i cant believe all the good reviews for this b...</td>\n",
       "      <td>25</td>\n",
       "    </tr>\n",
       "    <tr>\n",
       "      <th>2</th>\n",
       "      <td>loved the book great mystery and love story wo...</td>\n",
       "      <td>12</td>\n",
       "    </tr>\n",
       "    <tr>\n",
       "      <th>3</th>\n",
       "      <td>like another reviewer i found this book creepy...</td>\n",
       "      <td>18</td>\n",
       "    </tr>\n",
       "    <tr>\n",
       "      <th>4</th>\n",
       "      <td>this book was a real let down gets into people...</td>\n",
       "      <td>13</td>\n",
       "    </tr>\n",
       "  </tbody>\n",
       "</table>\n",
       "</div>"
      ],
      "text/plain": [
       "                                              Review  Stopword_Count\n",
       "0  this book was so short it wouldnt even qualify...              15\n",
       "1  i cant believe all the good reviews for this b...              25\n",
       "2  loved the book great mystery and love story wo...              12\n",
       "3  like another reviewer i found this book creepy...              18\n",
       "4  this book was a real let down gets into people...              13"
      ]
     },
     "execution_count": 11,
     "metadata": {},
     "output_type": "execute_result"
    }
   ],
   "source": [
    "import spacy\n",
    "\n",
    "# Load SpaCy English model\n",
    "nlp = spacy.load('en_core_web_sm')\n",
    "\n",
    "# Example: get stopwords list\n",
    "stopwords = nlp.Defaults.stop_words\n",
    "print(f\"Number of stopwords: {len(stopwords)}\")\n",
    "print(\"Sample stopwords:\", list(stopwords)[:20])\n",
    "\n",
    "#  count stopwords in each review\n",
    "df['Stopword_Count'] = df['Review'].apply(lambda x: sum(1 for token in x.split() if token in stopwords))\n",
    "\n",
    "\n",
    "df[['Review', 'Stopword_Count']].head()\n"
   ]
  },
  {
   "cell_type": "markdown",
   "id": "ce785b17-4000-4609-a5de-03ba720639c7",
   "metadata": {},
   "source": [
    "# Total stopwords in all reviews:"
   ]
  },
  {
   "cell_type": "code",
   "execution_count": 12,
   "id": "040a0f5b-fcaf-4559-9bbb-3850743ccbb4",
   "metadata": {},
   "outputs": [
    {
     "name": "stdout",
     "output_type": "stream",
     "text": [
      "Total stopwords in all reviews: 2280723\n"
     ]
    }
   ],
   "source": [
    "# Total stopwords in the entire dataset\n",
    "total_stopwords = df['Stopword_Count'].sum()\n",
    "print(\"Total stopwords in all reviews:\", total_stopwords)\n"
   ]
  },
  {
   "cell_type": "markdown",
   "id": "1203a9cb-774c-4b78-8104-beb6d33dec72",
   "metadata": {},
   "source": [
    "# Remove stopwords"
   ]
  },
  {
   "cell_type": "code",
   "execution_count": 13,
   "id": "7464edd0-7a6c-4b64-b05c-13b04e465b88",
   "metadata": {},
   "outputs": [
    {
     "data": {
      "text/html": [
       "<div>\n",
       "<style scoped>\n",
       "    .dataframe tbody tr th:only-of-type {\n",
       "        vertical-align: middle;\n",
       "    }\n",
       "\n",
       "    .dataframe tbody tr th {\n",
       "        vertical-align: top;\n",
       "    }\n",
       "\n",
       "    .dataframe thead th {\n",
       "        text-align: right;\n",
       "    }\n",
       "</style>\n",
       "<table border=\"1\" class=\"dataframe\">\n",
       "  <thead>\n",
       "    <tr style=\"text-align: right;\">\n",
       "      <th></th>\n",
       "      <th>Rating</th>\n",
       "      <th>Review</th>\n",
       "      <th>Stopword_Count</th>\n",
       "    </tr>\n",
       "  </thead>\n",
       "  <tbody>\n",
       "    <tr>\n",
       "      <th>0</th>\n",
       "      <td>1</td>\n",
       "      <td>book short nt qualify novella guess pay free</td>\n",
       "      <td>15</td>\n",
       "    </tr>\n",
       "    <tr>\n",
       "      <th>1</th>\n",
       "      <td>1</td>\n",
       "      <td>nt believe good reviews book like taking lesso...</td>\n",
       "      <td>25</td>\n",
       "    </tr>\n",
       "    <tr>\n",
       "      <th>2</th>\n",
       "      <td>1</td>\n",
       "      <td>loved book great mystery love story read books...</td>\n",
       "      <td>12</td>\n",
       "    </tr>\n",
       "    <tr>\n",
       "      <th>3</th>\n",
       "      <td>1</td>\n",
       "      <td>like reviewer found book creepy repulsed bacch...</td>\n",
       "      <td>18</td>\n",
       "    </tr>\n",
       "    <tr>\n",
       "      <th>4</th>\n",
       "      <td>1</td>\n",
       "      <td>book real let gets people turning animals biza...</td>\n",
       "      <td>13</td>\n",
       "    </tr>\n",
       "  </tbody>\n",
       "</table>\n",
       "</div>"
      ],
      "text/plain": [
       "   Rating                                             Review  Stopword_Count\n",
       "0       1       book short nt qualify novella guess pay free              15\n",
       "1       1  nt believe good reviews book like taking lesso...              25\n",
       "2       1  loved book great mystery love story read books...              12\n",
       "3       1  like reviewer found book creepy repulsed bacch...              18\n",
       "4       1  book real let gets people turning animals biza...              13"
      ]
     },
     "execution_count": 13,
     "metadata": {},
     "output_type": "execute_result"
    }
   ],
   "source": [
    "# Function to remove stopwords\n",
    "def remove_stopwords(text):\n",
    "    doc = nlp(text)\n",
    "    return ' '.join([token.text for token in doc if token.text not in nlp.Defaults.stop_words])\n",
    "\n",
    "# Apply to the Review column\n",
    "df['Review'] = df['Review'].apply(remove_stopwords)\n",
    "\n",
    "df.head()\n"
   ]
  },
  {
   "cell_type": "markdown",
   "id": "ab252e5b-45e8-4f78-aeb1-d376d982d571",
   "metadata": {},
   "source": [
    "# Apply Lemmatization"
   ]
  },
  {
   "cell_type": "code",
   "execution_count": 14,
   "id": "351923e6-84f9-4dfa-9d57-2b8a31e7ecb7",
   "metadata": {},
   "outputs": [
    {
     "data": {
      "text/html": [
       "<div>\n",
       "<style scoped>\n",
       "    .dataframe tbody tr th:only-of-type {\n",
       "        vertical-align: middle;\n",
       "    }\n",
       "\n",
       "    .dataframe tbody tr th {\n",
       "        vertical-align: top;\n",
       "    }\n",
       "\n",
       "    .dataframe thead th {\n",
       "        text-align: right;\n",
       "    }\n",
       "</style>\n",
       "<table border=\"1\" class=\"dataframe\">\n",
       "  <thead>\n",
       "    <tr style=\"text-align: right;\">\n",
       "      <th></th>\n",
       "      <th>Rating</th>\n",
       "      <th>Review</th>\n",
       "      <th>Stopword_Count</th>\n",
       "    </tr>\n",
       "  </thead>\n",
       "  <tbody>\n",
       "    <tr>\n",
       "      <th>0</th>\n",
       "      <td>1</td>\n",
       "      <td>book short not qualify novella guess pay free</td>\n",
       "      <td>15</td>\n",
       "    </tr>\n",
       "    <tr>\n",
       "      <th>1</th>\n",
       "      <td>1</td>\n",
       "      <td>not believe good review book like take lesson ...</td>\n",
       "      <td>25</td>\n",
       "    </tr>\n",
       "    <tr>\n",
       "      <th>2</th>\n",
       "      <td>1</td>\n",
       "      <td>love book great mystery love story read book a...</td>\n",
       "      <td>12</td>\n",
       "    </tr>\n",
       "    <tr>\n",
       "      <th>3</th>\n",
       "      <td>1</td>\n",
       "      <td>like reviewer find book creepy repulse bacchus...</td>\n",
       "      <td>18</td>\n",
       "    </tr>\n",
       "    <tr>\n",
       "      <th>4</th>\n",
       "      <td>1</td>\n",
       "      <td>book real let get people turn animal bizarre s...</td>\n",
       "      <td>13</td>\n",
       "    </tr>\n",
       "  </tbody>\n",
       "</table>\n",
       "</div>"
      ],
      "text/plain": [
       "   Rating                                             Review  Stopword_Count\n",
       "0       1      book short not qualify novella guess pay free              15\n",
       "1       1  not believe good review book like take lesson ...              25\n",
       "2       1  love book great mystery love story read book a...              12\n",
       "3       1  like reviewer find book creepy repulse bacchus...              18\n",
       "4       1  book real let get people turn animal bizarre s...              13"
      ]
     },
     "execution_count": 14,
     "metadata": {},
     "output_type": "execute_result"
    }
   ],
   "source": [
    "\n",
    "# Function for lemmatization\n",
    "def lemmatize_text(text):\n",
    "    doc = nlp(text)\n",
    "    return ' '.join([token.lemma_ for token in doc])\n",
    "\n",
    "# Apply lemmatization to the Review column\n",
    "df['Review'] = df['Review'].apply(lemmatize_text)\n",
    "\n",
    "df.head()\n"
   ]
  },
  {
   "cell_type": "markdown",
   "id": "3387e125-3dc4-45c2-aa2f-41ed91f3ed14",
   "metadata": {},
   "source": [
    "# Filter out reviews with: Fewer than minimum words and Excessively long text"
   ]
  },
  {
   "cell_type": "code",
   "execution_count": 15,
   "id": "705c2183-8ef8-4b3d-8a61-8dc0a8c31cec",
   "metadata": {},
   "outputs": [
    {
     "name": "stdout",
     "output_type": "stream",
     "text": [
      "Dataset shape after filtering: (36686, 4)\n"
     ]
    },
    {
     "data": {
      "text/html": [
       "<div>\n",
       "<style scoped>\n",
       "    .dataframe tbody tr th:only-of-type {\n",
       "        vertical-align: middle;\n",
       "    }\n",
       "\n",
       "    .dataframe tbody tr th {\n",
       "        vertical-align: top;\n",
       "    }\n",
       "\n",
       "    .dataframe thead th {\n",
       "        text-align: right;\n",
       "    }\n",
       "</style>\n",
       "<table border=\"1\" class=\"dataframe\">\n",
       "  <thead>\n",
       "    <tr style=\"text-align: right;\">\n",
       "      <th></th>\n",
       "      <th>Review</th>\n",
       "      <th>Word_Count</th>\n",
       "    </tr>\n",
       "  </thead>\n",
       "  <tbody>\n",
       "    <tr>\n",
       "      <th>0</th>\n",
       "      <td>book short not qualify novella guess pay free</td>\n",
       "      <td>8</td>\n",
       "    </tr>\n",
       "    <tr>\n",
       "      <th>1</th>\n",
       "      <td>not believe good review book like take lesson ...</td>\n",
       "      <td>26</td>\n",
       "    </tr>\n",
       "    <tr>\n",
       "      <th>2</th>\n",
       "      <td>love book great mystery love story read book a...</td>\n",
       "      <td>13</td>\n",
       "    </tr>\n",
       "    <tr>\n",
       "      <th>3</th>\n",
       "      <td>like reviewer find book creepy repulse bacchus...</td>\n",
       "      <td>20</td>\n",
       "    </tr>\n",
       "    <tr>\n",
       "      <th>4</th>\n",
       "      <td>book real let get people turn animal bizarre s...</td>\n",
       "      <td>16</td>\n",
       "    </tr>\n",
       "  </tbody>\n",
       "</table>\n",
       "</div>"
      ],
      "text/plain": [
       "                                              Review  Word_Count\n",
       "0      book short not qualify novella guess pay free           8\n",
       "1  not believe good review book like take lesson ...          26\n",
       "2  love book great mystery love story read book a...          13\n",
       "3  like reviewer find book creepy repulse bacchus...          20\n",
       "4  book real let get people turn animal bizarre s...          16"
      ]
     },
     "execution_count": 15,
     "metadata": {},
     "output_type": "execute_result"
    }
   ],
   "source": [
    "# Define thresholds\n",
    "min_words = 3      # Minimum words per review\n",
    "max_words = 300     # Maximum words per review\n",
    "\n",
    "# Count words in each review\n",
    "df['Word_Count'] = df['Review'].apply(lambda x: len(x.split()))\n",
    "\n",
    "# Filter reviews\n",
    "df = df[(df['Word_Count'] >= min_words) & (df['Word_Count'] <= max_words)].reset_index(drop=True)\n",
    "\n",
    "# Preview dataset after filtering\n",
    "print(\"Dataset shape after filtering:\", df.shape)\n",
    "df[['Review', 'Word_Count']].head()\n"
   ]
  },
  {
   "cell_type": "markdown",
   "id": "ff28ce7a-e2b7-4658-bfba-c011e8f259cb",
   "metadata": {},
   "source": [
    "# Word count"
   ]
  },
  {
   "cell_type": "code",
   "execution_count": 16,
   "id": "79fc4a0f-5564-4945-a57c-e1fadce17f16",
   "metadata": {},
   "outputs": [
    {
     "data": {
      "text/html": [
       "<div>\n",
       "<style scoped>\n",
       "    .dataframe tbody tr th:only-of-type {\n",
       "        vertical-align: middle;\n",
       "    }\n",
       "\n",
       "    .dataframe tbody tr th {\n",
       "        vertical-align: top;\n",
       "    }\n",
       "\n",
       "    .dataframe thead th {\n",
       "        text-align: right;\n",
       "    }\n",
       "</style>\n",
       "<table border=\"1\" class=\"dataframe\">\n",
       "  <thead>\n",
       "    <tr style=\"text-align: right;\">\n",
       "      <th></th>\n",
       "      <th>Review</th>\n",
       "      <th>Word_Count</th>\n",
       "    </tr>\n",
       "  </thead>\n",
       "  <tbody>\n",
       "    <tr>\n",
       "      <th>0</th>\n",
       "      <td>book short not qualify novella guess pay free</td>\n",
       "      <td>8</td>\n",
       "    </tr>\n",
       "    <tr>\n",
       "      <th>1</th>\n",
       "      <td>not believe good review book like take lesson ...</td>\n",
       "      <td>26</td>\n",
       "    </tr>\n",
       "    <tr>\n",
       "      <th>2</th>\n",
       "      <td>love book great mystery love story read book a...</td>\n",
       "      <td>13</td>\n",
       "    </tr>\n",
       "    <tr>\n",
       "      <th>3</th>\n",
       "      <td>like reviewer find book creepy repulse bacchus...</td>\n",
       "      <td>20</td>\n",
       "    </tr>\n",
       "    <tr>\n",
       "      <th>4</th>\n",
       "      <td>book real let get people turn animal bizarre s...</td>\n",
       "      <td>16</td>\n",
       "    </tr>\n",
       "  </tbody>\n",
       "</table>\n",
       "</div>"
      ],
      "text/plain": [
       "                                              Review  Word_Count\n",
       "0      book short not qualify novella guess pay free           8\n",
       "1  not believe good review book like take lesson ...          26\n",
       "2  love book great mystery love story read book a...          13\n",
       "3  like reviewer find book creepy repulse bacchus...          20\n",
       "4  book real let get people turn animal bizarre s...          16"
      ]
     },
     "execution_count": 16,
     "metadata": {},
     "output_type": "execute_result"
    }
   ],
   "source": [
    "# Add a column with word count for each review\n",
    "df['Word_Count'] = df['Review'].apply(lambda x: len(x.split()))\n",
    "\n",
    "\n",
    "df[['Review', 'Word_Count']].head()\n",
    "\n",
    "\n"
   ]
  },
  {
   "cell_type": "code",
   "execution_count": 17,
   "id": "c6f1298e-0f4d-4743-ad7c-e48f426e5444",
   "metadata": {},
   "outputs": [
    {
     "name": "stdout",
     "output_type": "stream",
     "text": [
      "Word Count Statistics:\n"
     ]
    },
    {
     "data": {
      "text/plain": [
       "count    36686.000000\n",
       "mean        46.310118\n",
       "std         48.947525\n",
       "min          3.000000\n",
       "25%         14.000000\n",
       "50%         26.000000\n",
       "75%         59.000000\n",
       "max        300.000000\n",
       "Name: Word_Count, dtype: float64"
      ]
     },
     "execution_count": 17,
     "metadata": {},
     "output_type": "execute_result"
    }
   ],
   "source": [
    "# statistics on word count\n",
    "print(\"Word Count Statistics:\")\n",
    "df['Word_Count'].describe()"
   ]
  },
  {
   "cell_type": "markdown",
   "id": "734b81c3-9eae-4f89-a608-d6528e5d14a9",
   "metadata": {},
   "source": [
    "# Data Visualization"
   ]
  },
  {
   "cell_type": "markdown",
   "id": "0aec69ac-6c4b-485c-9f30-fc9b9b882b00",
   "metadata": {},
   "source": [
    "# Bar plot: Review count per rating"
   ]
  },
  {
   "cell_type": "code",
   "execution_count": 18,
   "id": "5a4ee906-8847-4440-9caa-ad0e36be497b",
   "metadata": {},
   "outputs": [
    {
     "data": {
      "image/png": "[encoded data removed]",
      "text/plain": [
       "<Figure size 640x480 with 1 Axes>"
      ]
     },
     "metadata": {},
     "output_type": "display_data"
    }
   ],
   "source": [
    "sns.countplot(x='Rating', data=df, color='skyblue')\n",
    "plt.title('Imbalanced Dataset: Review Count per Rating', fontsize=12, weight='bold')\n",
    "plt.xlabel('Rating', fontsize=12)\n",
    "plt.ylabel('Number of Reviews', fontsize=12)\n",
    "plt.xticks(fontsize=10)\n",
    "plt.yticks(fontsize=10)\n",
    "plt.show()\n"
   ]
  },
  {
   "cell_type": "markdown",
   "id": "9fb566c0-b119-4a85-8368-cb49be7a5f4f",
   "metadata": {},
   "source": [
    "# Rating Distribution (Pie Chart)"
   ]
  },
  {
   "cell_type": "code",
   "execution_count": 19,
   "id": "23004106-eddb-4be0-886d-3b31a3a22f36",
   "metadata": {},
   "outputs": [
    {
     "data": {
      "image/png": "[encoded data removed]",
      "text/plain": [
       "<Figure size 640x480 with 1 Axes>"
      ]
     },
     "metadata": {},
     "output_type": "display_data"
    }
   ],
   "source": [
    "# Count of reviews per rating\n",
    "rating_counts = df['Rating'].value_counts().sort_index()\n",
    "\n",
    "# Labels and values for pie chart\n",
    "categories = rating_counts.index\n",
    "values = rating_counts.values\n",
    "\n",
    "plt.pie(values, labels=categories, autopct='%1.1f%%', startangle=90, colors=sns.color_palette(\"pastel\"))\n",
    "plt.title(\"Imbalanced Dataset: Rating Distribution\", fontsize=12, weight='bold')\n",
    "plt.show()\n"
   ]
  },
  {
   "cell_type": "markdown",
   "id": "d350be89-85ad-4580-9bfd-d8713eb27483",
   "metadata": {},
   "source": [
    "# Histogram for Word Count"
   ]
  },
  {
   "cell_type": "code",
   "execution_count": 20,
   "id": "552c4032-91f3-405d-b3f1-1dbc1a1e7f09",
   "metadata": {},
   "outputs": [
    {
     "data": {
      "image/png": "[encoded data removed]",
      "text/plain": [
       "<Figure size 640x480 with 1 Axes>"
      ]
     },
     "metadata": {},
     "output_type": "display_data"
    }
   ],
   "source": [
    "sns.histplot(df['Word_Count'], bins=30, kde=True, color='cornflowerblue')\n",
    "plt.title('Word Count Distribution in Reviews', fontsize=12, weight='bold')\n",
    "plt.xlabel('Number of Words', fontsize=12)\n",
    "plt.ylabel('Frequency', fontsize=12)\n",
    "\n",
    "\n",
    "\n",
    "plt.tight_layout()\n",
    "plt.show()"
   ]
  },
  {
   "cell_type": "markdown",
   "id": "cccdfd84-0ae5-40de-97ed-e9a4f0bf60b6",
   "metadata": {},
   "source": [
    "# Box Plot: Word count by Rating"
   ]
  },
  {
   "cell_type": "code",
   "execution_count": 21,
   "id": "7821d89c-33ba-42ed-a4a0-fd0f4123fa77",
   "metadata": {},
   "outputs": [
    {
     "data": {
      "image/png": "[encoded data removed]",
      "text/plain": [
       "<Figure size 640x480 with 1 Axes>"
      ]
     },
     "metadata": {},
     "output_type": "display_data"
    }
   ],
   "source": [
    "\n",
    "sns.boxplot(x='Rating', y='Word_Count', data=df, color='lightgreen')\n",
    "plt.title('Word Count Distribution by Rating', fontsize=12, weight='bold')\n",
    "plt.xlabel('Rating', fontsize=12)\n",
    "plt.ylabel('Word Count', fontsize=12)\n",
    "plt.xticks(fontsize=10)\n",
    "plt.yticks(fontsize=10)\n",
    "plt.tight_layout()\n",
    "plt.show()\n",
    "\n"
   ]
  },
  {
   "cell_type": "markdown",
   "id": "cc5c0164-6f09-4863-942f-17e0fca41f64",
   "metadata": {},
   "source": [
    "# full sample reviews per rating"
   ]
  },
  {
   "cell_type": "code",
   "execution_count": 22,
   "id": "921a892e-1a1f-43b9-b74c-9336cfe391c9",
   "metadata": {},
   "outputs": [
    {
     "name": "stdout",
     "output_type": "stream",
     "text": [
      "\n",
      "--- Rating: 1 ---\n",
      "\n",
      "1. resolution beginning think plot twist middle ending disappoint\n",
      "\n",
      "2. find extremely difficult not complain cost 99 cent give\n",
      "\n",
      "3. short read little government not waste time purchase star free\n",
      "\n",
      "4. not like paranormal plot good reading point animal pack enter picture yuk\n",
      "\n",
      "5. care book people enjoy hear evidence haunt story opinion blame problem demon exist person get divorce demon person steal demon call haunt power suggestion denial true cause thing go wrong life look mirror cause person blame\n",
      "\n",
      "\n",
      "--- Rating: 2 ---\n",
      "\n",
      "1. particularly gruesome end novel ensure sha not follow shaun riker adventure detective story murder story ill gruesome page\n",
      "\n",
      "2. like main character story bad read recommend reader\n",
      "\n",
      "3. oh demon commonly write short story horror demon scary scary imagine life suddenly disrupt creature hell dimensionover bridge definitely fall category precede review great job pointing reason story not work little explanation go bridge main character stuff little payoff end storyas reader need explanation hint go bridge nathan live suddenly cause bridge problem tell picturesque old resource equipment nathan fingertips significant s like ordinary person s like super rich james bond give not field interesting physical ability diminish s mary sue regardthe demon creature scary writer create scary creature situation mean care character danger\n",
      "\n",
      "4. story lot potential not live character long long see eye main character old woman yes know 5000 wordsalso problem clear well tale need well edit character need well development pov keep veer character character omnipresent\n",
      "\n",
      "5. female lead story go confused emotionally distant woman victim abuse 200 page book like bdsm appear lifestyle practice emotionally unhealthy people show get involved sub set victimthat exactly happen marjorie meet start relationship david david master manipulator lie book thing affair set continual emotional betrayal cap write book publishe reveal call friend encourage resume relationship sadly victim congratulation story abuse victimize damaged woman perfectly toldbdsm trust trust bdsm honesty honesty bdsm safe sane consensual partnership david goes deliberately break emotionally unstable woman think sorrie diamond coercion misguided friend go well outcome predictable marjorie resume relationship david continue abuse betray david stop manipulate lie wind nervous breakdown dead hand roadkill highway lifestory o 9 12 week annabelle joseph anneke jacob kitty thomas not read read bdsm relationship not expect happy end end story sad marjorie basically good person get mixed wrong man straight nightmare not appear wake\n",
      "\n",
      "\n",
      "--- Rating: 3 ---\n",
      "\n",
      "1. quartet wellbehave child fairy grant wish english countryside s likehere child outright squander half wish rest spend time struggle bad effect wish end book wrap little change world characterstoo fisherman wife little magical whimsical effectalong reader find book follow reference edward eager sadly book eager lot well like nesbitt book read m willing try\n",
      "\n",
      "2. enlighteninghave hard time locate versesit good check sample buyingit meet need\n",
      "\n",
      "3. book ok little draw good read recommend light read\n",
      "\n",
      "4. feel like long actual plot end not clear like story develop not discourage reading enjoy immensely\n",
      "\n",
      "5. horrific gorey need tweak well think little sense not like word usage like fly story\n",
      "\n",
      "\n",
      "--- Rating: 4 ---\n",
      "\n",
      "1. collection early short story authorbedlam excellent short story read grow fear author betray promise story go twist shock alltoocommon short story publish kindle confidence start finish story drive character author not confuse attempt character character outlandish kooky people author not try constantly remind good short story ve read kindlethe second story not work feel like write exercise fully realize workgiven strength bedlam definitely look forward check author work\n",
      "\n",
      "2. book begin difficult event set beautiful relationship darcy elizabeth pleasure love grow darcy love lizzy grow positive way care little disconcert richard evil wellwritten story hold reader interest\n",
      "\n",
      "3. expect story not wonderful genre base review read decide buy book will not complete waste time money book not live hype author bring problem book not solve problem come main character resolve have sex not discuss\n",
      "\n",
      "4. get free amazon kindle son interest say lot interesting information despite grammatical error fact library book scan date reminder return show end\n",
      "\n",
      "5. luckily give second chance wilson book disappoint saving grace buy book totally keeper flippant style wittiness character immediately win interest particularly like tommys character s almighty granitic cop insecure man wound body spirit selfloathe reclusive personality counterbalance paige optimistic warm nature finally woman take command develop relationship fight discover real man mask mystery plot action narrate believable way\n",
      "\n",
      "\n",
      "--- Rating: 5 ---\n",
      "\n",
      "1. slim man love way corner keep edge surprise time love 4 thank alex good job\n",
      "\n",
      "2. wildly entertainingi enjoy marvelous charactersi look author work child keep collection\n",
      "\n",
      "3. opinion voracious reader 34 book week book author matt chatelains 4 book sirenne saga cave etretat compares favorably style writing pace character story development plot complexity book write popular author jeffery deaver james rollin gayle lynd douglas preston lincoln child complex thought provoke conspiracy actionadventure story set stage sagathis book epic series tell story paul sirenne average canadian bookstore owner midthirtie consider armchair puzzle mystery solver child paul grow magical environment father continually develop increasingly complex riddle search problem paul solvewhen book open paul learn father father wife murder body mutilate form letter h n note send paul father murder send paul little town etretat france begin epic quest paul 4 close friendsthe author amazing job weave historical event book wonder book version history not accurate previous perception finish book fill 2 major thought 1 yes history rewrite like 2 soon download read book 2 serieswhen check author website admit purposely 2 book series small price reader like write style story line rush read book 3 4 count invite come review book\n",
      "\n",
      "4. rarely write review kindle books book worth description book author give good description book buy lot kindle book compel write review book page turner negative aspect book formatting book properly kindle problem recommend people get book people want hero villain romance incredible world magic book\n",
      "\n",
      "5. book outrageously imaginative wildly wonderful hope book adventures orphan simon jones great uncle tiberius bogg tiberius frontiersman like paul bunyan steroids bookish simon determination endear tale timeless good evil duo encounter folkloric creature imaginable quest book appeal middle school age youth death want treat hour exciting pleasure not surprised book get movie criticism title new world think far bland nondescriptive book\n",
      "\n"
     ]
    }
   ],
   "source": [
    "# Display 5 sample reviews per rating\n",
    "for rating, group in df.groupby('Rating'):\n",
    "    print(f\"\\n--- Rating: {rating} ---\\n\")\n",
    "    sample_reviews = group['Review'].sample(\n",
    "        n=min(5, len(group)),\n",
    "        random_state=42\n",
    "    )\n",
    "    for i, review in enumerate(sample_reviews, 1):\n",
    "        print(f\"{i}. {review}\\n\")\n"
   ]
  },
  {
   "cell_type": "markdown",
   "id": "0273ac9d-ee92-48d7-8756-1cfeaf36207f",
   "metadata": {},
   "source": [
    "# Keep only Review and Rating columns"
   ]
  },
  {
   "cell_type": "code",
   "execution_count": 23,
   "id": "b36f4bb8-2b24-410c-a176-7c55c3503885",
   "metadata": {},
   "outputs": [
    {
     "name": "stdout",
     "output_type": "stream",
     "text": [
      "Final dataset columns: ['Review', 'Rating']\n",
      "Final dataset shape: (36686, 2)\n"
     ]
    },
    {
     "data": {
      "text/html": [
       "<div>\n",
       "<style scoped>\n",
       "    .dataframe tbody tr th:only-of-type {\n",
       "        vertical-align: middle;\n",
       "    }\n",
       "\n",
       "    .dataframe tbody tr th {\n",
       "        vertical-align: top;\n",
       "    }\n",
       "\n",
       "    .dataframe thead th {\n",
       "        text-align: right;\n",
       "    }\n",
       "</style>\n",
       "<table border=\"1\" class=\"dataframe\">\n",
       "  <thead>\n",
       "    <tr style=\"text-align: right;\">\n",
       "      <th></th>\n",
       "      <th>Review</th>\n",
       "      <th>Rating</th>\n",
       "    </tr>\n",
       "  </thead>\n",
       "  <tbody>\n",
       "    <tr>\n",
       "      <th>0</th>\n",
       "      <td>book short not qualify novella guess pay free</td>\n",
       "      <td>1</td>\n",
       "    </tr>\n",
       "    <tr>\n",
       "      <th>1</th>\n",
       "      <td>not believe good review book like take lesson ...</td>\n",
       "      <td>1</td>\n",
       "    </tr>\n",
       "    <tr>\n",
       "      <th>2</th>\n",
       "      <td>love book great mystery love story read book a...</td>\n",
       "      <td>1</td>\n",
       "    </tr>\n",
       "    <tr>\n",
       "      <th>3</th>\n",
       "      <td>like reviewer find book creepy repulse bacchus...</td>\n",
       "      <td>1</td>\n",
       "    </tr>\n",
       "    <tr>\n",
       "      <th>4</th>\n",
       "      <td>book real let get people turn animal bizarre s...</td>\n",
       "      <td>1</td>\n",
       "    </tr>\n",
       "  </tbody>\n",
       "</table>\n",
       "</div>"
      ],
      "text/plain": [
       "                                              Review  Rating\n",
       "0      book short not qualify novella guess pay free       1\n",
       "1  not believe good review book like take lesson ...       1\n",
       "2  love book great mystery love story read book a...       1\n",
       "3  like reviewer find book creepy repulse bacchus...       1\n",
       "4  book real let get people turn animal bizarre s...       1"
      ]
     },
     "execution_count": 23,
     "metadata": {},
     "output_type": "execute_result"
    }
   ],
   "source": [
    "\n",
    "df = df[['Review', 'Rating']]\n",
    "\n",
    "# Check final columns and shape\n",
    "print(\"Final dataset columns:\", df.columns.tolist())\n",
    "print(\"Final dataset shape:\", df.shape)\n",
    "df.head()\n"
   ]
  },
  {
   "cell_type": "markdown",
   "id": "12a0a7db-96c1-451f-8860-817b9430c364",
   "metadata": {},
   "source": [
    "# Shuffle the dataset"
   ]
  },
  {
   "cell_type": "code",
   "execution_count": 37,
   "id": "ae03e246-91fe-499d-b691-cd62ab65ff90",
   "metadata": {},
   "outputs": [
    {
     "data": {
      "text/html": [
       "<div>\n",
       "<style scoped>\n",
       "    .dataframe tbody tr th:only-of-type {\n",
       "        vertical-align: middle;\n",
       "    }\n",
       "\n",
       "    .dataframe tbody tr th {\n",
       "        vertical-align: top;\n",
       "    }\n",
       "\n",
       "    .dataframe thead th {\n",
       "        text-align: right;\n",
       "    }\n",
       "</style>\n",
       "<table border=\"1\" class=\"dataframe\">\n",
       "  <thead>\n",
       "    <tr style=\"text-align: right;\">\n",
       "      <th></th>\n",
       "      <th>Review</th>\n",
       "      <th>Rating</th>\n",
       "    </tr>\n",
       "  </thead>\n",
       "  <tbody>\n",
       "    <tr>\n",
       "      <th>0</th>\n",
       "      <td>book make wish young explore sexuality college...</td>\n",
       "      <td>4</td>\n",
       "    </tr>\n",
       "    <tr>\n",
       "      <th>1</th>\n",
       "      <td>dull moment get catch page rachel friend danny...</td>\n",
       "      <td>4</td>\n",
       "    </tr>\n",
       "    <tr>\n",
       "      <th>2</th>\n",
       "      <td>movie man s sleep discover s secret undergroun...</td>\n",
       "      <td>5</td>\n",
       "    </tr>\n",
       "    <tr>\n",
       "      <th>3</th>\n",
       "      <td>joann carter fill lovely story vivid descripti...</td>\n",
       "      <td>4</td>\n",
       "    </tr>\n",
       "    <tr>\n",
       "      <th>4</th>\n",
       "      <td>short novella quick read story interesting ins...</td>\n",
       "      <td>4</td>\n",
       "    </tr>\n",
       "  </tbody>\n",
       "</table>\n",
       "</div>"
      ],
      "text/plain": [
       "                                              Review  Rating\n",
       "0  book make wish young explore sexuality college...       4\n",
       "1  dull moment get catch page rachel friend danny...       4\n",
       "2  movie man s sleep discover s secret undergroun...       5\n",
       "3  joann carter fill lovely story vivid descripti...       4\n",
       "4  short novella quick read story interesting ins...       4"
      ]
     },
     "execution_count": 37,
     "metadata": {},
     "output_type": "execute_result"
    }
   ],
   "source": [
    "# Shuffle the dataset\n",
    "df = df.sample(frac=1, random_state=42).reset_index(drop=True)\n",
    "\n",
    "# Preview the first few rows\n",
    "df.head()\n"
   ]
  },
  {
   "cell_type": "markdown",
   "id": "a1dd26c2-454f-43ab-9b5c-107066ac9ee1",
   "metadata": {},
   "source": [
    "# Train-Test Split"
   ]
  },
  {
   "cell_type": "code",
   "execution_count": 38,
   "id": "32927ca5-17d0-44f4-928c-87f597f4d126",
   "metadata": {},
   "outputs": [
    {
     "name": "stdout",
     "output_type": "stream",
     "text": [
      "Training set shape: (29348,)\n",
      "Testing set shape: (7338,)\n"
     ]
    }
   ],
   "source": [
    "from sklearn.model_selection import train_test_split\n",
    "\n",
    "# Features and target\n",
    "X = df['Review']\n",
    "y = df['Rating']\n",
    "\n",
    "# Split into train and test sets (80% train, 20% test)\n",
    "X_train, X_test, y_train, y_test = train_test_split(\n",
    "    X, y, test_size=0.2, random_state=42, stratify=y\n",
    ")\n",
    "\n",
    "# Check shapes\n",
    "print(\"Training set shape:\", X_train.shape)\n",
    "print(\"Testing set shape:\", X_test.shape)\n"
   ]
  },
  {
   "cell_type": "code",
   "execution_count": 39,
   "id": "4d960d5e-ff59-40f4-990e-40d1f15076b4",
   "metadata": {},
   "outputs": [
    {
     "name": "stdout",
     "output_type": "stream",
     "text": [
      "Training set saved at: ..\\data\\new data\\imbalanced_train.csv\n",
      "Testing set saved at: ..\\data\\new data\\imbalanced_test.csv\n"
     ]
    }
   ],
   "source": [
    "# Save train and test sets to CSV files\n",
    "train_data = pd.DataFrame({'Review': X_train, 'Rating': y_train})\n",
    "test_data = pd.DataFrame({'Review': X_test, 'Rating': y_test})\n",
    "\n",
    "train_csv_path = r\"..\\data\\new data\\imbalanced_train.csv\"\n",
    "test_csv_path = r\"..\\data\\new data\\imbalanced_test.csv\"\n",
    "\n",
    "train_data.to_csv(train_csv_path, index=False, encoding='utf-8')\n",
    "test_data.to_csv(test_csv_path, index=False, encoding='utf-8')\n",
    "\n",
    "print(f\"Training set saved at: {train_csv_path}\")\n",
    "print(f\"Testing set saved at: {test_csv_path}\")"
   ]
  },
  {
   "cell_type": "code",
   "execution_count": 40,
   "id": "0378cb59-5344-482d-b188-10766ef0f45c",
   "metadata": {},
   "outputs": [
    {
     "name": "stdout",
     "output_type": "stream",
     "text": [
      "X_train shape: (29348,)\n",
      "X_test shape: (7338,)\n",
      "y_train distribution:\n",
      " Rating\n",
      "4    13876\n",
      "5     9348\n",
      "3     2778\n",
      "2     2326\n",
      "1     1020\n",
      "Name: count, dtype: int64\n",
      "y_test distribution:\n",
      " Rating\n",
      "4    3470\n",
      "5    2337\n",
      "3     694\n",
      "2     582\n",
      "1     255\n",
      "Name: count, dtype: int64\n"
     ]
    }
   ],
   "source": [
    "\n",
    "\n",
    "# Convert lists to pandas Series\n",
    "X_train = pd.Series(X_train)\n",
    "X_test = pd.Series(X_test)\n",
    "y_train = pd.Series(y_train)\n",
    "y_test = pd.Series(y_test)\n",
    "\n",
    "# Now you can check shape and value counts\n",
    "print(\"X_train shape:\", X_train.shape)\n",
    "print(\"X_test shape:\", X_test.shape)\n",
    "print(\"y_train distribution:\\n\", y_train.value_counts())\n",
    "print(\"y_test distribution:\\n\", y_test.value_counts())"
   ]
  },
  {
   "cell_type": "markdown",
   "id": "8dcbe196-33ed-4ee2-b293-7f89deb0e03a",
   "metadata": {},
   "source": [
    "# Text Feature Extraction using TF-IDF Vectorizer"
   ]
  },
  {
   "cell_type": "code",
   "execution_count": 41,
   "id": "a3529e9b-c9ab-431f-8573-d2fa42271628",
   "metadata": {},
   "outputs": [
    {
     "name": "stdout",
     "output_type": "stream",
     "text": [
      "Training TF-IDF shape: (29348, 15000)\n",
      "Testing TF-IDF shape: (7338, 15000)\n"
     ]
    }
   ],
   "source": [
    "from sklearn.feature_extraction.text import TfidfVectorizer\n",
    "\n",
    "vectorizer = TfidfVectorizer(\n",
    "    sublinear_tf=True,\n",
    "    max_features=15000,   # expand features\n",
    "    ngram_range=(1, 3),   # unigrams + bigrams + trigrams\n",
    "    min_df=2,\n",
    "    max_df=0.95\n",
    ")\n",
    "\n",
    "\n",
    "\n",
    "# Fit TF-IDF on training data and transform\n",
    "X_train_tfidf = vectorizer.fit_transform(X_train)\n",
    "\n",
    "# Transform test data\n",
    "X_test_tfidf = vectorizer.transform(X_test)\n",
    "\n",
    "print(\"Training TF-IDF shape:\", X_train_tfidf.shape)\n",
    "print(\"Testing TF-IDF shape:\", X_test_tfidf.shape)\n"
   ]
  },
  {
   "cell_type": "code",
   "execution_count": 42,
   "id": "08a6ea58-eabb-4502-80bd-1841e423a6f8",
   "metadata": {},
   "outputs": [],
   "source": [
    "from sklearn.utils.class_weight import compute_class_weight\n",
    "\n",
    "\n",
    "classes = np.unique(y_train)\n",
    "class_weights = compute_class_weight(class_weight='balanced', classes=classes, y=y_train)\n",
    "class_weights_dict = dict(zip(classes, class_weights))\n",
    "\n"
   ]
  },
  {
   "cell_type": "code",
   "execution_count": 43,
   "id": "07afae2c-98a6-48de-a9d5-0a29df3e9115",
   "metadata": {},
   "outputs": [
    {
     "name": "stdout",
     "output_type": "stream",
     "text": [
      "(29348, 15000)\n",
      "(7338, 15000)\n"
     ]
    }
   ],
   "source": [
    "print(X_train_tfidf.shape)\n",
    "print(X_test_tfidf.shape)\n"
   ]
  },
  {
   "cell_type": "code",
   "execution_count": 44,
   "id": "c9576638-27ea-4ed1-a7fc-50b345b28674",
   "metadata": {},
   "outputs": [
    {
     "name": "stdout",
     "output_type": "stream",
     "text": [
      "Training shape after feature selection: (29348, 15000)\n",
      "Testing shape after feature selection: (7338, 15000)\n"
     ]
    },
    {
     "name": "stderr",
     "output_type": "stream",
     "text": [
      "C:\\Users\\sreel\\AppData\\Roaming\\Python\\Python313\\site-packages\\sklearn\\feature_selection\\_univariate_selection.py:782: UserWarning: k=35000 is greater than n_features=15000. All the features will be returned.\n",
      "  warnings.warn(\n"
     ]
    }
   ],
   "source": [
    "# -----------------------------\n",
    "#  Feature Selection (chi²)\n",
    "\n",
    "from sklearn.feature_selection import SelectKBest, chi2\n",
    "\n",
    "k = 35000  # Keep top 15,000 features\n",
    "selector = SelectKBest(chi2, k=k)\n",
    "X_train_selected = selector.fit_transform(X_train_tfidf, y_train)\n",
    "X_test_selected = selector.transform(X_test_tfidf)\n",
    "\n",
    "print(\"Training shape after feature selection:\", X_train_selected.shape)\n",
    "print(\"Testing shape after feature selection:\", X_test_selected.shape)"
   ]
  },
  {
   "cell_type": "markdown",
   "id": "fb01ae90-a9da-41bc-89c8-2ad2f7925a78",
   "metadata": {},
   "source": [
    "# Convert TF-IDF Matrices to DataFrames"
   ]
  },
  {
   "cell_type": "code",
   "execution_count": 45,
   "id": "f9e888b6-3d13-4ec4-9621-667c5747b5fe",
   "metadata": {},
   "outputs": [
    {
     "name": "stdout",
     "output_type": "stream",
     "text": [
      "\n",
      "Train TF-IDF DataFrame shape: (29348, 15000)\n",
      "Test TF-IDF DataFrame shape: (7338, 15000)\n"
     ]
    },
    {
     "data": {
      "text/html": [
       "<div>\n",
       "<style scoped>\n",
       "    .dataframe tbody tr th:only-of-type {\n",
       "        vertical-align: middle;\n",
       "    }\n",
       "\n",
       "    .dataframe tbody tr th {\n",
       "        vertical-align: top;\n",
       "    }\n",
       "\n",
       "    .dataframe thead th {\n",
       "        text-align: right;\n",
       "    }\n",
       "</style>\n",
       "<table border=\"1\" class=\"dataframe\">\n",
       "  <thead>\n",
       "    <tr style=\"text-align: right;\">\n",
       "      <th></th>\n",
       "      <th>099</th>\n",
       "      <th>10</th>\n",
       "      <th>10 minute</th>\n",
       "      <th>10 year</th>\n",
       "      <th>10 year old</th>\n",
       "      <th>100</th>\n",
       "      <th>100 page</th>\n",
       "      <th>100 year</th>\n",
       "      <th>1000</th>\n",
       "      <th>101</th>\n",
       "      <th>...</th>\n",
       "      <th>zombie</th>\n",
       "      <th>zombie apocalypse</th>\n",
       "      <th>zombie book</th>\n",
       "      <th>zombie books</th>\n",
       "      <th>zombie story</th>\n",
       "      <th>zone</th>\n",
       "      <th>zorn</th>\n",
       "      <th>zorn warrior</th>\n",
       "      <th>zu</th>\n",
       "      <th>zum</th>\n",
       "    </tr>\n",
       "  </thead>\n",
       "  <tbody>\n",
       "    <tr>\n",
       "      <th>0</th>\n",
       "      <td>0.0</td>\n",
       "      <td>0.125026</td>\n",
       "      <td>0.0</td>\n",
       "      <td>0.152135</td>\n",
       "      <td>0.169404</td>\n",
       "      <td>0.0</td>\n",
       "      <td>0.0</td>\n",
       "      <td>0.0</td>\n",
       "      <td>0.0</td>\n",
       "      <td>0.0</td>\n",
       "      <td>...</td>\n",
       "      <td>0.0</td>\n",
       "      <td>0.0</td>\n",
       "      <td>0.0</td>\n",
       "      <td>0.0</td>\n",
       "      <td>0.0</td>\n",
       "      <td>0.0</td>\n",
       "      <td>0.0</td>\n",
       "      <td>0.0</td>\n",
       "      <td>0.0</td>\n",
       "      <td>0.0</td>\n",
       "    </tr>\n",
       "    <tr>\n",
       "      <th>1</th>\n",
       "      <td>0.0</td>\n",
       "      <td>0.000000</td>\n",
       "      <td>0.0</td>\n",
       "      <td>0.000000</td>\n",
       "      <td>0.000000</td>\n",
       "      <td>0.0</td>\n",
       "      <td>0.0</td>\n",
       "      <td>0.0</td>\n",
       "      <td>0.0</td>\n",
       "      <td>0.0</td>\n",
       "      <td>...</td>\n",
       "      <td>0.0</td>\n",
       "      <td>0.0</td>\n",
       "      <td>0.0</td>\n",
       "      <td>0.0</td>\n",
       "      <td>0.0</td>\n",
       "      <td>0.0</td>\n",
       "      <td>0.0</td>\n",
       "      <td>0.0</td>\n",
       "      <td>0.0</td>\n",
       "      <td>0.0</td>\n",
       "    </tr>\n",
       "    <tr>\n",
       "      <th>2</th>\n",
       "      <td>0.0</td>\n",
       "      <td>0.000000</td>\n",
       "      <td>0.0</td>\n",
       "      <td>0.000000</td>\n",
       "      <td>0.000000</td>\n",
       "      <td>0.0</td>\n",
       "      <td>0.0</td>\n",
       "      <td>0.0</td>\n",
       "      <td>0.0</td>\n",
       "      <td>0.0</td>\n",
       "      <td>...</td>\n",
       "      <td>0.0</td>\n",
       "      <td>0.0</td>\n",
       "      <td>0.0</td>\n",
       "      <td>0.0</td>\n",
       "      <td>0.0</td>\n",
       "      <td>0.0</td>\n",
       "      <td>0.0</td>\n",
       "      <td>0.0</td>\n",
       "      <td>0.0</td>\n",
       "      <td>0.0</td>\n",
       "    </tr>\n",
       "    <tr>\n",
       "      <th>3</th>\n",
       "      <td>0.0</td>\n",
       "      <td>0.000000</td>\n",
       "      <td>0.0</td>\n",
       "      <td>0.000000</td>\n",
       "      <td>0.000000</td>\n",
       "      <td>0.0</td>\n",
       "      <td>0.0</td>\n",
       "      <td>0.0</td>\n",
       "      <td>0.0</td>\n",
       "      <td>0.0</td>\n",
       "      <td>...</td>\n",
       "      <td>0.0</td>\n",
       "      <td>0.0</td>\n",
       "      <td>0.0</td>\n",
       "      <td>0.0</td>\n",
       "      <td>0.0</td>\n",
       "      <td>0.0</td>\n",
       "      <td>0.0</td>\n",
       "      <td>0.0</td>\n",
       "      <td>0.0</td>\n",
       "      <td>0.0</td>\n",
       "    </tr>\n",
       "    <tr>\n",
       "      <th>4</th>\n",
       "      <td>0.0</td>\n",
       "      <td>0.000000</td>\n",
       "      <td>0.0</td>\n",
       "      <td>0.000000</td>\n",
       "      <td>0.000000</td>\n",
       "      <td>0.0</td>\n",
       "      <td>0.0</td>\n",
       "      <td>0.0</td>\n",
       "      <td>0.0</td>\n",
       "      <td>0.0</td>\n",
       "      <td>...</td>\n",
       "      <td>0.0</td>\n",
       "      <td>0.0</td>\n",
       "      <td>0.0</td>\n",
       "      <td>0.0</td>\n",
       "      <td>0.0</td>\n",
       "      <td>0.0</td>\n",
       "      <td>0.0</td>\n",
       "      <td>0.0</td>\n",
       "      <td>0.0</td>\n",
       "      <td>0.0</td>\n",
       "    </tr>\n",
       "  </tbody>\n",
       "</table>\n",
       "<p>5 rows × 15000 columns</p>\n",
       "</div>"
      ],
      "text/plain": [
       "   099        10  10 minute   10 year  10 year old  100  100 page  100 year  \\\n",
       "0  0.0  0.125026        0.0  0.152135     0.169404  0.0       0.0       0.0   \n",
       "1  0.0  0.000000        0.0  0.000000     0.000000  0.0       0.0       0.0   \n",
       "2  0.0  0.000000        0.0  0.000000     0.000000  0.0       0.0       0.0   \n",
       "3  0.0  0.000000        0.0  0.000000     0.000000  0.0       0.0       0.0   \n",
       "4  0.0  0.000000        0.0  0.000000     0.000000  0.0       0.0       0.0   \n",
       "\n",
       "   1000  101  ...  zombie  zombie apocalypse  zombie book  zombie books  \\\n",
       "0   0.0  0.0  ...     0.0                0.0          0.0           0.0   \n",
       "1   0.0  0.0  ...     0.0                0.0          0.0           0.0   \n",
       "2   0.0  0.0  ...     0.0                0.0          0.0           0.0   \n",
       "3   0.0  0.0  ...     0.0                0.0          0.0           0.0   \n",
       "4   0.0  0.0  ...     0.0                0.0          0.0           0.0   \n",
       "\n",
       "   zombie story  zone  zorn  zorn warrior   zu  zum  \n",
       "0           0.0   0.0   0.0           0.0  0.0  0.0  \n",
       "1           0.0   0.0   0.0           0.0  0.0  0.0  \n",
       "2           0.0   0.0   0.0           0.0  0.0  0.0  \n",
       "3           0.0   0.0   0.0           0.0  0.0  0.0  \n",
       "4           0.0   0.0   0.0           0.0  0.0  0.0  \n",
       "\n",
       "[5 rows x 15000 columns]"
      ]
     },
     "execution_count": 45,
     "metadata": {},
     "output_type": "execute_result"
    }
   ],
   "source": [
    "# Get feature names from the vectorizer\n",
    "feature_names = vectorizer.get_feature_names_out()\n",
    "\n",
    "# Convert TF-IDF matrices to DataFrames\n",
    "X_train_df = pd.DataFrame(X_train_tfidf.toarray(), columns=feature_names)\n",
    "X_test_df = pd.DataFrame(X_test_tfidf.toarray(), columns=feature_names)\n",
    "\n",
    "print(\"\\nTrain TF-IDF DataFrame shape:\", X_train_df.shape)\n",
    "print(\"Test TF-IDF DataFrame shape:\", X_test_df.shape)\n",
    "X_train_df.head()\n"
   ]
  },
  {
   "cell_type": "code",
   "execution_count": 46,
   "id": "f834575a-0c8a-48a1-a4b2-38a12871889f",
   "metadata": {},
   "outputs": [
    {
     "data": {
      "text/html": [
       "<div>\n",
       "<style scoped>\n",
       "    .dataframe tbody tr th:only-of-type {\n",
       "        vertical-align: middle;\n",
       "    }\n",
       "\n",
       "    .dataframe tbody tr th {\n",
       "        vertical-align: top;\n",
       "    }\n",
       "\n",
       "    .dataframe thead th {\n",
       "        text-align: right;\n",
       "    }\n",
       "</style>\n",
       "<table border=\"1\" class=\"dataframe\">\n",
       "  <thead>\n",
       "    <tr style=\"text-align: right;\">\n",
       "      <th></th>\n",
       "      <th>099</th>\n",
       "      <th>10</th>\n",
       "      <th>10 minute</th>\n",
       "      <th>10 year</th>\n",
       "      <th>10 year old</th>\n",
       "      <th>100</th>\n",
       "      <th>100 page</th>\n",
       "      <th>100 year</th>\n",
       "      <th>1000</th>\n",
       "      <th>101</th>\n",
       "      <th>...</th>\n",
       "      <th>zombie</th>\n",
       "      <th>zombie apocalypse</th>\n",
       "      <th>zombie book</th>\n",
       "      <th>zombie books</th>\n",
       "      <th>zombie story</th>\n",
       "      <th>zone</th>\n",
       "      <th>zorn</th>\n",
       "      <th>zorn warrior</th>\n",
       "      <th>zu</th>\n",
       "      <th>zum</th>\n",
       "    </tr>\n",
       "  </thead>\n",
       "  <tbody>\n",
       "    <tr>\n",
       "      <th>29343</th>\n",
       "      <td>0.0</td>\n",
       "      <td>0.0</td>\n",
       "      <td>0.0</td>\n",
       "      <td>0.0</td>\n",
       "      <td>0.0</td>\n",
       "      <td>0.0</td>\n",
       "      <td>0.0</td>\n",
       "      <td>0.0</td>\n",
       "      <td>0.0</td>\n",
       "      <td>0.0</td>\n",
       "      <td>...</td>\n",
       "      <td>0.0</td>\n",
       "      <td>0.0</td>\n",
       "      <td>0.0</td>\n",
       "      <td>0.0</td>\n",
       "      <td>0.0</td>\n",
       "      <td>0.0</td>\n",
       "      <td>0.0</td>\n",
       "      <td>0.0</td>\n",
       "      <td>0.0</td>\n",
       "      <td>0.0</td>\n",
       "    </tr>\n",
       "    <tr>\n",
       "      <th>29344</th>\n",
       "      <td>0.0</td>\n",
       "      <td>0.0</td>\n",
       "      <td>0.0</td>\n",
       "      <td>0.0</td>\n",
       "      <td>0.0</td>\n",
       "      <td>0.0</td>\n",
       "      <td>0.0</td>\n",
       "      <td>0.0</td>\n",
       "      <td>0.0</td>\n",
       "      <td>0.0</td>\n",
       "      <td>...</td>\n",
       "      <td>0.0</td>\n",
       "      <td>0.0</td>\n",
       "      <td>0.0</td>\n",
       "      <td>0.0</td>\n",
       "      <td>0.0</td>\n",
       "      <td>0.0</td>\n",
       "      <td>0.0</td>\n",
       "      <td>0.0</td>\n",
       "      <td>0.0</td>\n",
       "      <td>0.0</td>\n",
       "    </tr>\n",
       "    <tr>\n",
       "      <th>29345</th>\n",
       "      <td>0.0</td>\n",
       "      <td>0.0</td>\n",
       "      <td>0.0</td>\n",
       "      <td>0.0</td>\n",
       "      <td>0.0</td>\n",
       "      <td>0.0</td>\n",
       "      <td>0.0</td>\n",
       "      <td>0.0</td>\n",
       "      <td>0.0</td>\n",
       "      <td>0.0</td>\n",
       "      <td>...</td>\n",
       "      <td>0.0</td>\n",
       "      <td>0.0</td>\n",
       "      <td>0.0</td>\n",
       "      <td>0.0</td>\n",
       "      <td>0.0</td>\n",
       "      <td>0.0</td>\n",
       "      <td>0.0</td>\n",
       "      <td>0.0</td>\n",
       "      <td>0.0</td>\n",
       "      <td>0.0</td>\n",
       "    </tr>\n",
       "    <tr>\n",
       "      <th>29346</th>\n",
       "      <td>0.0</td>\n",
       "      <td>0.0</td>\n",
       "      <td>0.0</td>\n",
       "      <td>0.0</td>\n",
       "      <td>0.0</td>\n",
       "      <td>0.0</td>\n",
       "      <td>0.0</td>\n",
       "      <td>0.0</td>\n",
       "      <td>0.0</td>\n",
       "      <td>0.0</td>\n",
       "      <td>...</td>\n",
       "      <td>0.0</td>\n",
       "      <td>0.0</td>\n",
       "      <td>0.0</td>\n",
       "      <td>0.0</td>\n",
       "      <td>0.0</td>\n",
       "      <td>0.0</td>\n",
       "      <td>0.0</td>\n",
       "      <td>0.0</td>\n",
       "      <td>0.0</td>\n",
       "      <td>0.0</td>\n",
       "    </tr>\n",
       "    <tr>\n",
       "      <th>29347</th>\n",
       "      <td>0.0</td>\n",
       "      <td>0.0</td>\n",
       "      <td>0.0</td>\n",
       "      <td>0.0</td>\n",
       "      <td>0.0</td>\n",
       "      <td>0.0</td>\n",
       "      <td>0.0</td>\n",
       "      <td>0.0</td>\n",
       "      <td>0.0</td>\n",
       "      <td>0.0</td>\n",
       "      <td>...</td>\n",
       "      <td>0.0</td>\n",
       "      <td>0.0</td>\n",
       "      <td>0.0</td>\n",
       "      <td>0.0</td>\n",
       "      <td>0.0</td>\n",
       "      <td>0.0</td>\n",
       "      <td>0.0</td>\n",
       "      <td>0.0</td>\n",
       "      <td>0.0</td>\n",
       "      <td>0.0</td>\n",
       "    </tr>\n",
       "  </tbody>\n",
       "</table>\n",
       "<p>5 rows × 15000 columns</p>\n",
       "</div>"
      ],
      "text/plain": [
       "       099   10  10 minute  10 year  10 year old  100  100 page  100 year  \\\n",
       "29343  0.0  0.0        0.0      0.0          0.0  0.0       0.0       0.0   \n",
       "29344  0.0  0.0        0.0      0.0          0.0  0.0       0.0       0.0   \n",
       "29345  0.0  0.0        0.0      0.0          0.0  0.0       0.0       0.0   \n",
       "29346  0.0  0.0        0.0      0.0          0.0  0.0       0.0       0.0   \n",
       "29347  0.0  0.0        0.0      0.0          0.0  0.0       0.0       0.0   \n",
       "\n",
       "       1000  101  ...  zombie  zombie apocalypse  zombie book  zombie books  \\\n",
       "29343   0.0  0.0  ...     0.0                0.0          0.0           0.0   \n",
       "29344   0.0  0.0  ...     0.0                0.0          0.0           0.0   \n",
       "29345   0.0  0.0  ...     0.0                0.0          0.0           0.0   \n",
       "29346   0.0  0.0  ...     0.0                0.0          0.0           0.0   \n",
       "29347   0.0  0.0  ...     0.0                0.0          0.0           0.0   \n",
       "\n",
       "       zombie story  zone  zorn  zorn warrior   zu  zum  \n",
       "29343           0.0   0.0   0.0           0.0  0.0  0.0  \n",
       "29344           0.0   0.0   0.0           0.0  0.0  0.0  \n",
       "29345           0.0   0.0   0.0           0.0  0.0  0.0  \n",
       "29346           0.0   0.0   0.0           0.0  0.0  0.0  \n",
       "29347           0.0   0.0   0.0           0.0  0.0  0.0  \n",
       "\n",
       "[5 rows x 15000 columns]"
      ]
     },
     "execution_count": 46,
     "metadata": {},
     "output_type": "execute_result"
    }
   ],
   "source": [
    "X_train_df.tail()"
   ]
  },
  {
   "cell_type": "code",
   "execution_count": 47,
   "id": "66679deb-4d07-4b67-b58b-66ed294f0fe3",
   "metadata": {},
   "outputs": [
    {
     "name": "stdout",
     "output_type": "stream",
     "text": [
      "Word-level TF-IDF Vectorizer saved at: ..\\models\\tfidf_imbalanced.pkl\n"
     ]
    }
   ],
   "source": [
    "import os\n",
    "import joblib\n",
    "\n",
    "model_dir = r\"..\\models\"\n",
    "os.makedirs(model_dir, exist_ok=True)\n",
    "\n",
    "# Save word-level TF-IDF vectorizer\n",
    "word_vectorizer_path = os.path.join(model_dir, \"tfidf_imbalanced.pkl\")\n",
    "joblib.dump(vectorizer, word_vectorizer_path)\n",
    "\n",
    "print(f\"Word-level TF-IDF Vectorizer saved at: {word_vectorizer_path}\")"
   ]
  },
  {
   "cell_type": "markdown",
   "id": "c347c528-ae86-4967-98aa-335958b64990",
   "metadata": {},
   "source": [
    "# Training and Evaluation of Machine Learning Models"
   ]
  },
  {
   "cell_type": "code",
   "execution_count": 48,
   "id": "b16509b3-8351-4974-bc8a-fb4481a9afc6",
   "metadata": {},
   "outputs": [
    {
     "name": "stderr",
     "output_type": "stream",
     "text": [
      "C:\\Users\\sreel\\AppData\\Roaming\\Python\\Python313\\site-packages\\sklearn\\linear_model\\_logistic.py:1264: FutureWarning: 'multi_class' was deprecated in version 1.5 and will be removed in 1.7. From then on, it will always use 'multinomial'. Leave it to its default value to avoid this warning.\n",
      "  warnings.warn(\n",
      "C:\\Users\\sreel\\AppData\\Roaming\\Python\\Python313\\site-packages\\sklearn\\linear_model\\_sag.py:348: ConvergenceWarning: The max_iter was reached which means the coef_ did not converge\n",
      "  warnings.warn(\n"
     ]
    },
    {
     "name": "stdout",
     "output_type": "stream",
     "text": [
      "Accuracy: 0.5213\n",
      "\n",
      "Classification Report:\n",
      "              precision    recall  f1-score   support\n",
      "\n",
      "           1     0.2520    0.5059    0.3364       255\n",
      "           2     0.3653    0.3007    0.3299       582\n",
      "           3     0.2310    0.3545    0.2797       694\n",
      "           4     0.6507    0.5395    0.5899      3470\n",
      "           5     0.5834    0.6003    0.5917      2337\n",
      "\n",
      "    accuracy                         0.5213      7338\n",
      "   macro avg     0.4165    0.4602    0.4255      7338\n",
      "weighted avg     0.5531    0.5213    0.5317      7338\n",
      "\n"
     ]
    },
    {
     "data": {
      "image/png": "[encoded data removed]",
      "text/plain": [
       "<Figure size 640x480 with 2 Axes>"
      ]
     },
     "metadata": {},
     "output_type": "display_data"
    }
   ],
   "source": [
    "# Import required libraries\n",
    "from sklearn.linear_model import LogisticRegression\n",
    "from sklearn.metrics import accuracy_score, classification_report, confusion_matrix, ConfusionMatrixDisplay\n",
    "import matplotlib.pyplot as plt\n",
    "\n",
    "# Initialize Logistic Regression model\n",
    "lr_model = LogisticRegression(\n",
    "    max_iter=6000,\n",
    "    solver='saga',              # good for large sparse data\n",
    "    multi_class='multinomial',\n",
    "    class_weight=class_weights_dict,\n",
    "    random_state=42\n",
    ")\n",
    "\n",
    "# Train the model\n",
    "lr_model.fit(X_train_tfidf, y_train)\n",
    "\n",
    "# Predict on test data\n",
    "y_pred = lr_model.predict(X_test_tfidf)\n",
    "\n",
    "# Evaluate performance\n",
    "acc = accuracy_score(y_test, y_pred)\n",
    "print(f\"Accuracy: {acc:.4f}\")\n",
    "\n",
    "print(\"\\nClassification Report:\")\n",
    "print(classification_report(y_test, y_pred, digits=4))\n",
    "\n",
    "# Confusion Matrix\n",
    "cm = confusion_matrix(y_test, y_pred)\n",
    "disp = ConfusionMatrixDisplay(confusion_matrix=cm, display_labels=classes)\n",
    "disp.plot(cmap='Blues', values_format='d')\n",
    "plt.title(\"Confusion Matrix - Logistic Regression (imbalanced Data)\")\n",
    "plt.show()"
   ]
  },
  {
   "cell_type": "markdown",
   "id": "d4a37ea8-4172-4691-b2a4-43c08ffe92db",
   "metadata": {},
   "source": [
    "# Saving Trained Machine Learning Models"
   ]
  },
  {
   "cell_type": "code",
   "execution_count": 49,
   "id": "8c00f1f6-78b8-4267-884f-52b45c72b8cc",
   "metadata": {},
   "outputs": [
    {
     "name": "stdout",
     "output_type": "stream",
     "text": [
      "Model saved successfully at ..\\models\\Model_Imbalanced.pkl\n"
     ]
    }
   ],
   "source": [
    "import joblib\n",
    "import os\n",
    "\n",
    "model_dir = r\"..\\models\"\n",
    "os.makedirs(model_dir, exist_ok=True)  \n",
    "\n",
    "model_path = os.path.join(model_dir, 'Model_Imbalanced.pkl')\n",
    "\n",
    "# Save the trained Logistic Regression model\n",
    "joblib.dump(lr_model, model_path)\n",
    "print(f\"Model saved successfully at {model_path}\")\n",
    "\n",
    "\n"
   ]
  },
  {
   "cell_type": "code",
   "execution_count": null,
   "id": "33a093b7-7276-4dfb-a8f8-b6565d38054c",
   "metadata": {},
   "outputs": [],
   "source": []
  }
 ],
 "metadata": {
  "kernelspec": {
   "display_name": "Python [conda env:base] *",
   "language": "python",
   "name": "conda-base-py"
  },
  "language_info": {
   "codemirror_mode": {
    "name": "ipython",
    "version": 3
   },
   "file_extension": ".py",
   "mimetype": "text/x-python",
   "name": "python",
   "nbconvert_exporter": "python",
   "pygments_lexer": "ipython3",
   "version": "3.13.5"
  }
 },
 "nbformat": 4,
 "nbformat_minor": 5
}
