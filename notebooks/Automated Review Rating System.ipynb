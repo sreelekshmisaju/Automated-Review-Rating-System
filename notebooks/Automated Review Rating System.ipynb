{
 "cells": [
  {
   "cell_type": "markdown",
   "id": "04d00504-a976-47c7-8e0c-614ce19edc84",
   "metadata": {},
   "source": [
    "# Importing Libraries"
   ]
  },
  {
   "cell_type": "code",
   "execution_count": 15,
   "id": "07a70693-0ba4-4757-a9ca-dea3caa68de2",
   "metadata": {},
   "outputs": [],
   "source": [
    "import pandas as pd\n",
    "import numpy as np \n",
    "import matplotlib.pyplot as plt\n",
    "import seaborn as sns\n",
    "import re\n"
   ]
  },
  {
   "cell_type": "markdown",
   "id": "c0e2ca26-3a66-48b6-a003-896086f21841",
   "metadata": {},
   "source": [
    "# Load Data "
   ]
  },
  {
   "cell_type": "code",
   "execution_count": 16,
   "id": "67929bc8-52ed-43e6-b8d9-395498d1f830",
   "metadata": {},
   "outputs": [
    {
     "name": "stdout",
     "output_type": "stream",
     "text": [
      "Kindle_reviews dataset shape: (71221, 10)\n"
     ]
    }
   ],
   "source": [
    "\n",
    "\n",
    "# Load dataset safely, disabling mixed-type warning\n",
    "df = pd.read_csv(r\"..\\data\\Kaggle_dataset\\kindle_reviews.csv\", \n",
    "                 encoding='latin-1', \n",
    "                 low_memory=False)\n",
    "\n",
    "print(\"Kindle_reviews dataset shape:\", df.shape)\n",
    "\n"
   ]
  },
  {
   "cell_type": "markdown",
   "id": "ff4b4b62-786c-42f4-9493-67e6a3ff7934",
   "metadata": {},
   "source": [
    "# View Data"
   ]
  },
  {
   "cell_type": "code",
   "execution_count": 17,
   "id": "e291a4fe-e545-4ea0-91c8-df740e4b77ea",
   "metadata": {},
   "outputs": [
    {
     "name": "stdout",
     "output_type": "stream",
     "text": [
      "\n",
      "Kindle Reviews Dataset Overview:\n",
      "\n",
      "Dataset Shape: (71221, 10)\n",
      "\n",
      "Dataset Information:\n",
      "<class 'pandas.core.frame.DataFrame'>\n",
      "RangeIndex: 71221 entries, 0 to 71220\n",
      "Data columns (total 10 columns):\n",
      " #   Column          Non-Null Count  Dtype \n",
      "---  ------          --------------  ----- \n",
      " 0   Unnamed: 0      71221 non-null  int64 \n",
      " 1   asin            71221 non-null  object\n",
      " 2   helpful         71221 non-null  object\n",
      " 3   overall         71221 non-null  int64 \n",
      " 4   reviewText      71219 non-null  object\n",
      " 5   reviewTime      71221 non-null  object\n",
      " 6   reviewerID      71221 non-null  object\n",
      " 7   reviewerName    70644 non-null  object\n",
      " 8   summary         71206 non-null  object\n",
      " 9   unixReviewTime  71221 non-null  int64 \n",
      "dtypes: int64(3), object(7)\n",
      "memory usage: 5.4+ MB\n",
      "\n",
      "Statistical Summary:\n"
     ]
    },
    {
     "data": {
      "text/html": [
       "<div>\n",
       "<style scoped>\n",
       "    .dataframe tbody tr th:only-of-type {\n",
       "        vertical-align: middle;\n",
       "    }\n",
       "\n",
       "    .dataframe tbody tr th {\n",
       "        vertical-align: top;\n",
       "    }\n",
       "\n",
       "    .dataframe thead th {\n",
       "        text-align: right;\n",
       "    }\n",
       "</style>\n",
       "<table border=\"1\" class=\"dataframe\">\n",
       "  <thead>\n",
       "    <tr style=\"text-align: right;\">\n",
       "      <th></th>\n",
       "      <th>Unnamed: 0</th>\n",
       "      <th>overall</th>\n",
       "      <th>unixReviewTime</th>\n",
       "    </tr>\n",
       "  </thead>\n",
       "  <tbody>\n",
       "    <tr>\n",
       "      <th>count</th>\n",
       "      <td>71221.000000</td>\n",
       "      <td>71221.000000</td>\n",
       "      <td>7.122100e+04</td>\n",
       "    </tr>\n",
       "    <tr>\n",
       "      <th>mean</th>\n",
       "      <td>35611.000000</td>\n",
       "      <td>4.109125</td>\n",
       "      <td>1.354815e+09</td>\n",
       "    </tr>\n",
       "    <tr>\n",
       "      <th>std</th>\n",
       "      <td>20559.876098</td>\n",
       "      <td>1.166832</td>\n",
       "      <td>3.103961e+07</td>\n",
       "    </tr>\n",
       "    <tr>\n",
       "      <th>min</th>\n",
       "      <td>1.000000</td>\n",
       "      <td>1.000000</td>\n",
       "      <td>9.602496e+08</td>\n",
       "    </tr>\n",
       "    <tr>\n",
       "      <th>25%</th>\n",
       "      <td>17806.000000</td>\n",
       "      <td>4.000000</td>\n",
       "      <td>1.331338e+09</td>\n",
       "    </tr>\n",
       "    <tr>\n",
       "      <th>50%</th>\n",
       "      <td>35611.000000</td>\n",
       "      <td>5.000000</td>\n",
       "      <td>1.359072e+09</td>\n",
       "    </tr>\n",
       "    <tr>\n",
       "      <th>75%</th>\n",
       "      <td>53416.000000</td>\n",
       "      <td>5.000000</td>\n",
       "      <td>1.378339e+09</td>\n",
       "    </tr>\n",
       "    <tr>\n",
       "      <th>max</th>\n",
       "      <td>71221.000000</td>\n",
       "      <td>5.000000</td>\n",
       "      <td>1.405901e+09</td>\n",
       "    </tr>\n",
       "  </tbody>\n",
       "</table>\n",
       "</div>"
      ],
      "text/plain": [
       "         Unnamed: 0       overall  unixReviewTime\n",
       "count  71221.000000  71221.000000    7.122100e+04\n",
       "mean   35611.000000      4.109125    1.354815e+09\n",
       "std    20559.876098      1.166832    3.103961e+07\n",
       "min        1.000000      1.000000    9.602496e+08\n",
       "25%    17806.000000      4.000000    1.331338e+09\n",
       "50%    35611.000000      5.000000    1.359072e+09\n",
       "75%    53416.000000      5.000000    1.378339e+09\n",
       "max    71221.000000      5.000000    1.405901e+09"
      ]
     },
     "execution_count": 17,
     "metadata": {},
     "output_type": "execute_result"
    }
   ],
   "source": [
    "# Display basic information about the Kindle Reviews dataset\n",
    "\n",
    "print(\"\\nKindle Reviews Dataset Overview:\\n\")\n",
    "print(\"Dataset Shape:\", df.shape)\n",
    "\n",
    "# Dataset info\n",
    "print(\"\\nDataset Information:\")\n",
    "df.info()\n",
    "\n",
    "# Statistical summary (only for numeric columns)\n",
    "print(\"\\nStatistical Summary:\")\n",
    "df.describe()\n",
    "\n"
   ]
  },
  {
   "cell_type": "code",
   "execution_count": 18,
   "id": "955403bf-9f81-493f-a3b0-d1f045158171",
   "metadata": {},
   "outputs": [
    {
     "name": "stdout",
     "output_type": "stream",
     "text": [
      "\n",
      "Random 5 samples:\n"
     ]
    },
    {
     "data": {
      "text/html": [
       "<div>\n",
       "<style scoped>\n",
       "    .dataframe tbody tr th:only-of-type {\n",
       "        vertical-align: middle;\n",
       "    }\n",
       "\n",
       "    .dataframe tbody tr th {\n",
       "        vertical-align: top;\n",
       "    }\n",
       "\n",
       "    .dataframe thead th {\n",
       "        text-align: right;\n",
       "    }\n",
       "</style>\n",
       "<table border=\"1\" class=\"dataframe\">\n",
       "  <thead>\n",
       "    <tr style=\"text-align: right;\">\n",
       "      <th></th>\n",
       "      <th>Unnamed: 0</th>\n",
       "      <th>asin</th>\n",
       "      <th>helpful</th>\n",
       "      <th>overall</th>\n",
       "      <th>reviewText</th>\n",
       "      <th>reviewTime</th>\n",
       "      <th>reviewerID</th>\n",
       "      <th>reviewerName</th>\n",
       "      <th>summary</th>\n",
       "      <th>unixReviewTime</th>\n",
       "    </tr>\n",
       "  </thead>\n",
       "  <tbody>\n",
       "    <tr>\n",
       "      <th>70407</th>\n",
       "      <td>70408</td>\n",
       "      <td>B005OMWXZE</td>\n",
       "      <td>[0, 0]</td>\n",
       "      <td>5</td>\n",
       "      <td>This book was fantastic!!!!  Seriously, it was...</td>\n",
       "      <td>06 8, 2012</td>\n",
       "      <td>A1A7YPC6UBZZIY</td>\n",
       "      <td>Liz @ Fictional Candy</td>\n",
       "      <td>Beautiful and Emotional</td>\n",
       "      <td>1339113600</td>\n",
       "    </tr>\n",
       "    <tr>\n",
       "      <th>21104</th>\n",
       "      <td>21105</td>\n",
       "      <td>B0052N9ZJM</td>\n",
       "      <td>[7, 10]</td>\n",
       "      <td>5</td>\n",
       "      <td>In my eyes there is nothing more delicious tha...</td>\n",
       "      <td>05 27, 2011</td>\n",
       "      <td>A4SQFN8YODDVU</td>\n",
       "      <td>M. Lapierre</td>\n",
       "      <td>Fantastic!!!</td>\n",
       "      <td>1306454400</td>\n",
       "    </tr>\n",
       "    <tr>\n",
       "      <th>54732</th>\n",
       "      <td>54733</td>\n",
       "      <td>B006ML8JCW</td>\n",
       "      <td>[0, 0]</td>\n",
       "      <td>5</td>\n",
       "      <td>This was my first BDSM read ever and I really ...</td>\n",
       "      <td>07 10, 2012</td>\n",
       "      <td>A1EMF8I90E8KT2</td>\n",
       "      <td>Raquell</td>\n",
       "      <td>Excellent!</td>\n",
       "      <td>1341878400</td>\n",
       "    </tr>\n",
       "    <tr>\n",
       "      <th>23628</th>\n",
       "      <td>23629</td>\n",
       "      <td>B000JMLBHU</td>\n",
       "      <td>[0, 0]</td>\n",
       "      <td>5</td>\n",
       "      <td>I never read this great book growing up.  Now ...</td>\n",
       "      <td>03 31, 2013</td>\n",
       "      <td>A2G3C7LJGXLEGF</td>\n",
       "      <td>mcampey \"Music Lover\"</td>\n",
       "      <td>Newbie Tablet Reader</td>\n",
       "      <td>1364688000</td>\n",
       "    </tr>\n",
       "    <tr>\n",
       "      <th>15539</th>\n",
       "      <td>15540</td>\n",
       "      <td>B006PH59SU</td>\n",
       "      <td>[0, 0]</td>\n",
       "      <td>4</td>\n",
       "      <td>Short vampire vignettes, formulaic, vampire fi...</td>\n",
       "      <td>07 4, 2013</td>\n",
       "      <td>A2HZPUUZKXPD7K</td>\n",
       "      <td>Zenhip</td>\n",
       "      <td>Short and fun</td>\n",
       "      <td>1372896000</td>\n",
       "    </tr>\n",
       "  </tbody>\n",
       "</table>\n",
       "</div>"
      ],
      "text/plain": [
       "       Unnamed: 0        asin  helpful  overall  \\\n",
       "70407       70408  B005OMWXZE   [0, 0]        5   \n",
       "21104       21105  B0052N9ZJM  [7, 10]        5   \n",
       "54732       54733  B006ML8JCW   [0, 0]        5   \n",
       "23628       23629  B000JMLBHU   [0, 0]        5   \n",
       "15539       15540  B006PH59SU   [0, 0]        4   \n",
       "\n",
       "                                              reviewText   reviewTime  \\\n",
       "70407  This book was fantastic!!!!  Seriously, it was...   06 8, 2012   \n",
       "21104  In my eyes there is nothing more delicious tha...  05 27, 2011   \n",
       "54732  This was my first BDSM read ever and I really ...  07 10, 2012   \n",
       "23628  I never read this great book growing up.  Now ...  03 31, 2013   \n",
       "15539  Short vampire vignettes, formulaic, vampire fi...   07 4, 2013   \n",
       "\n",
       "           reviewerID           reviewerName                  summary  \\\n",
       "70407  A1A7YPC6UBZZIY  Liz @ Fictional Candy  Beautiful and Emotional   \n",
       "21104   A4SQFN8YODDVU            M. Lapierre             Fantastic!!!   \n",
       "54732  A1EMF8I90E8KT2                Raquell               Excellent!   \n",
       "23628  A2G3C7LJGXLEGF  mcampey \"Music Lover\"     Newbie Tablet Reader   \n",
       "15539  A2HZPUUZKXPD7K                 Zenhip            Short and fun   \n",
       "\n",
       "       unixReviewTime  \n",
       "70407      1339113600  \n",
       "21104      1306454400  \n",
       "54732      1341878400  \n",
       "23628      1364688000  \n",
       "15539      1372896000  "
      ]
     },
     "execution_count": 18,
     "metadata": {},
     "output_type": "execute_result"
    }
   ],
   "source": [
    "\n",
    "print(\"\\nRandom 5 samples:\")\n",
    "df.sample(5, random_state=42)\n"
   ]
  },
  {
   "cell_type": "code",
   "execution_count": 19,
   "id": "b81a1a11-a4e2-478e-808f-e3657673b054",
   "metadata": {},
   "outputs": [
    {
     "name": "stdout",
     "output_type": "stream",
     "text": [
      "\n",
      "First 5 rows:\n"
     ]
    },
    {
     "data": {
      "text/html": [
       "<div>\n",
       "<style scoped>\n",
       "    .dataframe tbody tr th:only-of-type {\n",
       "        vertical-align: middle;\n",
       "    }\n",
       "\n",
       "    .dataframe tbody tr th {\n",
       "        vertical-align: top;\n",
       "    }\n",
       "\n",
       "    .dataframe thead th {\n",
       "        text-align: right;\n",
       "    }\n",
       "</style>\n",
       "<table border=\"1\" class=\"dataframe\">\n",
       "  <thead>\n",
       "    <tr style=\"text-align: right;\">\n",
       "      <th></th>\n",
       "      <th>Unnamed: 0</th>\n",
       "      <th>asin</th>\n",
       "      <th>helpful</th>\n",
       "      <th>overall</th>\n",
       "      <th>reviewText</th>\n",
       "      <th>reviewTime</th>\n",
       "      <th>reviewerID</th>\n",
       "      <th>reviewerName</th>\n",
       "      <th>summary</th>\n",
       "      <th>unixReviewTime</th>\n",
       "    </tr>\n",
       "  </thead>\n",
       "  <tbody>\n",
       "    <tr>\n",
       "      <th>0</th>\n",
       "      <td>1</td>\n",
       "      <td>B006N9LBPU</td>\n",
       "      <td>[1, 1]</td>\n",
       "      <td>5</td>\n",
       "      <td>This was my first IR book I've read and it jus...</td>\n",
       "      <td>02 29, 2012</td>\n",
       "      <td>A10NXUUY7O58JI</td>\n",
       "      <td>christian parker</td>\n",
       "      <td>Loved It :)</td>\n",
       "      <td>1330473600</td>\n",
       "    </tr>\n",
       "    <tr>\n",
       "      <th>1</th>\n",
       "      <td>2</td>\n",
       "      <td>B003T0G6QU</td>\n",
       "      <td>[0, 0]</td>\n",
       "      <td>4</td>\n",
       "      <td>In this book Holly is looking for her mother w...</td>\n",
       "      <td>06 21, 2014</td>\n",
       "      <td>A3CMQYU4YPSAFM</td>\n",
       "      <td>Kathy</td>\n",
       "      <td>Presumed Dead</td>\n",
       "      <td>1403308800</td>\n",
       "    </tr>\n",
       "    <tr>\n",
       "      <th>2</th>\n",
       "      <td>3</td>\n",
       "      <td>B003CC15I4</td>\n",
       "      <td>[1, 2]</td>\n",
       "      <td>5</td>\n",
       "      <td>Here we have a story about Keli and Phillip Go...</td>\n",
       "      <td>10 9, 2013</td>\n",
       "      <td>A1FZV9IQRAQDUF</td>\n",
       "      <td>Jessica Gomez. (Athenajess)</td>\n",
       "      <td>You have to take a chance.</td>\n",
       "      <td>1381276800</td>\n",
       "    </tr>\n",
       "    <tr>\n",
       "      <th>3</th>\n",
       "      <td>4</td>\n",
       "      <td>B0061JQMM4</td>\n",
       "      <td>[1, 1]</td>\n",
       "      <td>4</td>\n",
       "      <td>I very much enjoyed reading about the Italian ...</td>\n",
       "      <td>02 26, 2013</td>\n",
       "      <td>A31XW1RTQ4ZG9W</td>\n",
       "      <td>C. Yates</td>\n",
       "      <td>Italian village and the Nazi</td>\n",
       "      <td>1361836800</td>\n",
       "    </tr>\n",
       "    <tr>\n",
       "      <th>4</th>\n",
       "      <td>5</td>\n",
       "      <td>B0041KLBEE</td>\n",
       "      <td>[0, 0]</td>\n",
       "      <td>4</td>\n",
       "      <td>Readers may be attracted by the curious title ...</td>\n",
       "      <td>11 12, 2010</td>\n",
       "      <td>A13QTZ8CIMHHG4</td>\n",
       "      <td>LAS Reviewer \"The Long and the Short Of It Re...</td>\n",
       "      <td>Engaging Read</td>\n",
       "      <td>1289520000</td>\n",
       "    </tr>\n",
       "  </tbody>\n",
       "</table>\n",
       "</div>"
      ],
      "text/plain": [
       "   Unnamed: 0        asin helpful  overall  \\\n",
       "0           1  B006N9LBPU  [1, 1]        5   \n",
       "1           2  B003T0G6QU  [0, 0]        4   \n",
       "2           3  B003CC15I4  [1, 2]        5   \n",
       "3           4  B0061JQMM4  [1, 1]        4   \n",
       "4           5  B0041KLBEE  [0, 0]        4   \n",
       "\n",
       "                                          reviewText   reviewTime  \\\n",
       "0  This was my first IR book I've read and it jus...  02 29, 2012   \n",
       "1  In this book Holly is looking for her mother w...  06 21, 2014   \n",
       "2  Here we have a story about Keli and Phillip Go...   10 9, 2013   \n",
       "3  I very much enjoyed reading about the Italian ...  02 26, 2013   \n",
       "4  Readers may be attracted by the curious title ...  11 12, 2010   \n",
       "\n",
       "       reviewerID                                      reviewerName  \\\n",
       "0  A10NXUUY7O58JI                                  christian parker   \n",
       "1  A3CMQYU4YPSAFM                                             Kathy   \n",
       "2  A1FZV9IQRAQDUF                       Jessica Gomez. (Athenajess)   \n",
       "3  A31XW1RTQ4ZG9W                                          C. Yates   \n",
       "4  A13QTZ8CIMHHG4  LAS Reviewer \"The Long and the Short Of It Re...   \n",
       "\n",
       "                        summary  unixReviewTime  \n",
       "0                   Loved It :)      1330473600  \n",
       "1                 Presumed Dead      1403308800  \n",
       "2    You have to take a chance.      1381276800  \n",
       "3  Italian village and the Nazi      1361836800  \n",
       "4                 Engaging Read      1289520000  "
      ]
     },
     "execution_count": 19,
     "metadata": {},
     "output_type": "execute_result"
    }
   ],
   "source": [
    "# View sample records\n",
    "print(\"\\nFirst 5 rows:\")\n",
    "df.head()\n"
   ]
  },
  {
   "cell_type": "code",
   "execution_count": 20,
   "id": "ad13bb7d-6353-496d-b02b-5a1fa73534ce",
   "metadata": {},
   "outputs": [
    {
     "name": "stdout",
     "output_type": "stream",
     "text": [
      "\n",
      "Last 5 rows:\n"
     ]
    },
    {
     "data": {
      "text/html": [
       "<div>\n",
       "<style scoped>\n",
       "    .dataframe tbody tr th:only-of-type {\n",
       "        vertical-align: middle;\n",
       "    }\n",
       "\n",
       "    .dataframe tbody tr th {\n",
       "        vertical-align: top;\n",
       "    }\n",
       "\n",
       "    .dataframe thead th {\n",
       "        text-align: right;\n",
       "    }\n",
       "</style>\n",
       "<table border=\"1\" class=\"dataframe\">\n",
       "  <thead>\n",
       "    <tr style=\"text-align: right;\">\n",
       "      <th></th>\n",
       "      <th>Unnamed: 0</th>\n",
       "      <th>asin</th>\n",
       "      <th>helpful</th>\n",
       "      <th>overall</th>\n",
       "      <th>reviewText</th>\n",
       "      <th>reviewTime</th>\n",
       "      <th>reviewerID</th>\n",
       "      <th>reviewerName</th>\n",
       "      <th>summary</th>\n",
       "      <th>unixReviewTime</th>\n",
       "    </tr>\n",
       "  </thead>\n",
       "  <tbody>\n",
       "    <tr>\n",
       "      <th>71216</th>\n",
       "      <td>71217</td>\n",
       "      <td>B006GFXYPQ</td>\n",
       "      <td>[4, 4]</td>\n",
       "      <td>5</td>\n",
       "      <td>I highly recommend this novel and I'm looking ...</td>\n",
       "      <td>03 10, 2012</td>\n",
       "      <td>A1LVMI0YBYDIF5</td>\n",
       "      <td>Rebecca Scarberry</td>\n",
       "      <td>THE TWISTED WOODSTOCKS</td>\n",
       "      <td>1331337600</td>\n",
       "    </tr>\n",
       "    <tr>\n",
       "      <th>71217</th>\n",
       "      <td>71218</td>\n",
       "      <td>B005IZUXXQ</td>\n",
       "      <td>[4, 5]</td>\n",
       "      <td>2</td>\n",
       "      <td>I agree with A CUSTOMER.  The first two were g...</td>\n",
       "      <td>11 22, 2011</td>\n",
       "      <td>A3F07ILXBN36LD</td>\n",
       "      <td>Edie O.</td>\n",
       "      <td>Disappointing.</td>\n",
       "      <td>1321920000</td>\n",
       "    </tr>\n",
       "    <tr>\n",
       "      <th>71218</th>\n",
       "      <td>71219</td>\n",
       "      <td>B0048EK1QW</td>\n",
       "      <td>[1, 1]</td>\n",
       "      <td>5</td>\n",
       "      <td>I am so glad I read this book. This book of gu...</td>\n",
       "      <td>09 28, 2013</td>\n",
       "      <td>A2QTW1LG2JGUEO</td>\n",
       "      <td>Amazon Customer</td>\n",
       "      <td>gotta read</td>\n",
       "      <td>1380326400</td>\n",
       "    </tr>\n",
       "    <tr>\n",
       "      <th>71219</th>\n",
       "      <td>71220</td>\n",
       "      <td>B0068UAZ8I</td>\n",
       "      <td>[1, 4]</td>\n",
       "      <td>1</td>\n",
       "      <td>Not my thing at all. Quite disgusted an author...</td>\n",
       "      <td>09 10, 2013</td>\n",
       "      <td>A1825GF4MPES5T</td>\n",
       "      <td>A. Womack</td>\n",
       "      <td>Not a good thing</td>\n",
       "      <td>1378771200</td>\n",
       "    </tr>\n",
       "    <tr>\n",
       "      <th>71220</th>\n",
       "      <td>71221</td>\n",
       "      <td>B006DJSRIO</td>\n",
       "      <td>[1, 1]</td>\n",
       "      <td>4</td>\n",
       "      <td>Liked the story but wish it was longer. Will d...</td>\n",
       "      <td>09 7, 2013</td>\n",
       "      <td>A217VNB3JD8MCL</td>\n",
       "      <td>AnnaMarie</td>\n",
       "      <td>Willow Creek Series</td>\n",
       "      <td>1378512000</td>\n",
       "    </tr>\n",
       "  </tbody>\n",
       "</table>\n",
       "</div>"
      ],
      "text/plain": [
       "       Unnamed: 0        asin helpful  overall  \\\n",
       "71216       71217  B006GFXYPQ  [4, 4]        5   \n",
       "71217       71218  B005IZUXXQ  [4, 5]        2   \n",
       "71218       71219  B0048EK1QW  [1, 1]        5   \n",
       "71219       71220  B0068UAZ8I  [1, 4]        1   \n",
       "71220       71221  B006DJSRIO  [1, 1]        4   \n",
       "\n",
       "                                              reviewText   reviewTime  \\\n",
       "71216  I highly recommend this novel and I'm looking ...  03 10, 2012   \n",
       "71217  I agree with A CUSTOMER.  The first two were g...  11 22, 2011   \n",
       "71218  I am so glad I read this book. This book of gu...  09 28, 2013   \n",
       "71219  Not my thing at all. Quite disgusted an author...  09 10, 2013   \n",
       "71220  Liked the story but wish it was longer. Will d...   09 7, 2013   \n",
       "\n",
       "           reviewerID       reviewerName                 summary  \\\n",
       "71216  A1LVMI0YBYDIF5  Rebecca Scarberry  THE TWISTED WOODSTOCKS   \n",
       "71217  A3F07ILXBN36LD            Edie O.          Disappointing.   \n",
       "71218  A2QTW1LG2JGUEO    Amazon Customer              gotta read   \n",
       "71219  A1825GF4MPES5T          A. Womack        Not a good thing   \n",
       "71220  A217VNB3JD8MCL          AnnaMarie     Willow Creek Series   \n",
       "\n",
       "       unixReviewTime  \n",
       "71216      1331337600  \n",
       "71217      1321920000  \n",
       "71218      1380326400  \n",
       "71219      1378771200  \n",
       "71220      1378512000  "
      ]
     },
     "execution_count": 20,
     "metadata": {},
     "output_type": "execute_result"
    }
   ],
   "source": [
    "\n",
    "print(\"\\nLast 5 rows:\")\n",
    "df.tail()"
   ]
  },
  {
   "cell_type": "markdown",
   "id": "94cd19f6-e384-4a3a-8af6-f1de3fa4bdae",
   "metadata": {},
   "source": [
    "# Rename columns"
   ]
  },
  {
   "cell_type": "code",
   "execution_count": 21,
   "id": "cc1220fd-de43-46d1-91c0-4a1402ed57fa",
   "metadata": {},
   "outputs": [
    {
     "name": "stdout",
     "output_type": "stream",
     "text": [
      "Columns after renaming:\n",
      " ['Unnamed: 0', 'asin', 'helpful', 'Rating', 'Review', 'reviewTime', 'reviewerID', 'reviewerName', 'summary', 'unixReviewTime']\n"
     ]
    }
   ],
   "source": [
    "# Rename columns for better readability and consistency\n",
    "df.rename(columns={'reviewText': 'Review', 'overall': 'Rating'}, inplace=True)\n",
    "\n",
    "# Confirm the renaming\n",
    "print(\"Columns after renaming:\\n\", df.columns.tolist())\n"
   ]
  },
  {
   "cell_type": "markdown",
   "id": "81e06721-ac7d-48ee-aefc-898c1f0a6297",
   "metadata": {},
   "source": [
    "# Count missing values"
   ]
  },
  {
   "cell_type": "code",
   "execution_count": 22,
   "id": "1da9e7e2-0035-4654-b3f0-e7bc437a2e57",
   "metadata": {},
   "outputs": [
    {
     "name": "stdout",
     "output_type": "stream",
     "text": [
      "\n",
      "Missing Data Count per Column:\n",
      "Unnamed: 0          0\n",
      "asin                0\n",
      "helpful             0\n",
      "Rating              0\n",
      "Review              2\n",
      "reviewTime          0\n",
      "reviewerID          0\n",
      "reviewerName      577\n",
      "summary            15\n",
      "unixReviewTime      0\n",
      "dtype: int64\n",
      "\n",
      "Total Missing Values in Dataset: 594\n"
     ]
    }
   ],
   "source": [
    "# Count missing values in each column\n",
    "missing_data = df.isnull().sum()\n",
    "\n",
    "print(\"\\nMissing Data Count per Column:\")\n",
    "print(missing_data)\n",
    "\n",
    "# Total missing values in the dataset\n",
    "total_missing = missing_data.sum()\n",
    "print(\"\\nTotal Missing Values in Dataset:\", total_missing)\n",
    "\n"
   ]
  },
  {
   "cell_type": "markdown",
   "id": "0f4f7460-37f3-4018-88f2-1f31ccb73dcd",
   "metadata": {},
   "source": [
    "# Handle Missing Data"
   ]
  },
  {
   "cell_type": "code",
   "execution_count": 23,
   "id": "9e1c9e64-7c35-4a24-939b-f7e2d1157b9c",
   "metadata": {},
   "outputs": [
    {
     "name": "stdout",
     "output_type": "stream",
     "text": [
      "Missing values in Review and Rating before cleaning:\n",
      "Review    2\n",
      "Rating    0\n",
      "dtype: int64\n",
      "\n",
      "After handling missing data:\n",
      "Review    0\n",
      "Rating    0\n",
      "dtype: int64\n",
      "Dataset shape: (71219, 10)\n",
      "\n",
      "Dataset Information:\n",
      "<class 'pandas.core.frame.DataFrame'>\n",
      "RangeIndex: 71219 entries, 0 to 71218\n",
      "Data columns (total 10 columns):\n",
      " #   Column          Non-Null Count  Dtype \n",
      "---  ------          --------------  ----- \n",
      " 0   Unnamed: 0      71219 non-null  int64 \n",
      " 1   asin            71219 non-null  object\n",
      " 2   helpful         71219 non-null  object\n",
      " 3   Rating          71219 non-null  int64 \n",
      " 4   Review          71219 non-null  object\n",
      " 5   reviewTime      71219 non-null  object\n",
      " 6   reviewerID      71219 non-null  object\n",
      " 7   reviewerName    70642 non-null  object\n",
      " 8   summary         71204 non-null  object\n",
      " 9   unixReviewTime  71219 non-null  int64 \n",
      "dtypes: int64(3), object(7)\n",
      "memory usage: 5.4+ MB\n",
      "\n",
      "First 5 records:\n"
     ]
    },
    {
     "data": {
      "text/html": [
       "<div>\n",
       "<style scoped>\n",
       "    .dataframe tbody tr th:only-of-type {\n",
       "        vertical-align: middle;\n",
       "    }\n",
       "\n",
       "    .dataframe tbody tr th {\n",
       "        vertical-align: top;\n",
       "    }\n",
       "\n",
       "    .dataframe thead th {\n",
       "        text-align: right;\n",
       "    }\n",
       "</style>\n",
       "<table border=\"1\" class=\"dataframe\">\n",
       "  <thead>\n",
       "    <tr style=\"text-align: right;\">\n",
       "      <th></th>\n",
       "      <th>Unnamed: 0</th>\n",
       "      <th>asin</th>\n",
       "      <th>helpful</th>\n",
       "      <th>Rating</th>\n",
       "      <th>Review</th>\n",
       "      <th>reviewTime</th>\n",
       "      <th>reviewerID</th>\n",
       "      <th>reviewerName</th>\n",
       "      <th>summary</th>\n",
       "      <th>unixReviewTime</th>\n",
       "    </tr>\n",
       "  </thead>\n",
       "  <tbody>\n",
       "    <tr>\n",
       "      <th>0</th>\n",
       "      <td>1</td>\n",
       "      <td>B006N9LBPU</td>\n",
       "      <td>[1, 1]</td>\n",
       "      <td>5</td>\n",
       "      <td>This was my first IR book I've read and it jus...</td>\n",
       "      <td>02 29, 2012</td>\n",
       "      <td>A10NXUUY7O58JI</td>\n",
       "      <td>christian parker</td>\n",
       "      <td>Loved It :)</td>\n",
       "      <td>1330473600</td>\n",
       "    </tr>\n",
       "    <tr>\n",
       "      <th>1</th>\n",
       "      <td>2</td>\n",
       "      <td>B003T0G6QU</td>\n",
       "      <td>[0, 0]</td>\n",
       "      <td>4</td>\n",
       "      <td>In this book Holly is looking for her mother w...</td>\n",
       "      <td>06 21, 2014</td>\n",
       "      <td>A3CMQYU4YPSAFM</td>\n",
       "      <td>Kathy</td>\n",
       "      <td>Presumed Dead</td>\n",
       "      <td>1403308800</td>\n",
       "    </tr>\n",
       "    <tr>\n",
       "      <th>2</th>\n",
       "      <td>3</td>\n",
       "      <td>B003CC15I4</td>\n",
       "      <td>[1, 2]</td>\n",
       "      <td>5</td>\n",
       "      <td>Here we have a story about Keli and Phillip Go...</td>\n",
       "      <td>10 9, 2013</td>\n",
       "      <td>A1FZV9IQRAQDUF</td>\n",
       "      <td>Jessica Gomez. (Athenajess)</td>\n",
       "      <td>You have to take a chance.</td>\n",
       "      <td>1381276800</td>\n",
       "    </tr>\n",
       "    <tr>\n",
       "      <th>3</th>\n",
       "      <td>4</td>\n",
       "      <td>B0061JQMM4</td>\n",
       "      <td>[1, 1]</td>\n",
       "      <td>4</td>\n",
       "      <td>I very much enjoyed reading about the Italian ...</td>\n",
       "      <td>02 26, 2013</td>\n",
       "      <td>A31XW1RTQ4ZG9W</td>\n",
       "      <td>C. Yates</td>\n",
       "      <td>Italian village and the Nazi</td>\n",
       "      <td>1361836800</td>\n",
       "    </tr>\n",
       "    <tr>\n",
       "      <th>4</th>\n",
       "      <td>5</td>\n",
       "      <td>B0041KLBEE</td>\n",
       "      <td>[0, 0]</td>\n",
       "      <td>4</td>\n",
       "      <td>Readers may be attracted by the curious title ...</td>\n",
       "      <td>11 12, 2010</td>\n",
       "      <td>A13QTZ8CIMHHG4</td>\n",
       "      <td>LAS Reviewer \"The Long and the Short Of It Re...</td>\n",
       "      <td>Engaging Read</td>\n",
       "      <td>1289520000</td>\n",
       "    </tr>\n",
       "  </tbody>\n",
       "</table>\n",
       "</div>"
      ],
      "text/plain": [
       "   Unnamed: 0        asin helpful  Rating  \\\n",
       "0           1  B006N9LBPU  [1, 1]       5   \n",
       "1           2  B003T0G6QU  [0, 0]       4   \n",
       "2           3  B003CC15I4  [1, 2]       5   \n",
       "3           4  B0061JQMM4  [1, 1]       4   \n",
       "4           5  B0041KLBEE  [0, 0]       4   \n",
       "\n",
       "                                              Review   reviewTime  \\\n",
       "0  This was my first IR book I've read and it jus...  02 29, 2012   \n",
       "1  In this book Holly is looking for her mother w...  06 21, 2014   \n",
       "2  Here we have a story about Keli and Phillip Go...   10 9, 2013   \n",
       "3  I very much enjoyed reading about the Italian ...  02 26, 2013   \n",
       "4  Readers may be attracted by the curious title ...  11 12, 2010   \n",
       "\n",
       "       reviewerID                                      reviewerName  \\\n",
       "0  A10NXUUY7O58JI                                  christian parker   \n",
       "1  A3CMQYU4YPSAFM                                             Kathy   \n",
       "2  A1FZV9IQRAQDUF                       Jessica Gomez. (Athenajess)   \n",
       "3  A31XW1RTQ4ZG9W                                          C. Yates   \n",
       "4  A13QTZ8CIMHHG4  LAS Reviewer \"The Long and the Short Of It Re...   \n",
       "\n",
       "                        summary  unixReviewTime  \n",
       "0                   Loved It :)      1330473600  \n",
       "1                 Presumed Dead      1403308800  \n",
       "2    You have to take a chance.      1381276800  \n",
       "3  Italian village and the Nazi      1361836800  \n",
       "4                 Engaging Read      1289520000  "
      ]
     },
     "execution_count": 23,
     "metadata": {},
     "output_type": "execute_result"
    }
   ],
   "source": [
    "# 1. Count missing values in 'Review' and 'Rating'\n",
    "print(\"Missing values in Review and Rating before cleaning:\")\n",
    "print(df[['Review', 'Rating']].isnull().sum())\n",
    "\n",
    "# 2. Drop rows with missing 'Review' or 'Rating'\n",
    "df.dropna(subset=['Review', 'Rating'], inplace=True)\n",
    "\n",
    "# 3. Reset index after dropping rows\n",
    "df.reset_index(drop=True, inplace=True)\n",
    "\n",
    "# 4. Verify after cleaning\n",
    "print(\"\\nAfter handling missing data:\")\n",
    "print(df[['Review', 'Rating']].isnull().sum())\n",
    "print(\"Dataset shape:\", df.shape)\n",
    "\n",
    "# Detailed info and preview\n",
    "print(\"\\nDataset Information:\")\n",
    "df.info()\n",
    "\n",
    "print(\"\\nFirst 5 records:\")\n",
    "df.head()\n"
   ]
  },
  {
   "cell_type": "markdown",
   "id": "2d9baec5-90ac-4ed1-80db-abc4c7fbf550",
   "metadata": {},
   "source": [
    "# Count Number of duplicates"
   ]
  },
  {
   "cell_type": "code",
   "execution_count": 24,
   "id": "7adf22b0-deaf-476a-9ec8-ec5f5ab03d1d",
   "metadata": {},
   "outputs": [
    {
     "name": "stdout",
     "output_type": "stream",
     "text": [
      "Number of duplicate rows in dataset: 2\n",
      "\n",
      "Sample duplicate rows:\n"
     ]
    },
    {
     "data": {
      "text/html": [
       "<div>\n",
       "<style scoped>\n",
       "    .dataframe tbody tr th:only-of-type {\n",
       "        vertical-align: middle;\n",
       "    }\n",
       "\n",
       "    .dataframe tbody tr th {\n",
       "        vertical-align: top;\n",
       "    }\n",
       "\n",
       "    .dataframe thead th {\n",
       "        text-align: right;\n",
       "    }\n",
       "</style>\n",
       "<table border=\"1\" class=\"dataframe\">\n",
       "  <thead>\n",
       "    <tr style=\"text-align: right;\">\n",
       "      <th></th>\n",
       "      <th>Unnamed: 0</th>\n",
       "      <th>asin</th>\n",
       "      <th>helpful</th>\n",
       "      <th>Rating</th>\n",
       "      <th>Review</th>\n",
       "      <th>reviewTime</th>\n",
       "      <th>reviewerID</th>\n",
       "      <th>reviewerName</th>\n",
       "      <th>summary</th>\n",
       "      <th>unixReviewTime</th>\n",
       "    </tr>\n",
       "  </thead>\n",
       "  <tbody>\n",
       "    <tr>\n",
       "      <th>4865</th>\n",
       "      <td>4866</td>\n",
       "      <td>B0055ECOUA</td>\n",
       "      <td>[0, 0]</td>\n",
       "      <td>5</td>\n",
       "      <td>This book is awesome and very informative.I am...</td>\n",
       "      <td>05 29, 2012</td>\n",
       "      <td>A3VE0HAFA8A7HJ</td>\n",
       "      <td>nikhilboorla \"nikhil\"</td>\n",
       "      <td>awesome book</td>\n",
       "      <td>1338249600</td>\n",
       "    </tr>\n",
       "    <tr>\n",
       "      <th>50154</th>\n",
       "      <td>50157</td>\n",
       "      <td>B0067ZJVK2</td>\n",
       "      <td>[0, 0]</td>\n",
       "      <td>4</td>\n",
       "      <td>Good</td>\n",
       "      <td>07 21, 2014</td>\n",
       "      <td>AGPSYFEF7XE3N</td>\n",
       "      <td>Amazon Customer</td>\n",
       "      <td>Four Stars</td>\n",
       "      <td>1405900800</td>\n",
       "    </tr>\n",
       "    <tr>\n",
       "      <th>55421</th>\n",
       "      <td>55424</td>\n",
       "      <td>B0057H14KG</td>\n",
       "      <td>[0, 0]</td>\n",
       "      <td>4</td>\n",
       "      <td>Good</td>\n",
       "      <td>07 7, 2014</td>\n",
       "      <td>AXLQ0FE5KYQFO</td>\n",
       "      <td>sherilyn</td>\n",
       "      <td>Four Stars</td>\n",
       "      <td>1404691200</td>\n",
       "    </tr>\n",
       "    <tr>\n",
       "      <th>71047</th>\n",
       "      <td>71050</td>\n",
       "      <td>B0055ECOUA</td>\n",
       "      <td>[1, 1]</td>\n",
       "      <td>5</td>\n",
       "      <td>This book is awesome and very informative.I am...</td>\n",
       "      <td>10 8, 2012</td>\n",
       "      <td>A1N9DT5QF2KAJO</td>\n",
       "      <td>Bobby</td>\n",
       "      <td>Awesome!</td>\n",
       "      <td>1349654400</td>\n",
       "    </tr>\n",
       "  </tbody>\n",
       "</table>\n",
       "</div>"
      ],
      "text/plain": [
       "       Unnamed: 0        asin helpful  Rating  \\\n",
       "4865         4866  B0055ECOUA  [0, 0]       5   \n",
       "50154       50157  B0067ZJVK2  [0, 0]       4   \n",
       "55421       55424  B0057H14KG  [0, 0]       4   \n",
       "71047       71050  B0055ECOUA  [1, 1]       5   \n",
       "\n",
       "                                                  Review   reviewTime  \\\n",
       "4865   This book is awesome and very informative.I am...  05 29, 2012   \n",
       "50154                                               Good  07 21, 2014   \n",
       "55421                                               Good   07 7, 2014   \n",
       "71047  This book is awesome and very informative.I am...   10 8, 2012   \n",
       "\n",
       "           reviewerID           reviewerName       summary  unixReviewTime  \n",
       "4865   A3VE0HAFA8A7HJ  nikhilboorla \"nikhil\"  awesome book      1338249600  \n",
       "50154   AGPSYFEF7XE3N        Amazon Customer    Four Stars      1405900800  \n",
       "55421   AXLQ0FE5KYQFO               sherilyn    Four Stars      1404691200  \n",
       "71047  A1N9DT5QF2KAJO                  Bobby      Awesome!      1349654400  "
      ]
     },
     "execution_count": 24,
     "metadata": {},
     "output_type": "execute_result"
    }
   ],
   "source": [
    "# Count duplicates based on 'Review' and 'Rating'\n",
    "duplicate_count = df.duplicated(subset=['Review', 'Rating']).sum()\n",
    "print(f\"Number of duplicate rows in dataset: {duplicate_count}\")\n",
    "\n",
    "# View sample duplicate rows\n",
    "duplicates = df[df.duplicated(subset=['Review', 'Rating'], keep=False)]\n",
    "print(\"\\nSample duplicate rows:\")\n",
    "duplicates.head()\n"
   ]
  },
  {
   "cell_type": "markdown",
   "id": "fea8d279-308e-44a8-9501-718cf9fa72e6",
   "metadata": {},
   "source": [
    "# Remove Duplicates"
   ]
  },
  {
   "cell_type": "code",
   "execution_count": 25,
   "id": "3d94d027-4daf-482e-9b0b-23425101ad54",
   "metadata": {},
   "outputs": [
    {
     "name": "stdout",
     "output_type": "stream",
     "text": [
      "After removing duplicates and conflicts, dataset shape: (71217, 10)\n",
      "\n",
      "First 5 records:\n"
     ]
    },
    {
     "data": {
      "text/html": [
       "<div>\n",
       "<style scoped>\n",
       "    .dataframe tbody tr th:only-of-type {\n",
       "        vertical-align: middle;\n",
       "    }\n",
       "\n",
       "    .dataframe tbody tr th {\n",
       "        vertical-align: top;\n",
       "    }\n",
       "\n",
       "    .dataframe thead th {\n",
       "        text-align: right;\n",
       "    }\n",
       "</style>\n",
       "<table border=\"1\" class=\"dataframe\">\n",
       "  <thead>\n",
       "    <tr style=\"text-align: right;\">\n",
       "      <th></th>\n",
       "      <th>Unnamed: 0</th>\n",
       "      <th>asin</th>\n",
       "      <th>helpful</th>\n",
       "      <th>Rating</th>\n",
       "      <th>Review</th>\n",
       "      <th>reviewTime</th>\n",
       "      <th>reviewerID</th>\n",
       "      <th>reviewerName</th>\n",
       "      <th>summary</th>\n",
       "      <th>unixReviewTime</th>\n",
       "    </tr>\n",
       "  </thead>\n",
       "  <tbody>\n",
       "    <tr>\n",
       "      <th>0</th>\n",
       "      <td>1</td>\n",
       "      <td>B006N9LBPU</td>\n",
       "      <td>[1, 1]</td>\n",
       "      <td>5</td>\n",
       "      <td>This was my first IR book I've read and it jus...</td>\n",
       "      <td>02 29, 2012</td>\n",
       "      <td>A10NXUUY7O58JI</td>\n",
       "      <td>christian parker</td>\n",
       "      <td>Loved It :)</td>\n",
       "      <td>1330473600</td>\n",
       "    </tr>\n",
       "    <tr>\n",
       "      <th>1</th>\n",
       "      <td>2</td>\n",
       "      <td>B003T0G6QU</td>\n",
       "      <td>[0, 0]</td>\n",
       "      <td>4</td>\n",
       "      <td>In this book Holly is looking for her mother w...</td>\n",
       "      <td>06 21, 2014</td>\n",
       "      <td>A3CMQYU4YPSAFM</td>\n",
       "      <td>Kathy</td>\n",
       "      <td>Presumed Dead</td>\n",
       "      <td>1403308800</td>\n",
       "    </tr>\n",
       "    <tr>\n",
       "      <th>2</th>\n",
       "      <td>3</td>\n",
       "      <td>B003CC15I4</td>\n",
       "      <td>[1, 2]</td>\n",
       "      <td>5</td>\n",
       "      <td>Here we have a story about Keli and Phillip Go...</td>\n",
       "      <td>10 9, 2013</td>\n",
       "      <td>A1FZV9IQRAQDUF</td>\n",
       "      <td>Jessica Gomez. (Athenajess)</td>\n",
       "      <td>You have to take a chance.</td>\n",
       "      <td>1381276800</td>\n",
       "    </tr>\n",
       "    <tr>\n",
       "      <th>3</th>\n",
       "      <td>4</td>\n",
       "      <td>B0061JQMM4</td>\n",
       "      <td>[1, 1]</td>\n",
       "      <td>4</td>\n",
       "      <td>I very much enjoyed reading about the Italian ...</td>\n",
       "      <td>02 26, 2013</td>\n",
       "      <td>A31XW1RTQ4ZG9W</td>\n",
       "      <td>C. Yates</td>\n",
       "      <td>Italian village and the Nazi</td>\n",
       "      <td>1361836800</td>\n",
       "    </tr>\n",
       "    <tr>\n",
       "      <th>4</th>\n",
       "      <td>5</td>\n",
       "      <td>B0041KLBEE</td>\n",
       "      <td>[0, 0]</td>\n",
       "      <td>4</td>\n",
       "      <td>Readers may be attracted by the curious title ...</td>\n",
       "      <td>11 12, 2010</td>\n",
       "      <td>A13QTZ8CIMHHG4</td>\n",
       "      <td>LAS Reviewer \"The Long and the Short Of It Re...</td>\n",
       "      <td>Engaging Read</td>\n",
       "      <td>1289520000</td>\n",
       "    </tr>\n",
       "  </tbody>\n",
       "</table>\n",
       "</div>"
      ],
      "text/plain": [
       "   Unnamed: 0        asin helpful  Rating  \\\n",
       "0           1  B006N9LBPU  [1, 1]       5   \n",
       "1           2  B003T0G6QU  [0, 0]       4   \n",
       "2           3  B003CC15I4  [1, 2]       5   \n",
       "3           4  B0061JQMM4  [1, 1]       4   \n",
       "4           5  B0041KLBEE  [0, 0]       4   \n",
       "\n",
       "                                              Review   reviewTime  \\\n",
       "0  This was my first IR book I've read and it jus...  02 29, 2012   \n",
       "1  In this book Holly is looking for her mother w...  06 21, 2014   \n",
       "2  Here we have a story about Keli and Phillip Go...   10 9, 2013   \n",
       "3  I very much enjoyed reading about the Italian ...  02 26, 2013   \n",
       "4  Readers may be attracted by the curious title ...  11 12, 2010   \n",
       "\n",
       "       reviewerID                                      reviewerName  \\\n",
       "0  A10NXUUY7O58JI                                  christian parker   \n",
       "1  A3CMQYU4YPSAFM                                             Kathy   \n",
       "2  A1FZV9IQRAQDUF                       Jessica Gomez. (Athenajess)   \n",
       "3  A31XW1RTQ4ZG9W                                          C. Yates   \n",
       "4  A13QTZ8CIMHHG4  LAS Reviewer \"The Long and the Short Of It Re...   \n",
       "\n",
       "                        summary  unixReviewTime  \n",
       "0                   Loved It :)      1330473600  \n",
       "1                 Presumed Dead      1403308800  \n",
       "2    You have to take a chance.      1381276800  \n",
       "3  Italian village and the Nazi      1361836800  \n",
       "4                 Engaging Read      1289520000  "
      ]
     },
     "execution_count": 25,
     "metadata": {},
     "output_type": "execute_result"
    }
   ],
   "source": [
    "# 1. Remove exact duplicates (same Review + Rating)\n",
    "df = df.drop_duplicates(subset=['Review', 'Rating'], keep='first')\n",
    "\n",
    "# 2. Remove conflicting reviews (same Review text, different Ratings)\n",
    "conflict_idx = df[df.duplicated(subset=['Review'], keep=False) & \n",
    "                   ~df.duplicated(subset=['Review', 'Rating'], keep=False)].index\n",
    "df.drop(index=conflict_idx, inplace=True)\n",
    "\n",
    "# 3. Reset index after removals\n",
    "df.reset_index(drop=True, inplace=True)\n",
    "\n",
    "# Verify the result\n",
    "print(\"After removing duplicates and conflicts, dataset shape:\", df.shape)\n",
    "print(\"\\nFirst 5 records:\")\n",
    "df.head()\n"
   ]
  },
  {
   "cell_type": "markdown",
   "id": "558a304c-ccfe-48d3-bace-05b817ec875a",
   "metadata": {},
   "source": [
    "# Selecting Columns"
   ]
  },
  {
   "cell_type": "code",
   "execution_count": 26,
   "id": "ebf21db4-8d8b-4eed-9046-e6b4c8c087ac",
   "metadata": {},
   "outputs": [
    {
     "name": "stdout",
     "output_type": "stream",
     "text": [
      "Final dataset columns: ['Rating', 'Review']\n",
      "Final dataset shape: (71217, 2)\n"
     ]
    },
    {
     "data": {
      "text/html": [
       "<div>\n",
       "<style scoped>\n",
       "    .dataframe tbody tr th:only-of-type {\n",
       "        vertical-align: middle;\n",
       "    }\n",
       "\n",
       "    .dataframe tbody tr th {\n",
       "        vertical-align: top;\n",
       "    }\n",
       "\n",
       "    .dataframe thead th {\n",
       "        text-align: right;\n",
       "    }\n",
       "</style>\n",
       "<table border=\"1\" class=\"dataframe\">\n",
       "  <thead>\n",
       "    <tr style=\"text-align: right;\">\n",
       "      <th></th>\n",
       "      <th>Rating</th>\n",
       "      <th>Review</th>\n",
       "    </tr>\n",
       "  </thead>\n",
       "  <tbody>\n",
       "    <tr>\n",
       "      <th>0</th>\n",
       "      <td>5</td>\n",
       "      <td>This was my first IR book I've read and it jus...</td>\n",
       "    </tr>\n",
       "    <tr>\n",
       "      <th>1</th>\n",
       "      <td>4</td>\n",
       "      <td>In this book Holly is looking for her mother w...</td>\n",
       "    </tr>\n",
       "    <tr>\n",
       "      <th>2</th>\n",
       "      <td>5</td>\n",
       "      <td>Here we have a story about Keli and Phillip Go...</td>\n",
       "    </tr>\n",
       "    <tr>\n",
       "      <th>3</th>\n",
       "      <td>4</td>\n",
       "      <td>I very much enjoyed reading about the Italian ...</td>\n",
       "    </tr>\n",
       "    <tr>\n",
       "      <th>4</th>\n",
       "      <td>4</td>\n",
       "      <td>Readers may be attracted by the curious title ...</td>\n",
       "    </tr>\n",
       "  </tbody>\n",
       "</table>\n",
       "</div>"
      ],
      "text/plain": [
       "   Rating                                             Review\n",
       "0       5  This was my first IR book I've read and it jus...\n",
       "1       4  In this book Holly is looking for her mother w...\n",
       "2       5  Here we have a story about Keli and Phillip Go...\n",
       "3       4  I very much enjoyed reading about the Italian ...\n",
       "4       4  Readers may be attracted by the curious title ..."
      ]
     },
     "execution_count": 26,
     "metadata": {},
     "output_type": "execute_result"
    }
   ],
   "source": [
    "# Keep only 'Rating' and 'Review' columns for modeling\n",
    "df = df[['Rating', 'Review']]\n",
    "\n",
    "# Confirm final dataset structure\n",
    "print(\"Final dataset columns:\", df.columns.tolist())\n",
    "print(\"Final dataset shape:\", df.shape)\n",
    "\n",
    "df.head()\n"
   ]
  },
  {
   "cell_type": "markdown",
   "id": "ec733aaa-3247-409d-855b-cbeba966c53a",
   "metadata": {},
   "source": [
    "# Grouping and Aggregation"
   ]
  },
  {
   "cell_type": "code",
   "execution_count": 27,
   "id": "67813954-d624-48aa-b772-7450fc9ee51f",
   "metadata": {},
   "outputs": [
    {
     "name": "stdout",
     "output_type": "stream",
     "text": [
      "Number of Reviews per Rating:\n",
      " Rating\n",
      "1     3786\n",
      "2     5435\n",
      "3     6000\n",
      "4    19999\n",
      "5    35997\n",
      "Name: Review, dtype: int64\n",
      "\n",
      "Average Rating of Dataset: 4.11\n",
      "Rating Range: 1 to 5\n"
     ]
    }
   ],
   "source": [
    "# Count of reviews per rating\n",
    "review_count_per_rating = df.groupby('Rating')['Review'].count()\n",
    "print(\"Number of Reviews per Rating:\\n\", review_count_per_rating)\n",
    "\n",
    "# Average rating\n",
    "average_rating = df['Rating'].mean()\n",
    "print(\"\\nAverage Rating of Dataset:\", round(average_rating, 2))\n",
    "\n",
    "# Minimum and Maximum rating\n",
    "min_rating = df['Rating'].min()\n",
    "max_rating = df['Rating'].max()\n",
    "print(\"Rating Range: {} to {}\".format(min_rating, max_rating))"
   ]
  },
  {
   "cell_type": "markdown",
   "id": "4f1d5b1b-14a3-49b3-8760-c0d7a8a2d3c6",
   "metadata": {},
   "source": [
    "# Cleaning text - remove emojis, special characters, symbols"
   ]
  },
  {
   "cell_type": "code",
   "execution_count": 28,
   "id": "e699ccbe-ac29-46a7-a921-9ce9bd7c4af2",
   "metadata": {},
   "outputs": [
    {
     "name": "stdout",
     "output_type": "stream",
     "text": [
      "Sample cleaned reviews:\n"
     ]
    },
    {
     "data": {
      "text/html": [
       "<div>\n",
       "<style scoped>\n",
       "    .dataframe tbody tr th:only-of-type {\n",
       "        vertical-align: middle;\n",
       "    }\n",
       "\n",
       "    .dataframe tbody tr th {\n",
       "        vertical-align: top;\n",
       "    }\n",
       "\n",
       "    .dataframe thead th {\n",
       "        text-align: right;\n",
       "    }\n",
       "</style>\n",
       "<table border=\"1\" class=\"dataframe\">\n",
       "  <thead>\n",
       "    <tr style=\"text-align: right;\">\n",
       "      <th></th>\n",
       "      <th>Review</th>\n",
       "      <th>Clean_Review</th>\n",
       "    </tr>\n",
       "  </thead>\n",
       "  <tbody>\n",
       "    <tr>\n",
       "      <th>0</th>\n",
       "      <td>This was my first IR book I've read and it jus...</td>\n",
       "      <td>this was my first ir book ive read and it just...</td>\n",
       "    </tr>\n",
       "    <tr>\n",
       "      <th>1</th>\n",
       "      <td>In this book Holly is looking for her mother w...</td>\n",
       "      <td>in this book holly is looking for her mother w...</td>\n",
       "    </tr>\n",
       "    <tr>\n",
       "      <th>2</th>\n",
       "      <td>Here we have a story about Keli and Phillip Go...</td>\n",
       "      <td>here we have a story about keli and phillip go...</td>\n",
       "    </tr>\n",
       "    <tr>\n",
       "      <th>3</th>\n",
       "      <td>I very much enjoyed reading about the Italian ...</td>\n",
       "      <td>i very much enjoyed reading about the italian ...</td>\n",
       "    </tr>\n",
       "    <tr>\n",
       "      <th>4</th>\n",
       "      <td>Readers may be attracted by the curious title ...</td>\n",
       "      <td>readers may be attracted by the curious title ...</td>\n",
       "    </tr>\n",
       "  </tbody>\n",
       "</table>\n",
       "</div>"
      ],
      "text/plain": [
       "                                              Review  \\\n",
       "0  This was my first IR book I've read and it jus...   \n",
       "1  In this book Holly is looking for her mother w...   \n",
       "2  Here we have a story about Keli and Phillip Go...   \n",
       "3  I very much enjoyed reading about the Italian ...   \n",
       "4  Readers may be attracted by the curious title ...   \n",
       "\n",
       "                                        Clean_Review  \n",
       "0  this was my first ir book ive read and it just...  \n",
       "1  in this book holly is looking for her mother w...  \n",
       "2  here we have a story about keli and phillip go...  \n",
       "3  i very much enjoyed reading about the italian ...  \n",
       "4  readers may be attracted by the curious title ...  "
      ]
     },
     "execution_count": 28,
     "metadata": {},
     "output_type": "execute_result"
    }
   ],
   "source": [
    "import string\n",
    "\n",
    "# Function to clean review text\n",
    "def clean_text(text):\n",
    "    # Convert to string in case of missing or non-string entries\n",
    "    text = str(text)\n",
    "    \n",
    "    # Remove emojis and special unicode characters\n",
    "    text = text.encode('ascii', 'ignore').decode('ascii')\n",
    "    \n",
    "    # Remove punctuation and symbols\n",
    "    text = re.sub(f\"[{re.escape(string.punctuation)}]\", \"\", text)\n",
    "    \n",
    "    # Remove extra whitespace\n",
    "    text = re.sub(r'\\s+', ' ', text).strip()\n",
    "    \n",
    "    # Convert to lowercase\n",
    "    text = text.lower()\n",
    "    \n",
    "    return text\n",
    "\n",
    "# Apply cleaning function to 'Review' column\n",
    "df['Clean_Review'] = df['Review'].apply(clean_text)\n",
    "\n",
    "\n",
    "print(\"Sample cleaned reviews:\")\n",
    "df[['Review', 'Clean_Review']].head()\n"
   ]
  },
  {
   "cell_type": "markdown",
   "id": "79e9d571-36eb-4b4c-ad3f-31ef44e57ffc",
   "metadata": {},
   "source": [
    "# Detect and display consecutive repeated words"
   ]
  },
  {
   "cell_type": "code",
   "execution_count": 29,
   "id": "7d967670-5d36-4989-abde-30c3a0ee12d3",
   "metadata": {},
   "outputs": [
    {
     "name": "stdout",
     "output_type": "stream",
     "text": [
      "Sample reviews with consecutive repeated words:\n"
     ]
    },
    {
     "data": {
      "text/html": [
       "<div>\n",
       "<style scoped>\n",
       "    .dataframe tbody tr th:only-of-type {\n",
       "        vertical-align: middle;\n",
       "    }\n",
       "\n",
       "    .dataframe tbody tr th {\n",
       "        vertical-align: top;\n",
       "    }\n",
       "\n",
       "    .dataframe thead th {\n",
       "        text-align: right;\n",
       "    }\n",
       "</style>\n",
       "<table border=\"1\" class=\"dataframe\">\n",
       "  <thead>\n",
       "    <tr style=\"text-align: right;\">\n",
       "      <th></th>\n",
       "      <th>Review</th>\n",
       "      <th>Repeated_Words</th>\n",
       "    </tr>\n",
       "  </thead>\n",
       "  <tbody>\n",
       "    <tr>\n",
       "      <th>19</th>\n",
       "      <td>I thought I was going to get more of a story t...</td>\n",
       "      <td>[(the, the)]</td>\n",
       "    </tr>\n",
       "    <tr>\n",
       "      <th>78</th>\n",
       "      <td>I picked this short story up because it was fr...</td>\n",
       "      <td>[(FUN, FUN)]</td>\n",
       "    </tr>\n",
       "    <tr>\n",
       "      <th>82</th>\n",
       "      <td>It takes a great amount of time to read becaus...</td>\n",
       "      <td>[(need, need)]</td>\n",
       "    </tr>\n",
       "    <tr>\n",
       "      <th>135</th>\n",
       "      <td>This book has everything you need.  Well writt...</td>\n",
       "      <td>[(much, much)]</td>\n",
       "    </tr>\n",
       "    <tr>\n",
       "      <th>138</th>\n",
       "      <td>I think all your book are great Jen. This one ...</td>\n",
       "      <td>[(about, about)]</td>\n",
       "    </tr>\n",
       "  </tbody>\n",
       "</table>\n",
       "</div>"
      ],
      "text/plain": [
       "                                                Review    Repeated_Words\n",
       "19   I thought I was going to get more of a story t...      [(the, the)]\n",
       "78   I picked this short story up because it was fr...      [(FUN, FUN)]\n",
       "82   It takes a great amount of time to read becaus...    [(need, need)]\n",
       "135  This book has everything you need.  Well writt...    [(much, much)]\n",
       "138  I think all your book are great Jen. This one ...  [(about, about)]"
      ]
     },
     "execution_count": 29,
     "metadata": {},
     "output_type": "execute_result"
    }
   ],
   "source": [
    "import re\n",
    "\n",
    "# Function to find consecutive duplicate words\n",
    "def find_repeated_words(text):\n",
    "    # Regex pattern: captures consecutive duplicate words, ignoring case\n",
    "    pattern = r'\\b(\\w+)\\s+\\1\\b'\n",
    "    # Find all matches, preserve original casing\n",
    "    matches = re.findall(pattern, text, flags=re.IGNORECASE)\n",
    "    # Return list of tuples like [(word, word)]\n",
    "    return [(match, match) for match in matches]\n",
    "\n",
    "# Apply function to dataset\n",
    "df['Repeated_Words'] = df['Review'].apply(find_repeated_words)\n",
    "\n",
    "# Display sample reviews with repeated words\n",
    "print(\"Sample reviews with consecutive repeated words:\")\n",
    "df[df['Repeated_Words'].str.len() > 0][['Review', 'Repeated_Words']].head()\n",
    "\n"
   ]
  },
  {
   "cell_type": "markdown",
   "id": "3761300f-c942-452b-9972-9df57db9296d",
   "metadata": {},
   "source": [
    "# Removing consecutive repeated words"
   ]
  },
  {
   "cell_type": "code",
   "execution_count": 30,
   "id": "ac0b053f-a7c0-4ff9-aadc-da354b3c33ab",
   "metadata": {},
   "outputs": [
    {
     "name": "stdout",
     "output_type": "stream",
     "text": [
      "Sample reviews after removing consecutive repeated words:\n"
     ]
    },
    {
     "data": {
      "text/html": [
       "<div>\n",
       "<style scoped>\n",
       "    .dataframe tbody tr th:only-of-type {\n",
       "        vertical-align: middle;\n",
       "    }\n",
       "\n",
       "    .dataframe tbody tr th {\n",
       "        vertical-align: top;\n",
       "    }\n",
       "\n",
       "    .dataframe thead th {\n",
       "        text-align: right;\n",
       "    }\n",
       "</style>\n",
       "<table border=\"1\" class=\"dataframe\">\n",
       "  <thead>\n",
       "    <tr style=\"text-align: right;\">\n",
       "      <th></th>\n",
       "      <th>Review</th>\n",
       "      <th>Clean_Review</th>\n",
       "    </tr>\n",
       "  </thead>\n",
       "  <tbody>\n",
       "    <tr>\n",
       "      <th>0</th>\n",
       "      <td>This was my first IR book I've read and it jus...</td>\n",
       "      <td>this was my first ir book ive read and it just...</td>\n",
       "    </tr>\n",
       "    <tr>\n",
       "      <th>1</th>\n",
       "      <td>In this book Holly is looking for her mother w...</td>\n",
       "      <td>in this book holly is looking for her mother w...</td>\n",
       "    </tr>\n",
       "    <tr>\n",
       "      <th>2</th>\n",
       "      <td>Here we have a story about Keli and Phillip Go...</td>\n",
       "      <td>here we have a story about keli and phillip go...</td>\n",
       "    </tr>\n",
       "    <tr>\n",
       "      <th>3</th>\n",
       "      <td>I very much enjoyed reading about the Italian ...</td>\n",
       "      <td>i very much enjoyed reading about the italian ...</td>\n",
       "    </tr>\n",
       "    <tr>\n",
       "      <th>4</th>\n",
       "      <td>Readers may be attracted by the curious title ...</td>\n",
       "      <td>readers may be attracted by the curious title ...</td>\n",
       "    </tr>\n",
       "  </tbody>\n",
       "</table>\n",
       "</div>"
      ],
      "text/plain": [
       "                                              Review  \\\n",
       "0  This was my first IR book I've read and it jus...   \n",
       "1  In this book Holly is looking for her mother w...   \n",
       "2  Here we have a story about Keli and Phillip Go...   \n",
       "3  I very much enjoyed reading about the Italian ...   \n",
       "4  Readers may be attracted by the curious title ...   \n",
       "\n",
       "                                        Clean_Review  \n",
       "0  this was my first ir book ive read and it just...  \n",
       "1  in this book holly is looking for her mother w...  \n",
       "2  here we have a story about keli and phillip go...  \n",
       "3  i very much enjoyed reading about the italian ...  \n",
       "4  readers may be attracted by the curious title ...  "
      ]
     },
     "execution_count": 30,
     "metadata": {},
     "output_type": "execute_result"
    }
   ],
   "source": [
    "# Function to remove consecutive repeated words\n",
    "def remove_repeated_words(text):\n",
    "    # Regex: replace consecutive duplicate words with a single occurrence\n",
    "    pattern = r'\\b(\\w+)(\\s+\\1\\b)+'\n",
    "    return re.sub(pattern, r'\\1', text, flags=re.IGNORECASE)\n",
    "\n",
    "# Apply function to the cleaned review column\n",
    "df['Clean_Review'] = df['Clean_Review'].apply(remove_repeated_words)\n",
    "\n",
    "# Preview results\n",
    "print(\"Sample reviews after removing consecutive repeated words:\")\n",
    "df[['Review', 'Clean_Review']].head()\n"
   ]
  },
  {
   "cell_type": "markdown",
   "id": "60fdff6a-76dc-4b4f-9679-4694fbdb8c3d",
   "metadata": {},
   "source": [
    "# Sorting Data"
   ]
  },
  {
   "cell_type": "code",
   "execution_count": 31,
   "id": "d1df2c89-fd68-41d5-b778-a37eff86f7dd",
   "metadata": {},
   "outputs": [
    {
     "name": "stdout",
     "output_type": "stream",
     "text": [
      "Dataset sorted by Rating:\n"
     ]
    },
    {
     "data": {
      "text/html": [
       "<div>\n",
       "<style scoped>\n",
       "    .dataframe tbody tr th:only-of-type {\n",
       "        vertical-align: middle;\n",
       "    }\n",
       "\n",
       "    .dataframe tbody tr th {\n",
       "        vertical-align: top;\n",
       "    }\n",
       "\n",
       "    .dataframe thead th {\n",
       "        text-align: right;\n",
       "    }\n",
       "</style>\n",
       "<table border=\"1\" class=\"dataframe\">\n",
       "  <thead>\n",
       "    <tr style=\"text-align: right;\">\n",
       "      <th></th>\n",
       "      <th>Rating</th>\n",
       "      <th>Review</th>\n",
       "      <th>Clean_Review</th>\n",
       "      <th>Repeated_Words</th>\n",
       "    </tr>\n",
       "  </thead>\n",
       "  <tbody>\n",
       "    <tr>\n",
       "      <th>0</th>\n",
       "      <td>1</td>\n",
       "      <td>If you're looking for a clean book this is NOT...</td>\n",
       "      <td>if youre looking for a clean book this is not ...</td>\n",
       "      <td>[]</td>\n",
       "    </tr>\n",
       "    <tr>\n",
       "      <th>1</th>\n",
       "      <td>1</td>\n",
       "      <td>This could have perhaps been a good novel ha i...</td>\n",
       "      <td>this could have perhaps been a good novel ha i...</td>\n",
       "      <td>[]</td>\n",
       "    </tr>\n",
       "    <tr>\n",
       "      <th>2</th>\n",
       "      <td>1</td>\n",
       "      <td>Even if you get it free and put it on your Kin...</td>\n",
       "      <td>even if you get it free and put it on your kin...</td>\n",
       "      <td>[]</td>\n",
       "    </tr>\n",
       "    <tr>\n",
       "      <th>3</th>\n",
       "      <td>1</td>\n",
       "      <td>Not sure what book the others read but I didn'...</td>\n",
       "      <td>not sure what book the others read but i didnt...</td>\n",
       "      <td>[]</td>\n",
       "    </tr>\n",
       "    <tr>\n",
       "      <th>4</th>\n",
       "      <td>1</td>\n",
       "      <td>This did nothing for me. Sorry, but if I had t...</td>\n",
       "      <td>this did nothing for me sorry but if i had to ...</td>\n",
       "      <td>[]</td>\n",
       "    </tr>\n",
       "  </tbody>\n",
       "</table>\n",
       "</div>"
      ],
      "text/plain": [
       "   Rating                                             Review  \\\n",
       "0       1  If you're looking for a clean book this is NOT...   \n",
       "1       1  This could have perhaps been a good novel ha i...   \n",
       "2       1  Even if you get it free and put it on your Kin...   \n",
       "3       1  Not sure what book the others read but I didn'...   \n",
       "4       1  This did nothing for me. Sorry, but if I had t...   \n",
       "\n",
       "                                        Clean_Review Repeated_Words  \n",
       "0  if youre looking for a clean book this is not ...             []  \n",
       "1  this could have perhaps been a good novel ha i...             []  \n",
       "2  even if you get it free and put it on your kin...             []  \n",
       "3  not sure what book the others read but i didnt...             []  \n",
       "4  this did nothing for me sorry but if i had to ...             []  "
      ]
     },
     "execution_count": 31,
     "metadata": {},
     "output_type": "execute_result"
    }
   ],
   "source": [
    "# 1. Sort dataset by Rating (ascending)\n",
    "df_sorted = df.sort_values(by='Rating', ascending=True).reset_index(drop=True)\n",
    "print(\"Dataset sorted by Rating:\")\n",
    "df_sorted.head()\n",
    "\n"
   ]
  },
  {
   "cell_type": "code",
   "execution_count": 32,
   "id": "b42feffe-d23a-4c2f-99f5-f2bb04bffb32",
   "metadata": {},
   "outputs": [
    {
     "name": "stdout",
     "output_type": "stream",
     "text": [
      "dataset columns: ['Rating', 'Review']\n",
      " dataset shape: (71217, 2)\n"
     ]
    },
    {
     "data": {
      "text/html": [
       "<div>\n",
       "<style scoped>\n",
       "    .dataframe tbody tr th:only-of-type {\n",
       "        vertical-align: middle;\n",
       "    }\n",
       "\n",
       "    .dataframe tbody tr th {\n",
       "        vertical-align: top;\n",
       "    }\n",
       "\n",
       "    .dataframe thead th {\n",
       "        text-align: right;\n",
       "    }\n",
       "</style>\n",
       "<table border=\"1\" class=\"dataframe\">\n",
       "  <thead>\n",
       "    <tr style=\"text-align: right;\">\n",
       "      <th></th>\n",
       "      <th>Rating</th>\n",
       "      <th>Review</th>\n",
       "    </tr>\n",
       "  </thead>\n",
       "  <tbody>\n",
       "    <tr>\n",
       "      <th>0</th>\n",
       "      <td>1</td>\n",
       "      <td>If you're looking for a clean book this is NOT...</td>\n",
       "    </tr>\n",
       "    <tr>\n",
       "      <th>1</th>\n",
       "      <td>1</td>\n",
       "      <td>This could have perhaps been a good novel ha i...</td>\n",
       "    </tr>\n",
       "    <tr>\n",
       "      <th>2</th>\n",
       "      <td>1</td>\n",
       "      <td>Even if you get it free and put it on your Kin...</td>\n",
       "    </tr>\n",
       "    <tr>\n",
       "      <th>3</th>\n",
       "      <td>1</td>\n",
       "      <td>Not sure what book the others read but I didn'...</td>\n",
       "    </tr>\n",
       "    <tr>\n",
       "      <th>4</th>\n",
       "      <td>1</td>\n",
       "      <td>This did nothing for me. Sorry, but if I had t...</td>\n",
       "    </tr>\n",
       "  </tbody>\n",
       "</table>\n",
       "</div>"
      ],
      "text/plain": [
       "   Rating                                             Review\n",
       "0       1  If you're looking for a clean book this is NOT...\n",
       "1       1  This could have perhaps been a good novel ha i...\n",
       "2       1  Even if you get it free and put it on your Kin...\n",
       "3       1  Not sure what book the others read but I didn'...\n",
       "4       1  This did nothing for me. Sorry, but if I had t..."
      ]
     },
     "execution_count": 32,
     "metadata": {},
     "output_type": "execute_result"
    }
   ],
   "source": [
    "# Keep only 'Rating' and 'Review' columns after sorting\n",
    "df_sorted = df_sorted[['Rating', 'Review']]\n",
    "\n",
    "# Confirm columns and shape\n",
    "print(\"dataset columns:\", df_sorted.columns.tolist())\n",
    "print(\" dataset shape:\", df_sorted.shape)\n",
    "\n",
    "# Preview first few rows\n",
    "df_sorted.head()\n"
   ]
  },
  {
   "cell_type": "markdown",
   "id": "dd868d85-2ee4-4bbc-b12f-f6ad110a6212",
   "metadata": {},
   "source": [
    "# Rating distribution"
   ]
  },
  {
   "cell_type": "code",
   "execution_count": 33,
   "id": "a7759452-8f9c-4225-92a6-1ef47e93e631",
   "metadata": {},
   "outputs": [
    {
     "name": "stdout",
     "output_type": "stream",
     "text": [
      "Number of Reviews per Rating:\n",
      " Rating\n",
      "1     3786\n",
      "2     5435\n",
      "3     6000\n",
      "4    19999\n",
      "5    35997\n",
      "Name: count, dtype: int64\n",
      "\n",
      "Percentage of Reviews per Rating:\n",
      " Rating\n",
      "1     5.32\n",
      "2     7.63\n",
      "3     8.42\n",
      "4    28.08\n",
      "5    50.55\n",
      "Name: count, dtype: float64\n"
     ]
    }
   ],
   "source": [
    "# Count of reviews per rating\n",
    "rating_counts = df_sorted['Rating'].value_counts().sort_index()\n",
    "print(\"Number of Reviews per Rating:\\n\", rating_counts)\n",
    "\n",
    "#  percentage distribution\n",
    "rating_percentage = round((rating_counts / rating_counts.sum()) * 100, 2)\n",
    "print(\"\\nPercentage of Reviews per Rating:\\n\", rating_percentage)\n"
   ]
  },
  {
   "cell_type": "markdown",
   "id": "0809d10a-9f5a-42f1-9fbc-1cb358e332aa",
   "metadata": {},
   "source": [
    "# Save Cleaned Dataset"
   ]
  },
  {
   "cell_type": "code",
   "execution_count": 34,
   "id": "898634ff-941b-427a-818c-a4a6a7f7be91",
   "metadata": {},
   "outputs": [
    {
     "name": "stdout",
     "output_type": "stream",
     "text": [
      "Files saved\n"
     ]
    }
   ],
   "source": [
    "df_sorted.to_csv(r\"..\\data\\new data\\merged_reviews.csv\", index=False)\n",
    "\n",
    "print(\"Files saved\")\n"
   ]
  },
  {
   "cell_type": "markdown",
   "id": "ac64ac87-0b36-47f5-8db5-6f83ae13139c",
   "metadata": {},
   "source": [
    "# Data Visualization"
   ]
  },
  {
   "cell_type": "markdown",
   "id": "8ede2c9a-9168-40e6-aff7-810806f0d90c",
   "metadata": {},
   "source": [
    "# Rating Distribution (Bar Chart)"
   ]
  },
  {
   "cell_type": "code",
   "execution_count": 35,
   "id": "07d7566e-e7f4-44c6-ab9a-f14ee9786745",
   "metadata": {},
   "outputs": [
    {
     "data": {
      "image/png": "[encoded data removed]",
      "text/plain": [
       "<Figure size 640x480 with 1 Axes>"
      ]
     },
     "metadata": {},
     "output_type": "display_data"
    }
   ],
   "source": [
    "sns.countplot(x='Rating', data=df_sorted, color='skyblue')\n",
    "plt.title('Rating Distribution', fontsize=16)\n",
    "plt.xlabel('Rating', fontsize=12)\n",
    "plt.ylabel('Number of Reviews', fontsize=12)\n",
    "plt.xticks(fontsize=10)\n",
    "plt.yticks(fontsize=10)\n",
    "plt.show()"
   ]
  },
  {
   "cell_type": "markdown",
   "id": "4d761e8c-aeec-459d-a1d3-0a04df75a330",
   "metadata": {},
   "source": [
    "# Rating Distribution (Pie Chart)"
   ]
  },
  {
   "cell_type": "code",
   "execution_count": 36,
   "id": "bcf04ee6-0beb-4db4-99da-8b0595db1d77",
   "metadata": {},
   "outputs": [
    {
     "data": {
      "image/png": "[encoded data removed]",
      "text/plain": [
       "<Figure size 640x480 with 1 Axes>"
      ]
     },
     "metadata": {},
     "output_type": "display_data"
    }
   ],
   "source": [
    "# Count of reviews per rating\n",
    "rating_counts = df_sorted['Rating'].value_counts().sort_index()\n",
    "\n",
    "# Labels and values for pie chart\n",
    "categories = rating_counts.index\n",
    "values = rating_counts.values\n",
    "\n",
    "\n",
    "plt.pie(values, labels=categories, autopct='%1.1f%%', startangle=90, colors=sns.color_palette(\"pastel\"))\n",
    "plt.title(\"Rating Distribution\", fontsize=16)\n",
    "plt.show()\n"
   ]
  },
  {
   "cell_type": "markdown",
   "id": "340fa6d6-5ebc-4d97-beb8-b52d8259b636",
   "metadata": {},
   "source": [
    "# Review Length Distribution (Histogram)"
   ]
  },
  {
   "cell_type": "code",
   "execution_count": 37,
   "id": "4ea2533f-7abb-438b-8c37-67f44edd1c67",
   "metadata": {},
   "outputs": [
    {
     "data": {
      "image/png": "[encoded data removed]",
      "text/plain": [
       "<Figure size 640x480 with 1 Axes>"
      ]
     },
     "metadata": {},
     "output_type": "display_data"
    }
   ],
   "source": [
    "# Calculate review length (number of characters)\n",
    "df_sorted['ReviewLength'] = df_sorted['Review'].str.len()\n",
    "\n",
    "# Plot enhanced histogram\n",
    "\n",
    "sns.histplot(df_sorted['ReviewLength'], bins=50, kde=True, color='teal', edgecolor='black', alpha=0.7)\n",
    "plt.title('Review Length Distribution', fontsize=18, weight='bold')\n",
    "plt.xlabel('Number of Characters in Review', fontsize=14)\n",
    "plt.ylabel('Frequency', fontsize=14)\n",
    "plt.grid(axis='y', alpha=0.3)\n",
    "plt.show()\n"
   ]
  },
  {
   "cell_type": "markdown",
   "id": "a4064dca-d242-4b3d-9eb1-703dba1f6f6a",
   "metadata": {},
   "source": [
    "# Boxplot of Review Length per Rating"
   ]
  },
  {
   "cell_type": "code",
   "execution_count": 38,
   "id": "72cc9386-6c32-46df-a4bc-a0b1c7f64368",
   "metadata": {},
   "outputs": [
    {
     "data": {
      "image/png": "[encoded data removed]",
      "text/plain": [
       "<Figure size 640x480 with 1 Axes>"
      ]
     },
     "metadata": {},
     "output_type": "display_data"
    }
   ],
   "source": [
    "# Calculate review length (number of characters)\n",
    "df_sorted['ReviewLength'] = df_sorted['Review'].str.len()\n",
    "\n",
    "sns.boxplot(x='Rating', y='ReviewLength', data=df_sorted, color='green')\n",
    "plt.title('Boxplot of Review Length per Rating', fontsize=16, weight='bold')\n",
    "plt.xlabel('Rating', fontsize=12)\n",
    "plt.ylabel('Review Length (characters)', fontsize=12)\n",
    "plt.grid(axis='y', alpha=0.3)\n",
    "plt.show()\n"
   ]
  },
  {
   "cell_type": "markdown",
   "id": "243675af-6475-4772-a959-21ce476b06b4",
   "metadata": {},
   "source": [
    "# Violin Plot (Density + Distribution of Review Length per Rating)"
   ]
  },
  {
   "cell_type": "code",
   "execution_count": 39,
   "id": "07dd2f72-8702-43d7-ad72-085abfc1a314",
   "metadata": {},
   "outputs": [
    {
     "data": {
      "image/png": "[encoded data removed]",
      "text/plain": [
       "<Figure size 640x480 with 1 Axes>"
      ]
     },
     "metadata": {},
     "output_type": "display_data"
    }
   ],
   "source": [
    "# Calculate review length (number of characters)\n",
    "df_sorted['ReviewLength'] = df_sorted['Review'].str.len()\n",
    "\n",
    "sns.violinplot(x='Rating', y='ReviewLength', data=df_sorted, color='orange')\n",
    "plt.title('Violin Plot of Review Length per Rating', fontsize=16, weight='bold')\n",
    "plt.xlabel('Rating', fontsize=12)\n",
    "plt.ylabel('Review Length (characters)', fontsize=12)\n",
    "plt.grid(axis='y', alpha=0.3)\n",
    "plt.show()\n",
    "\n"
   ]
  },
  {
   "cell_type": "markdown",
   "id": "69d2de38-5b06-4d74-afa5-fb96f877cf04",
   "metadata": {},
   "source": [
    "# Creating Balanced Dataset"
   ]
  },
  {
   "cell_type": "code",
   "execution_count": 40,
   "id": "a33e3ef3-f34c-4afb-933b-8546886aa92f",
   "metadata": {},
   "outputs": [
    {
     "name": "stdout",
     "output_type": "stream",
     "text": [
      "Available counts per class:\n",
      " Rating\n",
      "5    35997\n",
      "4    19999\n",
      "3     6000\n",
      "2     5435\n",
      "1     3786\n",
      "Name: count, dtype: int64\n",
      "Number of samples per class without duplicates: 2500\n",
      "Balanced Dataset Distribution:\n",
      " Rating\n",
      "1    2500\n",
      "5    2500\n",
      "4    2500\n",
      "2    2500\n",
      "3    2500\n",
      "Name: count, dtype: int64\n",
      "\n",
      "Balanced dataset shape: (12500, 3)\n"
     ]
    }
   ],
   "source": [
    "min_count = 2500\n",
    "\n",
    "# Check available count per class\n",
    "available_counts = df_sorted['Rating'].value_counts()\n",
    "print(\"Available counts per class:\\n\", available_counts)\n",
    "\n",
    "# Determine the maximum samples per class without duplicates\n",
    "max_count = min(available_counts.min(), min_count)\n",
    "print(\"Number of samples per class without duplicates:\", max_count)\n",
    "\n",
    "# List to hold balanced DataFrames\n",
    "balanced_df_list = []\n",
    "\n",
    "# Loop through each unique rating\n",
    "for rating in sorted(df_sorted['Rating'].unique()):\n",
    "    df_rating = df_sorted[df_sorted['Rating'] == rating]\n",
    "    \n",
    "    # Sample without replacement (no duplicates)\n",
    "    df_rating_balanced = df_rating.sample(n=max_count, replace=False, random_state=42)\n",
    "    balanced_df_list.append(df_rating_balanced)\n",
    "\n",
    "# Combine all classes and shuffle\n",
    "df_balanced = pd.concat(balanced_df_list).sample(frac=1, random_state=42).reset_index(drop=True)\n",
    "\n",
    "# Check distribution\n",
    "print(\"Balanced Dataset Distribution:\\n\", df_balanced['Rating'].value_counts())\n",
    "print(\"\\nBalanced dataset shape:\", df_balanced.shape)\n"
   ]
  },
  {
   "cell_type": "code",
   "execution_count": 41,
   "id": "96d41a70-566b-459f-90dc-f3e7262cf597",
   "metadata": {},
   "outputs": [
    {
     "name": "stdout",
     "output_type": "stream",
     "text": [
      "Balanced dataset distribution by Rating:\n",
      " Rating\n",
      "1    2500\n",
      "2    2500\n",
      "3    2500\n",
      "4    2500\n",
      "5    2500\n",
      "Name: count, dtype: int64\n"
     ]
    },
    {
     "data": {
      "text/html": [
       "<div>\n",
       "<style scoped>\n",
       "    .dataframe tbody tr th:only-of-type {\n",
       "        vertical-align: middle;\n",
       "    }\n",
       "\n",
       "    .dataframe tbody tr th {\n",
       "        vertical-align: top;\n",
       "    }\n",
       "\n",
       "    .dataframe thead th {\n",
       "        text-align: right;\n",
       "    }\n",
       "</style>\n",
       "<table border=\"1\" class=\"dataframe\">\n",
       "  <thead>\n",
       "    <tr style=\"text-align: right;\">\n",
       "      <th></th>\n",
       "      <th>Rating</th>\n",
       "      <th>Review</th>\n",
       "      <th>ReviewLength</th>\n",
       "    </tr>\n",
       "  </thead>\n",
       "  <tbody>\n",
       "    <tr>\n",
       "      <th>0</th>\n",
       "      <td>1</td>\n",
       "      <td>I didnt really like ths book because their was...</td>\n",
       "      <td>104</td>\n",
       "    </tr>\n",
       "    <tr>\n",
       "      <th>1</th>\n",
       "      <td>1</td>\n",
       "      <td>I have a Kindle DX and the text to speech keep...</td>\n",
       "      <td>126</td>\n",
       "    </tr>\n",
       "    <tr>\n",
       "      <th>2</th>\n",
       "      <td>1</td>\n",
       "      <td>I don't like the character Natalie, i.e. the h...</td>\n",
       "      <td>1582</td>\n",
       "    </tr>\n",
       "    <tr>\n",
       "      <th>3</th>\n",
       "      <td>1</td>\n",
       "      <td>This book was one of the most poorly edited bo...</td>\n",
       "      <td>216</td>\n",
       "    </tr>\n",
       "    <tr>\n",
       "      <th>4</th>\n",
       "      <td>1</td>\n",
       "      <td>I simply could not find a story in what felt l...</td>\n",
       "      <td>164</td>\n",
       "    </tr>\n",
       "  </tbody>\n",
       "</table>\n",
       "</div>"
      ],
      "text/plain": [
       "   Rating                                             Review  ReviewLength\n",
       "0       1  I didnt really like ths book because their was...           104\n",
       "1       1  I have a Kindle DX and the text to speech keep...           126\n",
       "2       1  I don't like the character Natalie, i.e. the h...          1582\n",
       "3       1  This book was one of the most poorly edited bo...           216\n",
       "4       1  I simply could not find a story in what felt l...           164"
      ]
     },
     "metadata": {},
     "output_type": "display_data"
    }
   ],
   "source": [
    "# Sort balanced dataset by Rating\n",
    "df_balanced_sorted = df_balanced.sort_values(by='Rating').reset_index(drop=True)\n",
    "\n",
    "# Verify distribution per rating\n",
    "print(\"Balanced dataset distribution by Rating:\\n\", df_balanced_sorted['Rating'].value_counts())\n",
    "\n",
    "# Preview first few rows\n",
    "display(df_balanced_sorted.head())\n"
   ]
  },
  {
   "cell_type": "code",
   "execution_count": 42,
   "id": "acb78eb1-8949-4cec-929f-693272b1fca1",
   "metadata": {},
   "outputs": [
    {
     "name": "stdout",
     "output_type": "stream",
     "text": [
      "Balanced dataset saved \n"
     ]
    }
   ],
   "source": [
    "# Save the balanced dataset to CSV\n",
    "df_balanced_sorted.to_csv(r\"..\\data\\new data\\balanced_reviews.csv\", index=False)\n",
    "\n",
    "print(\"Balanced dataset saved \")\n"
   ]
  },
  {
   "cell_type": "markdown",
   "id": "24b75fc1-a1e7-4118-964f-aace42bd52a0",
   "metadata": {},
   "source": [
    "# Data Visualization of balanced Data"
   ]
  },
  {
   "cell_type": "markdown",
   "id": "659063a1-8b7a-4029-89dc-895f57afb7fb",
   "metadata": {},
   "source": [
    "# Rating Distribution (Bar Chart)"
   ]
  },
  {
   "cell_type": "code",
   "execution_count": 43,
   "id": "342bdec4-b692-4ef9-b8ad-9530535eecdd",
   "metadata": {},
   "outputs": [
    {
     "data": {
      "image/png": "[encoded data removed]",
      "text/plain": [
       "<Figure size 640x480 with 1 Axes>"
      ]
     },
     "metadata": {},
     "output_type": "display_data"
    }
   ],
   "source": [
    "\n",
    "sns.countplot(x='Rating', data=df_balanced_sorted, color='skyblue')\n",
    "plt.title('Balanced Dataset: Rating Distribution', fontsize=16, weight='bold')\n",
    "plt.xlabel('Rating', fontsize=12)\n",
    "plt.ylabel('Number of Reviews', fontsize=12)\n",
    "plt.xticks(fontsize=10)\n",
    "plt.yticks(fontsize=10)\n",
    "plt.show()\n"
   ]
  },
  {
   "cell_type": "markdown",
   "id": "8c69d177-4246-4020-a08f-e5424cf08452",
   "metadata": {},
   "source": [
    "# Rating Distribution (Pie Chart)"
   ]
  },
  {
   "cell_type": "code",
   "execution_count": 44,
   "id": "4822076d-da30-4406-af27-c48e82bff4d5",
   "metadata": {},
   "outputs": [
    {
     "data": {
      "image/png": "[encoded data removed]",
      "text/plain": [
       "<Figure size 640x480 with 1 Axes>"
      ]
     },
     "metadata": {},
     "output_type": "display_data"
    }
   ],
   "source": [
    "# Count of reviews per rating\n",
    "rating_counts = df_balanced_sorted['Rating'].value_counts().sort_index()\n",
    "\n",
    "# Labels and values for pie chart\n",
    "categories = rating_counts.index\n",
    "values = rating_counts.values\n",
    "\n",
    "plt.pie(values, labels=categories, autopct='%1.1f%%', startangle=90, colors=sns.color_palette(\"pastel\"))\n",
    "plt.title(\"Balanced Dataset: Rating Distribution\", fontsize=16, weight='bold')\n",
    "plt.show()\n"
   ]
  },
  {
   "cell_type": "markdown",
   "id": "b88f9dc7-6664-473d-8ede-6cc6a6953ccb",
   "metadata": {},
   "source": [
    "# Creating Imbalanced dataset"
   ]
  },
  {
   "cell_type": "code",
   "execution_count": 45,
   "id": "c47cd643-23d4-4b03-b643-e5b957a70ba4",
   "metadata": {},
   "outputs": [
    {
     "name": "stdout",
     "output_type": "stream",
     "text": [
      "Remaining dataset shape after removing balanced: (58717, 3)\n",
      "\n",
      "Imbalanced Dataset Distribution (no duplicates):\n",
      " Rating\n",
      "4    17499\n",
      "5    11743\n",
      "3     3500\n",
      "2     2935\n",
      "1     1286\n",
      "Name: count, dtype: int64\n",
      "Imbalanced dataset shape: (36963, 3)\n"
     ]
    }
   ],
   "source": [
    "# Remove balanced dataset rows from the original cleaned dataset\n",
    "df_remaining = df_sorted.merge(\n",
    "    df_balanced_sorted[['Rating','Review']], \n",
    "    on=['Rating','Review'], \n",
    "    how='left', \n",
    "    indicator=True\n",
    ")\n",
    "\n",
    "# Keep only rows not in the balanced dataset\n",
    "df_remaining = df_remaining[df_remaining['_merge'] == 'left_only'] \\\n",
    "                          .drop(columns=['_merge']) \\\n",
    "                          .reset_index(drop=True)\n",
    "\n",
    "print(\"Remaining dataset shape after removing balanced:\", df_remaining.shape)\n",
    "\n",
    "# Define target imbalanced ratios\n",
    "ratios = {1: 0.10, 2: 0.15, 3: 0.25, 4: 0.30, 5: 0.20}\n",
    "\n",
    "# Calculate total remaining rows\n",
    "total_remaining = len(df_remaining)\n",
    "Imbalanced_df_list = []\n",
    "\n",
    "# Sample each rating class without duplicates\n",
    "for rating, ratio in ratios.items():\n",
    "    df_rating = df_remaining[df_remaining['Rating'] == rating]\n",
    "    sample_size = int(total_remaining * ratio)\n",
    "\n",
    "    # Ensure we do not sample more than available rows\n",
    "    sample_size = min(sample_size, len(df_rating))\n",
    "\n",
    "    if sample_size > 0:\n",
    "        df_rating_unbalanced = df_rating.sample(n=sample_size, replace=False, random_state=42)\n",
    "        Imbalanced_df_list.append(df_rating_unbalanced)\n",
    "    else:\n",
    "        print(f\"Skipping Rating {rating} (not enough samples left).\")\n",
    "\n",
    "# Combine all sampled ratings and shuffle\n",
    "df_Imbalanced = pd.concat(Imbalanced_df_list).sample(frac=1, random_state=42).reset_index(drop=True)\n",
    "\n",
    "# Check distribution\n",
    "print(\"\\nImbalanced Dataset Distribution (no duplicates):\\n\", df_Imbalanced['Rating'].value_counts())\n",
    "print(\"Imbalanced dataset shape:\", df_Imbalanced.shape)\n"
   ]
  },
  {
   "cell_type": "code",
   "execution_count": 46,
   "id": "259d0b71-39a6-413b-b523-15299ef6a4d8",
   "metadata": {},
   "outputs": [
    {
     "name": "stdout",
     "output_type": "stream",
     "text": [
      "Imbalanced Dataset Distribution (Sorted):\n",
      " Rating\n",
      "1     1286\n",
      "2     2935\n",
      "3     3500\n",
      "4    17499\n",
      "5    11743\n",
      "Name: count, dtype: Int64\n"
     ]
    },
    {
     "data": {
      "text/html": [
       "<div>\n",
       "<style scoped>\n",
       "    .dataframe tbody tr th:only-of-type {\n",
       "        vertical-align: middle;\n",
       "    }\n",
       "\n",
       "    .dataframe tbody tr th {\n",
       "        vertical-align: top;\n",
       "    }\n",
       "\n",
       "    .dataframe thead th {\n",
       "        text-align: right;\n",
       "    }\n",
       "</style>\n",
       "<table border=\"1\" class=\"dataframe\">\n",
       "  <thead>\n",
       "    <tr style=\"text-align: right;\">\n",
       "      <th></th>\n",
       "      <th>Rating</th>\n",
       "      <th>Review</th>\n",
       "      <th>ReviewLength</th>\n",
       "    </tr>\n",
       "  </thead>\n",
       "  <tbody>\n",
       "    <tr>\n",
       "      <th>0</th>\n",
       "      <td>1</td>\n",
       "      <td>This book was so short it wouldn't even qualif...</td>\n",
       "      <td>113</td>\n",
       "    </tr>\n",
       "    <tr>\n",
       "      <th>1</th>\n",
       "      <td>1</td>\n",
       "      <td>I can't believe all the good reviews for this ...</td>\n",
       "      <td>259</td>\n",
       "    </tr>\n",
       "    <tr>\n",
       "      <th>2</th>\n",
       "      <td>1</td>\n",
       "      <td>Loved the book. Great mystery and love story. ...</td>\n",
       "      <td>133</td>\n",
       "    </tr>\n",
       "    <tr>\n",
       "      <th>3</th>\n",
       "      <td>1</td>\n",
       "      <td>Like another reviewer I found this book creepy...</td>\n",
       "      <td>212</td>\n",
       "    </tr>\n",
       "    <tr>\n",
       "      <th>4</th>\n",
       "      <td>1</td>\n",
       "      <td>This book was a real let down. Gets into peopl...</td>\n",
       "      <td>165</td>\n",
       "    </tr>\n",
       "  </tbody>\n",
       "</table>\n",
       "</div>"
      ],
      "text/plain": [
       "   Rating                                             Review  ReviewLength\n",
       "0       1  This book was so short it wouldn't even qualif...           113\n",
       "1       1  I can't believe all the good reviews for this ...           259\n",
       "2       1  Loved the book. Great mystery and love story. ...           133\n",
       "3       1  Like another reviewer I found this book creepy...           212\n",
       "4       1  This book was a real let down. Gets into peopl...           165"
      ]
     },
     "execution_count": 46,
     "metadata": {},
     "output_type": "execute_result"
    }
   ],
   "source": [
    "# Convert Ratings to numeric (integer)\n",
    "df_Imbalanced['Rating'] = pd.to_numeric(df_Imbalanced['Rating'], errors='coerce').astype('Int64')\n",
    "\n",
    "# Drop rows with invalid Ratings (if any)\n",
    "df_Imbalanced = df_Imbalanced.dropna(subset=['Rating'])\n",
    "\n",
    "# Sort by Rating\n",
    "df_Imbalanced_sorted = df_Imbalanced.sort_values(by='Rating').reset_index(drop=True)\n",
    "\n",
    "# Check counts per rating\n",
    "rating_counts = df_Imbalanced['Rating'].value_counts().sort_index()\n",
    "print(\"Imbalanced Dataset Distribution (Sorted):\\n\", rating_counts)\n",
    "\n",
    "\n",
    "df_Imbalanced_sorted.head()\n"
   ]
  },
  {
   "cell_type": "code",
   "execution_count": 47,
   "id": "5883d556-4236-40c5-a507-438a97d35c34",
   "metadata": {},
   "outputs": [
    {
     "name": "stdout",
     "output_type": "stream",
     "text": [
      "Imbalanced dataset saved\n"
     ]
    }
   ],
   "source": [
    "# Save the imbalanced dataset to CSV\n",
    "df_Imbalanced_sorted.to_csv(r\"..\\data\\new data\\Imbalanced_reviews.csv\", index=False)\n",
    "\n",
    "print(\"Imbalanced dataset saved\")\n"
   ]
  },
  {
   "cell_type": "markdown",
   "id": "45d4daf8-ab73-4d24-8b93-41836ab19fa3",
   "metadata": {},
   "source": [
    "# Data Visualization of Imbalanced Data"
   ]
  },
  {
   "cell_type": "markdown",
   "id": "d5d95e44-6f99-4644-b161-bbfd55702ffb",
   "metadata": {},
   "source": [
    "# Rating Distribution (Bar Chart)"
   ]
  },
  {
   "cell_type": "code",
   "execution_count": 48,
   "id": "26deb24a-c8e1-4ddd-ad7f-2e86e5755b9c",
   "metadata": {},
   "outputs": [
    {
     "data": {
      "image/png": "[encoded data removed]",
      "text/plain": [
       "<Figure size 640x480 with 1 Axes>"
      ]
     },
     "metadata": {},
     "output_type": "display_data"
    }
   ],
   "source": [
    "\n",
    "sns.countplot(x='Rating', data=df_Imbalanced_sorted, color='skyblue')\n",
    "plt.title(' Rating Distribution', fontsize=16, weight='bold')\n",
    "plt.xlabel('Rating', fontsize=12)\n",
    "plt.ylabel('Number of Reviews', fontsize=12)\n",
    "plt.xticks(fontsize=10)\n",
    "plt.yticks(fontsize=10)\n",
    "plt.show()\n"
   ]
  },
  {
   "cell_type": "markdown",
   "id": "46130621-6776-4118-9053-9d830443c050",
   "metadata": {},
   "source": [
    "# Rating Distribution (Pie Chart)"
   ]
  },
  {
   "cell_type": "code",
   "execution_count": 49,
   "id": "90a53919-5686-4850-a670-de968e3a673f",
   "metadata": {},
   "outputs": [
    {
     "data": {
      "image/png": "[encoded data removed]",
      "text/plain": [
       "<Figure size 640x480 with 1 Axes>"
      ]
     },
     "metadata": {},
     "output_type": "display_data"
    }
   ],
   "source": [
    "# Count of reviews per rating\n",
    "rating_counts = df_Imbalanced_sorted['Rating'].value_counts().sort_index()\n",
    "\n",
    "# Labels and values for pie chart\n",
    "categories = rating_counts.index\n",
    "values = rating_counts.values\n",
    "\n",
    "plt.pie(values, labels=categories, autopct='%1.1f%%', startangle=90, colors=sns.color_palette(\"pastel\"))\n",
    "plt.title(\" Rating Distribution\", fontsize=16, weight='bold')\n",
    "plt.show()\n"
   ]
  },
  {
   "cell_type": "code",
   "execution_count": null,
   "id": "c0f85585-a756-42fe-8708-10b1a07b8971",
   "metadata": {},
   "outputs": [],
   "source": []
  },
  {
   "cell_type": "code",
   "execution_count": null,
   "id": "03f14cb0-0e56-4db3-877b-992fe61e1e72",
   "metadata": {},
   "outputs": [],
   "source": []
  },
  {
   "cell_type": "code",
   "execution_count": null,
   "id": "acfb6bd9-725a-41c6-b493-cd77fb72968a",
   "metadata": {},
   "outputs": [],
   "source": []
  }
 ],
 "metadata": {
  "kernelspec": {
   "display_name": "Python [conda env:base] *",
   "language": "python",
   "name": "conda-base-py"
  },
  "language_info": {
   "codemirror_mode": {
    "name": "ipython",
    "version": 3
   },
   "file_extension": ".py",
   "mimetype": "text/x-python",
   "name": "python",
   "nbconvert_exporter": "python",
   "pygments_lexer": "ipython3",
   "version": "3.13.5"
  }
 },
 "nbformat": 4,
 "nbformat_minor": 5
}
