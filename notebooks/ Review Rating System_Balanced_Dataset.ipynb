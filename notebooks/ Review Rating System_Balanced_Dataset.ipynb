{
 "cells": [
  {
   "cell_type": "markdown",
   "id": "4508de6d-a560-4bad-9972-8e12688c09f0",
   "metadata": {},
   "source": [
    "# Importing Libraries"
   ]
  },
  {
   "cell_type": "code",
   "execution_count": 1,
   "id": "588d416f-26ce-4993-b3ad-7838db4444b1",
   "metadata": {},
   "outputs": [],
   "source": [
    "import pandas as pd\n",
    "import numpy as np \n",
    "import matplotlib.pyplot as plt\n",
    "import seaborn as sns\n",
    "import re\n"
   ]
  },
  {
   "cell_type": "markdown",
   "id": "2846ef04-31c2-4eb1-bae6-fc18abce059a",
   "metadata": {},
   "source": [
    "# Load Data"
   ]
  },
  {
   "cell_type": "code",
   "execution_count": 2,
   "id": "eadbf9e8-178b-4331-9826-76d72309482f",
   "metadata": {},
   "outputs": [
    {
     "name": "stdout",
     "output_type": "stream",
     "text": [
      "balanced_reviews dataset shape: (12500, 3)\n"
     ]
    }
   ],
   "source": [
    "df = pd.read_csv(r\"..\\data\\new data\\balanced_reviews.csv\", encoding='latin-1')\n",
    "\n",
    "print(\"balanced_reviews dataset shape:\", df.shape)"
   ]
  },
  {
   "cell_type": "markdown",
   "id": "3c9c0051-4b13-4d65-b94c-4c59b830a67c",
   "metadata": {},
   "source": [
    "# View Data"
   ]
  },
  {
   "cell_type": "code",
   "execution_count": 3,
   "id": "f4f7707e-db75-47de-a771-51ef4202d1f3",
   "metadata": {},
   "outputs": [
    {
     "name": "stdout",
     "output_type": "stream",
     "text": [
      "\n",
      "balanced_reviews dataset:\n",
      "<class 'pandas.core.frame.DataFrame'>\n",
      "RangeIndex: 12500 entries, 0 to 12499\n",
      "Data columns (total 3 columns):\n",
      " #   Column        Non-Null Count  Dtype \n",
      "---  ------        --------------  ----- \n",
      " 0   Rating        12500 non-null  int64 \n",
      " 1   Review        12500 non-null  object\n",
      " 2   ReviewLength  12500 non-null  int64 \n",
      "dtypes: int64(2), object(1)\n",
      "memory usage: 293.1+ KB\n"
     ]
    },
    {
     "data": {
      "text/html": [
       "<div>\n",
       "<style scoped>\n",
       "    .dataframe tbody tr th:only-of-type {\n",
       "        vertical-align: middle;\n",
       "    }\n",
       "\n",
       "    .dataframe tbody tr th {\n",
       "        vertical-align: top;\n",
       "    }\n",
       "\n",
       "    .dataframe thead th {\n",
       "        text-align: right;\n",
       "    }\n",
       "</style>\n",
       "<table border=\"1\" class=\"dataframe\">\n",
       "  <thead>\n",
       "    <tr style=\"text-align: right;\">\n",
       "      <th></th>\n",
       "      <th>Rating</th>\n",
       "      <th>ReviewLength</th>\n",
       "    </tr>\n",
       "  </thead>\n",
       "  <tbody>\n",
       "    <tr>\n",
       "      <th>count</th>\n",
       "      <td>12500.00000</td>\n",
       "      <td>12500.000000</td>\n",
       "    </tr>\n",
       "    <tr>\n",
       "      <th>mean</th>\n",
       "      <td>3.00000</td>\n",
       "      <td>593.553040</td>\n",
       "    </tr>\n",
       "    <tr>\n",
       "      <th>std</th>\n",
       "      <td>1.41427</td>\n",
       "      <td>703.221171</td>\n",
       "    </tr>\n",
       "    <tr>\n",
       "      <th>min</th>\n",
       "      <td>1.00000</td>\n",
       "      <td>4.000000</td>\n",
       "    </tr>\n",
       "    <tr>\n",
       "      <th>25%</th>\n",
       "      <td>2.00000</td>\n",
       "      <td>167.000000</td>\n",
       "    </tr>\n",
       "    <tr>\n",
       "      <th>50%</th>\n",
       "      <td>3.00000</td>\n",
       "      <td>325.000000</td>\n",
       "    </tr>\n",
       "    <tr>\n",
       "      <th>75%</th>\n",
       "      <td>4.00000</td>\n",
       "      <td>720.000000</td>\n",
       "    </tr>\n",
       "    <tr>\n",
       "      <th>max</th>\n",
       "      <td>5.00000</td>\n",
       "      <td>8114.000000</td>\n",
       "    </tr>\n",
       "  </tbody>\n",
       "</table>\n",
       "</div>"
      ],
      "text/plain": [
       "            Rating  ReviewLength\n",
       "count  12500.00000  12500.000000\n",
       "mean       3.00000    593.553040\n",
       "std        1.41427    703.221171\n",
       "min        1.00000      4.000000\n",
       "25%        2.00000    167.000000\n",
       "50%        3.00000    325.000000\n",
       "75%        4.00000    720.000000\n",
       "max        5.00000   8114.000000"
      ]
     },
     "execution_count": 3,
     "metadata": {},
     "output_type": "execute_result"
    }
   ],
   "source": [
    "print(\"\\nbalanced_reviews dataset:\")\n",
    "\n",
    "df.info()\n",
    "df.describe()"
   ]
  },
  {
   "cell_type": "code",
   "execution_count": 4,
   "id": "ad15d9a4-a894-47ae-8b7c-f668ef4ea3fa",
   "metadata": {},
   "outputs": [
    {
     "data": {
      "text/html": [
       "<div>\n",
       "<style scoped>\n",
       "    .dataframe tbody tr th:only-of-type {\n",
       "        vertical-align: middle;\n",
       "    }\n",
       "\n",
       "    .dataframe tbody tr th {\n",
       "        vertical-align: top;\n",
       "    }\n",
       "\n",
       "    .dataframe thead th {\n",
       "        text-align: right;\n",
       "    }\n",
       "</style>\n",
       "<table border=\"1\" class=\"dataframe\">\n",
       "  <thead>\n",
       "    <tr style=\"text-align: right;\">\n",
       "      <th></th>\n",
       "      <th>Rating</th>\n",
       "      <th>Review</th>\n",
       "      <th>ReviewLength</th>\n",
       "    </tr>\n",
       "  </thead>\n",
       "  <tbody>\n",
       "    <tr>\n",
       "      <th>0</th>\n",
       "      <td>1</td>\n",
       "      <td>I didnt really like ths book because their was...</td>\n",
       "      <td>104</td>\n",
       "    </tr>\n",
       "    <tr>\n",
       "      <th>1</th>\n",
       "      <td>1</td>\n",
       "      <td>I have a Kindle DX and the text to speech keep...</td>\n",
       "      <td>126</td>\n",
       "    </tr>\n",
       "    <tr>\n",
       "      <th>2</th>\n",
       "      <td>1</td>\n",
       "      <td>I don't like the character Natalie, i.e. the h...</td>\n",
       "      <td>1582</td>\n",
       "    </tr>\n",
       "    <tr>\n",
       "      <th>3</th>\n",
       "      <td>1</td>\n",
       "      <td>This book was one of the most poorly edited bo...</td>\n",
       "      <td>216</td>\n",
       "    </tr>\n",
       "    <tr>\n",
       "      <th>4</th>\n",
       "      <td>1</td>\n",
       "      <td>I simply could not find a story in what felt l...</td>\n",
       "      <td>164</td>\n",
       "    </tr>\n",
       "  </tbody>\n",
       "</table>\n",
       "</div>"
      ],
      "text/plain": [
       "   Rating                                             Review  ReviewLength\n",
       "0       1  I didnt really like ths book because their was...           104\n",
       "1       1  I have a Kindle DX and the text to speech keep...           126\n",
       "2       1  I don't like the character Natalie, i.e. the h...          1582\n",
       "3       1  This book was one of the most poorly edited bo...           216\n",
       "4       1  I simply could not find a story in what felt l...           164"
      ]
     },
     "execution_count": 4,
     "metadata": {},
     "output_type": "execute_result"
    }
   ],
   "source": [
    "df.head()\n"
   ]
  },
  {
   "cell_type": "code",
   "execution_count": 5,
   "id": "c2efa3ce-d63d-4744-b797-ab7ce45aa6cb",
   "metadata": {},
   "outputs": [
    {
     "data": {
      "text/html": [
       "<div>\n",
       "<style scoped>\n",
       "    .dataframe tbody tr th:only-of-type {\n",
       "        vertical-align: middle;\n",
       "    }\n",
       "\n",
       "    .dataframe tbody tr th {\n",
       "        vertical-align: top;\n",
       "    }\n",
       "\n",
       "    .dataframe thead th {\n",
       "        text-align: right;\n",
       "    }\n",
       "</style>\n",
       "<table border=\"1\" class=\"dataframe\">\n",
       "  <thead>\n",
       "    <tr style=\"text-align: right;\">\n",
       "      <th></th>\n",
       "      <th>Rating</th>\n",
       "      <th>Review</th>\n",
       "      <th>ReviewLength</th>\n",
       "    </tr>\n",
       "  </thead>\n",
       "  <tbody>\n",
       "    <tr>\n",
       "      <th>12495</th>\n",
       "      <td>5</td>\n",
       "      <td>Another hard to put down book by this author! ...</td>\n",
       "      <td>605</td>\n",
       "    </tr>\n",
       "    <tr>\n",
       "      <th>12496</th>\n",
       "      <td>5</td>\n",
       "      <td>The story is well written. The scenario is a g...</td>\n",
       "      <td>120</td>\n",
       "    </tr>\n",
       "    <tr>\n",
       "      <th>12497</th>\n",
       "      <td>5</td>\n",
       "      <td>This series gripped me from the first and I co...</td>\n",
       "      <td>1457</td>\n",
       "    </tr>\n",
       "    <tr>\n",
       "      <th>12498</th>\n",
       "      <td>5</td>\n",
       "      <td>Author C. Callinsky's new novel \"Rear View Mir...</td>\n",
       "      <td>1141</td>\n",
       "    </tr>\n",
       "    <tr>\n",
       "      <th>12499</th>\n",
       "      <td>5</td>\n",
       "      <td>Matt Cahill, The Dead Man, had come 3,000 mile...</td>\n",
       "      <td>814</td>\n",
       "    </tr>\n",
       "  </tbody>\n",
       "</table>\n",
       "</div>"
      ],
      "text/plain": [
       "       Rating                                             Review  ReviewLength\n",
       "12495       5  Another hard to put down book by this author! ...           605\n",
       "12496       5  The story is well written. The scenario is a g...           120\n",
       "12497       5  This series gripped me from the first and I co...          1457\n",
       "12498       5  Author C. Callinsky's new novel \"Rear View Mir...          1141\n",
       "12499       5  Matt Cahill, The Dead Man, had come 3,000 mile...           814"
      ]
     },
     "execution_count": 5,
     "metadata": {},
     "output_type": "execute_result"
    }
   ],
   "source": [
    "df.tail()"
   ]
  },
  {
   "cell_type": "markdown",
   "id": "b243ae8c-701a-4b81-af64-8e1fe12c5f42",
   "metadata": {},
   "source": [
    "# Selecting Columns"
   ]
  },
  {
   "cell_type": "code",
   "execution_count": 6,
   "id": "4c028cd7-8b7a-4c0b-bc0b-7cca858abfe3",
   "metadata": {},
   "outputs": [
    {
     "name": "stdout",
     "output_type": "stream",
     "text": [
      "Final dataset columns: ['Rating', 'Review']\n",
      "Final dataset shape: (12500, 2)\n"
     ]
    }
   ],
   "source": [
    "# Keep only relevant columns\n",
    "df = df[['Rating', 'Review']]\n",
    "\n",
    "print(\"Final dataset columns:\", df.columns.tolist())\n",
    "print(\"Final dataset shape:\", df.shape)\n"
   ]
  },
  {
   "cell_type": "markdown",
   "id": "f88fc99a-dbba-4c92-8c63-76e953d53d21",
   "metadata": {},
   "source": [
    "# Natural Language Processing (NLP)"
   ]
  },
  {
   "cell_type": "markdown",
   "id": "3019d40c-a1ad-4135-b679-af1fa8e65c87",
   "metadata": {},
   "source": [
    "# Lowercase All Text"
   ]
  },
  {
   "cell_type": "code",
   "execution_count": 7,
   "id": "758367d8-7f49-46ce-a972-e8eb9132019d",
   "metadata": {},
   "outputs": [
    {
     "data": {
      "text/html": [
       "<div>\n",
       "<style scoped>\n",
       "    .dataframe tbody tr th:only-of-type {\n",
       "        vertical-align: middle;\n",
       "    }\n",
       "\n",
       "    .dataframe tbody tr th {\n",
       "        vertical-align: top;\n",
       "    }\n",
       "\n",
       "    .dataframe thead th {\n",
       "        text-align: right;\n",
       "    }\n",
       "</style>\n",
       "<table border=\"1\" class=\"dataframe\">\n",
       "  <thead>\n",
       "    <tr style=\"text-align: right;\">\n",
       "      <th></th>\n",
       "      <th>Rating</th>\n",
       "      <th>Review</th>\n",
       "    </tr>\n",
       "  </thead>\n",
       "  <tbody>\n",
       "    <tr>\n",
       "      <th>0</th>\n",
       "      <td>1</td>\n",
       "      <td>i didnt really like ths book because their was...</td>\n",
       "    </tr>\n",
       "    <tr>\n",
       "      <th>1</th>\n",
       "      <td>1</td>\n",
       "      <td>i have a kindle dx and the text to speech keep...</td>\n",
       "    </tr>\n",
       "    <tr>\n",
       "      <th>2</th>\n",
       "      <td>1</td>\n",
       "      <td>i don't like the character natalie, i.e. the h...</td>\n",
       "    </tr>\n",
       "    <tr>\n",
       "      <th>3</th>\n",
       "      <td>1</td>\n",
       "      <td>this book was one of the most poorly edited bo...</td>\n",
       "    </tr>\n",
       "    <tr>\n",
       "      <th>4</th>\n",
       "      <td>1</td>\n",
       "      <td>i simply could not find a story in what felt l...</td>\n",
       "    </tr>\n",
       "  </tbody>\n",
       "</table>\n",
       "</div>"
      ],
      "text/plain": [
       "   Rating                                             Review\n",
       "0       1  i didnt really like ths book because their was...\n",
       "1       1  i have a kindle dx and the text to speech keep...\n",
       "2       1  i don't like the character natalie, i.e. the h...\n",
       "3       1  this book was one of the most poorly edited bo...\n",
       "4       1  i simply could not find a story in what felt l..."
      ]
     },
     "execution_count": 7,
     "metadata": {},
     "output_type": "execute_result"
    }
   ],
   "source": [
    "# Convert all review text to lowercase\n",
    "df['Review'] = df['Review'].str.lower()\n",
    "\n",
    "df.head()\n"
   ]
  },
  {
   "cell_type": "markdown",
   "id": "5abb72fb-765d-4b0e-a42c-8ebef58c5261",
   "metadata": {},
   "source": [
    "# Remove URL"
   ]
  },
  {
   "cell_type": "code",
   "execution_count": 8,
   "id": "55d46e34-dd62-49aa-93eb-4e05920bc19a",
   "metadata": {},
   "outputs": [
    {
     "data": {
      "text/html": [
       "<div>\n",
       "<style scoped>\n",
       "    .dataframe tbody tr th:only-of-type {\n",
       "        vertical-align: middle;\n",
       "    }\n",
       "\n",
       "    .dataframe tbody tr th {\n",
       "        vertical-align: top;\n",
       "    }\n",
       "\n",
       "    .dataframe thead th {\n",
       "        text-align: right;\n",
       "    }\n",
       "</style>\n",
       "<table border=\"1\" class=\"dataframe\">\n",
       "  <thead>\n",
       "    <tr style=\"text-align: right;\">\n",
       "      <th></th>\n",
       "      <th>Rating</th>\n",
       "      <th>Review</th>\n",
       "    </tr>\n",
       "  </thead>\n",
       "  <tbody>\n",
       "    <tr>\n",
       "      <th>0</th>\n",
       "      <td>1</td>\n",
       "      <td>i didnt really like ths book because their was...</td>\n",
       "    </tr>\n",
       "    <tr>\n",
       "      <th>1</th>\n",
       "      <td>1</td>\n",
       "      <td>i have a kindle dx and the text to speech keep...</td>\n",
       "    </tr>\n",
       "    <tr>\n",
       "      <th>2</th>\n",
       "      <td>1</td>\n",
       "      <td>i don't like the character natalie, i.e. the h...</td>\n",
       "    </tr>\n",
       "    <tr>\n",
       "      <th>3</th>\n",
       "      <td>1</td>\n",
       "      <td>this book was one of the most poorly edited bo...</td>\n",
       "    </tr>\n",
       "    <tr>\n",
       "      <th>4</th>\n",
       "      <td>1</td>\n",
       "      <td>i simply could not find a story in what felt l...</td>\n",
       "    </tr>\n",
       "  </tbody>\n",
       "</table>\n",
       "</div>"
      ],
      "text/plain": [
       "   Rating                                             Review\n",
       "0       1  i didnt really like ths book because their was...\n",
       "1       1  i have a kindle dx and the text to speech keep...\n",
       "2       1  i don't like the character natalie, i.e. the h...\n",
       "3       1  this book was one of the most poorly edited bo...\n",
       "4       1  i simply could not find a story in what felt l..."
      ]
     },
     "execution_count": 8,
     "metadata": {},
     "output_type": "execute_result"
    }
   ],
   "source": [
    "# Remove URLs from the review text\n",
    "df['Review'] = df['Review'].apply(lambda x: re.sub(r'http\\S+|www\\S+|https\\S+', '', x, flags=re.IGNORECASE))\n",
    "\n",
    "df.head()\n"
   ]
  },
  {
   "cell_type": "markdown",
   "id": "b4978e29-d0a3-4f8d-ae49-802af1b7771e",
   "metadata": {},
   "source": [
    "# Remove HTML tags"
   ]
  },
  {
   "cell_type": "code",
   "execution_count": 9,
   "id": "08634921-2a01-4952-8ca1-4abbd4a149e7",
   "metadata": {},
   "outputs": [
    {
     "data": {
      "text/html": [
       "<div>\n",
       "<style scoped>\n",
       "    .dataframe tbody tr th:only-of-type {\n",
       "        vertical-align: middle;\n",
       "    }\n",
       "\n",
       "    .dataframe tbody tr th {\n",
       "        vertical-align: top;\n",
       "    }\n",
       "\n",
       "    .dataframe thead th {\n",
       "        text-align: right;\n",
       "    }\n",
       "</style>\n",
       "<table border=\"1\" class=\"dataframe\">\n",
       "  <thead>\n",
       "    <tr style=\"text-align: right;\">\n",
       "      <th></th>\n",
       "      <th>Rating</th>\n",
       "      <th>Review</th>\n",
       "    </tr>\n",
       "  </thead>\n",
       "  <tbody>\n",
       "    <tr>\n",
       "      <th>0</th>\n",
       "      <td>1</td>\n",
       "      <td>i didnt really like ths book because their was...</td>\n",
       "    </tr>\n",
       "    <tr>\n",
       "      <th>1</th>\n",
       "      <td>1</td>\n",
       "      <td>i have a kindle dx and the text to speech keep...</td>\n",
       "    </tr>\n",
       "    <tr>\n",
       "      <th>2</th>\n",
       "      <td>1</td>\n",
       "      <td>i don't like the character natalie, i.e. the h...</td>\n",
       "    </tr>\n",
       "    <tr>\n",
       "      <th>3</th>\n",
       "      <td>1</td>\n",
       "      <td>this book was one of the most poorly edited bo...</td>\n",
       "    </tr>\n",
       "    <tr>\n",
       "      <th>4</th>\n",
       "      <td>1</td>\n",
       "      <td>i simply could not find a story in what felt l...</td>\n",
       "    </tr>\n",
       "  </tbody>\n",
       "</table>\n",
       "</div>"
      ],
      "text/plain": [
       "   Rating                                             Review\n",
       "0       1  i didnt really like ths book because their was...\n",
       "1       1  i have a kindle dx and the text to speech keep...\n",
       "2       1  i don't like the character natalie, i.e. the h...\n",
       "3       1  this book was one of the most poorly edited bo...\n",
       "4       1  i simply could not find a story in what felt l..."
      ]
     },
     "execution_count": 9,
     "metadata": {},
     "output_type": "execute_result"
    }
   ],
   "source": [
    "# Remove HTML tags from review text\n",
    "df['Review'] = df['Review'].apply(lambda x: re.sub(r'<.*?>', '', x))\n",
    "\n",
    "df.head()\n"
   ]
  },
  {
   "cell_type": "markdown",
   "id": "4e642ea8-8cc3-47f7-a421-bed350569607",
   "metadata": {},
   "source": [
    "# Remove emojis, punctuation and special characters"
   ]
  },
  {
   "cell_type": "code",
   "execution_count": 10,
   "id": "bfeb54bd-e3ed-4a6d-9a58-52af456c545a",
   "metadata": {},
   "outputs": [
    {
     "data": {
      "text/html": [
       "<div>\n",
       "<style scoped>\n",
       "    .dataframe tbody tr th:only-of-type {\n",
       "        vertical-align: middle;\n",
       "    }\n",
       "\n",
       "    .dataframe tbody tr th {\n",
       "        vertical-align: top;\n",
       "    }\n",
       "\n",
       "    .dataframe thead th {\n",
       "        text-align: right;\n",
       "    }\n",
       "</style>\n",
       "<table border=\"1\" class=\"dataframe\">\n",
       "  <thead>\n",
       "    <tr style=\"text-align: right;\">\n",
       "      <th></th>\n",
       "      <th>Rating</th>\n",
       "      <th>Review</th>\n",
       "    </tr>\n",
       "  </thead>\n",
       "  <tbody>\n",
       "    <tr>\n",
       "      <th>0</th>\n",
       "      <td>1</td>\n",
       "      <td>i didnt really like ths book because their was...</td>\n",
       "    </tr>\n",
       "    <tr>\n",
       "      <th>1</th>\n",
       "      <td>1</td>\n",
       "      <td>i have a kindle dx and the text to speech keep...</td>\n",
       "    </tr>\n",
       "    <tr>\n",
       "      <th>2</th>\n",
       "      <td>1</td>\n",
       "      <td>i dont like the character natalie ie the heroi...</td>\n",
       "    </tr>\n",
       "    <tr>\n",
       "      <th>3</th>\n",
       "      <td>1</td>\n",
       "      <td>this book was one of the most poorly edited bo...</td>\n",
       "    </tr>\n",
       "    <tr>\n",
       "      <th>4</th>\n",
       "      <td>1</td>\n",
       "      <td>i simply could not find a story in what felt l...</td>\n",
       "    </tr>\n",
       "  </tbody>\n",
       "</table>\n",
       "</div>"
      ],
      "text/plain": [
       "   Rating                                             Review\n",
       "0       1  i didnt really like ths book because their was...\n",
       "1       1  i have a kindle dx and the text to speech keep...\n",
       "2       1  i dont like the character natalie ie the heroi...\n",
       "3       1  this book was one of the most poorly edited bo...\n",
       "4       1  i simply could not find a story in what felt l..."
      ]
     },
     "execution_count": 10,
     "metadata": {},
     "output_type": "execute_result"
    }
   ],
   "source": [
    "# Remove emojis, punctuation, and special characters\n",
    "df['Review'] = df['Review'].apply(lambda x: re.sub(r'[^a-zA-Z0-9\\s]', '', x))\n",
    "\n",
    "# Remove extra whitespaces\n",
    "df['Review'] = df['Review'].apply(lambda x: re.sub(r'\\s+', ' ', x).strip())\n",
    "\n",
    "\n",
    "df.head()\n"
   ]
  },
  {
   "cell_type": "markdown",
   "id": "4ac8fd2f-97f2-4963-b776-7acfc437cd33",
   "metadata": {},
   "source": [
    "# Showing stopwords"
   ]
  },
  {
   "cell_type": "code",
   "execution_count": 11,
   "id": "b5210d79-ab16-4de7-9a58-2acb5a1e7e61",
   "metadata": {},
   "outputs": [
    {
     "name": "stdout",
     "output_type": "stream",
     "text": [
      "Number of stopwords: 326\n",
      "Sample stopwords: ['while', 'every', 'she', 'almost', 'something', 'become', 'he', 'elsewhere', 'just', 'has', 'will', 'thus', 'all', 'did', 'sometimes', 'least', 'some', 'becoming', 'doing', 'me']\n"
     ]
    },
    {
     "data": {
      "text/html": [
       "<div>\n",
       "<style scoped>\n",
       "    .dataframe tbody tr th:only-of-type {\n",
       "        vertical-align: middle;\n",
       "    }\n",
       "\n",
       "    .dataframe tbody tr th {\n",
       "        vertical-align: top;\n",
       "    }\n",
       "\n",
       "    .dataframe thead th {\n",
       "        text-align: right;\n",
       "    }\n",
       "</style>\n",
       "<table border=\"1\" class=\"dataframe\">\n",
       "  <thead>\n",
       "    <tr style=\"text-align: right;\">\n",
       "      <th></th>\n",
       "      <th>Review</th>\n",
       "      <th>Stopword_Count</th>\n",
       "    </tr>\n",
       "  </thead>\n",
       "  <tbody>\n",
       "    <tr>\n",
       "      <th>0</th>\n",
       "      <td>i didnt really like ths book because their was...</td>\n",
       "      <td>10</td>\n",
       "    </tr>\n",
       "    <tr>\n",
       "      <th>1</th>\n",
       "      <td>i have a kindle dx and the text to speech keep...</td>\n",
       "      <td>13</td>\n",
       "    </tr>\n",
       "    <tr>\n",
       "      <th>2</th>\n",
       "      <td>i dont like the character natalie ie the heroi...</td>\n",
       "      <td>172</td>\n",
       "    </tr>\n",
       "    <tr>\n",
       "      <th>3</th>\n",
       "      <td>this book was one of the most poorly edited bo...</td>\n",
       "      <td>27</td>\n",
       "    </tr>\n",
       "    <tr>\n",
       "      <th>4</th>\n",
       "      <td>i simply could not find a story in what felt l...</td>\n",
       "      <td>17</td>\n",
       "    </tr>\n",
       "  </tbody>\n",
       "</table>\n",
       "</div>"
      ],
      "text/plain": [
       "                                              Review  Stopword_Count\n",
       "0  i didnt really like ths book because their was...              10\n",
       "1  i have a kindle dx and the text to speech keep...              13\n",
       "2  i dont like the character natalie ie the heroi...             172\n",
       "3  this book was one of the most poorly edited bo...              27\n",
       "4  i simply could not find a story in what felt l...              17"
      ]
     },
     "execution_count": 11,
     "metadata": {},
     "output_type": "execute_result"
    }
   ],
   "source": [
    "import spacy\n",
    "\n",
    "# Load SpaCy English model\n",
    "nlp = spacy.load('en_core_web_sm')\n",
    "\n",
    "#  get stopwords list\n",
    "stopwords = nlp.Defaults.stop_words\n",
    "print(f\"Number of stopwords: {len(stopwords)}\")\n",
    "print(\"Sample stopwords:\", list(stopwords)[:20])\n",
    "\n",
    "#  count stopwords in each review\n",
    "df['Stopword_Count'] = df['Review'].apply(lambda x: sum(1 for token in x.split() if token in stopwords))\n",
    "\n",
    "\n",
    "df[['Review', 'Stopword_Count']].head()\n"
   ]
  },
  {
   "cell_type": "markdown",
   "id": "ce785b17-4000-4609-a5de-03ba720639c7",
   "metadata": {},
   "source": [
    "# Total stopwords in all reviews:"
   ]
  },
  {
   "cell_type": "code",
   "execution_count": 12,
   "id": "040a0f5b-fcaf-4559-9bbb-3850743ccbb4",
   "metadata": {},
   "outputs": [
    {
     "name": "stdout",
     "output_type": "stream",
     "text": [
      "Total stopwords in all reviews: 761045\n"
     ]
    }
   ],
   "source": [
    "# Total stopwords in the entire dataset\n",
    "total_stopwords = df['Stopword_Count'].sum()\n",
    "print(\"Total stopwords in all reviews:\", total_stopwords)\n"
   ]
  },
  {
   "cell_type": "markdown",
   "id": "1203a9cb-774c-4b78-8104-beb6d33dec72",
   "metadata": {},
   "source": [
    "# Remove stopwords"
   ]
  },
  {
   "cell_type": "code",
   "execution_count": 13,
   "id": "7464edd0-7a6c-4b64-b05c-13b04e465b88",
   "metadata": {},
   "outputs": [
    {
     "data": {
      "text/html": [
       "<div>\n",
       "<style scoped>\n",
       "    .dataframe tbody tr th:only-of-type {\n",
       "        vertical-align: middle;\n",
       "    }\n",
       "\n",
       "    .dataframe tbody tr th {\n",
       "        vertical-align: top;\n",
       "    }\n",
       "\n",
       "    .dataframe thead th {\n",
       "        text-align: right;\n",
       "    }\n",
       "</style>\n",
       "<table border=\"1\" class=\"dataframe\">\n",
       "  <thead>\n",
       "    <tr style=\"text-align: right;\">\n",
       "      <th></th>\n",
       "      <th>Rating</th>\n",
       "      <th>Review</th>\n",
       "      <th>Stopword_Count</th>\n",
       "    </tr>\n",
       "  </thead>\n",
       "  <tbody>\n",
       "    <tr>\n",
       "      <th>0</th>\n",
       "      <td>1</td>\n",
       "      <td>nt like ths book swrwrds othrws ws ok peace</td>\n",
       "      <td>10</td>\n",
       "    </tr>\n",
       "    <tr>\n",
       "      <th>1</th>\n",
       "      <td>1</td>\n",
       "      <td>kindle dx text speech keeps stopping message t...</td>\n",
       "      <td>13</td>\n",
       "    </tr>\n",
       "    <tr>\n",
       "      <th>2</th>\n",
       "      <td>1</td>\n",
       "      <td>nt like character natalie ie heroine story men...</td>\n",
       "      <td>172</td>\n",
       "    </tr>\n",
       "    <tr>\n",
       "      <th>3</th>\n",
       "      <td>1</td>\n",
       "      <td>book poorly edited books read great continuity...</td>\n",
       "      <td>27</td>\n",
       "    </tr>\n",
       "    <tr>\n",
       "      <th>4</th>\n",
       "      <td>1</td>\n",
       "      <td>simply find story felt like streamofconsciousn...</td>\n",
       "      <td>17</td>\n",
       "    </tr>\n",
       "  </tbody>\n",
       "</table>\n",
       "</div>"
      ],
      "text/plain": [
       "   Rating                                             Review  Stopword_Count\n",
       "0       1        nt like ths book swrwrds othrws ws ok peace              10\n",
       "1       1  kindle dx text speech keeps stopping message t...              13\n",
       "2       1  nt like character natalie ie heroine story men...             172\n",
       "3       1  book poorly edited books read great continuity...              27\n",
       "4       1  simply find story felt like streamofconsciousn...              17"
      ]
     },
     "execution_count": 13,
     "metadata": {},
     "output_type": "execute_result"
    }
   ],
   "source": [
    "# Function to remove stopwords\n",
    "def remove_stopwords(text):\n",
    "    doc = nlp(text)\n",
    "    return ' '.join([token.text for token in doc if token.text not in nlp.Defaults.stop_words])\n",
    "\n",
    "# Apply to the Review column\n",
    "df['Review'] = df['Review'].apply(remove_stopwords)\n",
    "\n",
    "df.head()\n"
   ]
  },
  {
   "cell_type": "markdown",
   "id": "ab252e5b-45e8-4f78-aeb1-d376d982d571",
   "metadata": {},
   "source": [
    "# Apply Lemmatization"
   ]
  },
  {
   "cell_type": "code",
   "execution_count": 14,
   "id": "351923e6-84f9-4dfa-9d57-2b8a31e7ecb7",
   "metadata": {},
   "outputs": [
    {
     "data": {
      "text/html": [
       "<div>\n",
       "<style scoped>\n",
       "    .dataframe tbody tr th:only-of-type {\n",
       "        vertical-align: middle;\n",
       "    }\n",
       "\n",
       "    .dataframe tbody tr th {\n",
       "        vertical-align: top;\n",
       "    }\n",
       "\n",
       "    .dataframe thead th {\n",
       "        text-align: right;\n",
       "    }\n",
       "</style>\n",
       "<table border=\"1\" class=\"dataframe\">\n",
       "  <thead>\n",
       "    <tr style=\"text-align: right;\">\n",
       "      <th></th>\n",
       "      <th>Rating</th>\n",
       "      <th>Review</th>\n",
       "      <th>Stopword_Count</th>\n",
       "    </tr>\n",
       "  </thead>\n",
       "  <tbody>\n",
       "    <tr>\n",
       "      <th>0</th>\n",
       "      <td>1</td>\n",
       "      <td>not like ths book swrwrd othrws ws ok peace</td>\n",
       "      <td>10</td>\n",
       "    </tr>\n",
       "    <tr>\n",
       "      <th>1</th>\n",
       "      <td>1</td>\n",
       "      <td>kindle dx text speech keep stop message text s...</td>\n",
       "      <td>13</td>\n",
       "    </tr>\n",
       "    <tr>\n",
       "      <th>2</th>\n",
       "      <td>1</td>\n",
       "      <td>not like character natalie ie heroine story me...</td>\n",
       "      <td>172</td>\n",
       "    </tr>\n",
       "    <tr>\n",
       "      <th>3</th>\n",
       "      <td>1</td>\n",
       "      <td>book poorly edit book read great continuity mi...</td>\n",
       "      <td>27</td>\n",
       "    </tr>\n",
       "    <tr>\n",
       "      <th>4</th>\n",
       "      <td>1</td>\n",
       "      <td>simply find story feel like streamofconsciousn...</td>\n",
       "      <td>17</td>\n",
       "    </tr>\n",
       "  </tbody>\n",
       "</table>\n",
       "</div>"
      ],
      "text/plain": [
       "   Rating                                             Review  Stopword_Count\n",
       "0       1        not like ths book swrwrd othrws ws ok peace              10\n",
       "1       1  kindle dx text speech keep stop message text s...              13\n",
       "2       1  not like character natalie ie heroine story me...             172\n",
       "3       1  book poorly edit book read great continuity mi...              27\n",
       "4       1  simply find story feel like streamofconsciousn...              17"
      ]
     },
     "execution_count": 14,
     "metadata": {},
     "output_type": "execute_result"
    }
   ],
   "source": [
    "\n",
    "# Function for lemmatization\n",
    "def lemmatize_text(text):\n",
    "    doc = nlp(text)\n",
    "    return ' '.join([token.lemma_ for token in doc])\n",
    "\n",
    "# Apply lemmatization to the Review column\n",
    "df['Review'] = df['Review'].apply(lemmatize_text)\n",
    "\n",
    "df.head()\n"
   ]
  },
  {
   "cell_type": "code",
   "execution_count": null,
   "id": "3fbf2c44-eb36-42b5-9756-a6658b2a2eb9",
   "metadata": {},
   "outputs": [],
   "source": []
  },
  {
   "cell_type": "markdown",
   "id": "3387e125-3dc4-45c2-aa2f-41ed91f3ed14",
   "metadata": {},
   "source": [
    "# Filter out reviews with: Fewer than minimum words and Excessively long text"
   ]
  },
  {
   "cell_type": "code",
   "execution_count": 15,
   "id": "705c2183-8ef8-4b3d-8a61-8dc0a8c31cec",
   "metadata": {},
   "outputs": [
    {
     "name": "stdout",
     "output_type": "stream",
     "text": [
      "Dataset shape after filtering: (12406, 4)\n"
     ]
    },
    {
     "data": {
      "text/html": [
       "<div>\n",
       "<style scoped>\n",
       "    .dataframe tbody tr th:only-of-type {\n",
       "        vertical-align: middle;\n",
       "    }\n",
       "\n",
       "    .dataframe tbody tr th {\n",
       "        vertical-align: top;\n",
       "    }\n",
       "\n",
       "    .dataframe thead th {\n",
       "        text-align: right;\n",
       "    }\n",
       "</style>\n",
       "<table border=\"1\" class=\"dataframe\">\n",
       "  <thead>\n",
       "    <tr style=\"text-align: right;\">\n",
       "      <th></th>\n",
       "      <th>Review</th>\n",
       "      <th>Word_Count</th>\n",
       "    </tr>\n",
       "  </thead>\n",
       "  <tbody>\n",
       "    <tr>\n",
       "      <th>0</th>\n",
       "      <td>not like ths book swrwrd othrws ws ok peace</td>\n",
       "      <td>9</td>\n",
       "    </tr>\n",
       "    <tr>\n",
       "      <th>1</th>\n",
       "      <td>kindle dx text speech keep stop message text s...</td>\n",
       "      <td>11</td>\n",
       "    </tr>\n",
       "    <tr>\n",
       "      <th>2</th>\n",
       "      <td>not like character natalie ie heroine story me...</td>\n",
       "      <td>123</td>\n",
       "    </tr>\n",
       "    <tr>\n",
       "      <th>3</th>\n",
       "      <td>book poorly edit book read great continuity mi...</td>\n",
       "      <td>14</td>\n",
       "    </tr>\n",
       "    <tr>\n",
       "      <th>4</th>\n",
       "      <td>simply find story feel like streamofconsciousn...</td>\n",
       "      <td>13</td>\n",
       "    </tr>\n",
       "  </tbody>\n",
       "</table>\n",
       "</div>"
      ],
      "text/plain": [
       "                                              Review  Word_Count\n",
       "0        not like ths book swrwrd othrws ws ok peace           9\n",
       "1  kindle dx text speech keep stop message text s...          11\n",
       "2  not like character natalie ie heroine story me...         123\n",
       "3  book poorly edit book read great continuity mi...          14\n",
       "4  simply find story feel like streamofconsciousn...          13"
      ]
     },
     "execution_count": 15,
     "metadata": {},
     "output_type": "execute_result"
    }
   ],
   "source": [
    "# Define thresholds\n",
    "min_words = 3      # Minimum words per review\n",
    "max_words = 300     # Maximum words per review\n",
    "\n",
    "# Count words in each review\n",
    "df['Word_Count'] = df['Review'].apply(lambda x: len(x.split()))\n",
    "\n",
    "# Filter reviews\n",
    "df = df[(df['Word_Count'] >= min_words) & (df['Word_Count'] <= max_words)].reset_index(drop=True)\n",
    "\n",
    "print(\"Dataset shape after filtering:\", df.shape)\n",
    "df[['Review', 'Word_Count']].head()\n"
   ]
  },
  {
   "cell_type": "markdown",
   "id": "ff28ce7a-e2b7-4658-bfba-c011e8f259cb",
   "metadata": {},
   "source": [
    "# Word count"
   ]
  },
  {
   "cell_type": "code",
   "execution_count": 16,
   "id": "79fc4a0f-5564-4945-a57c-e1fadce17f16",
   "metadata": {},
   "outputs": [
    {
     "data": {
      "text/html": [
       "<div>\n",
       "<style scoped>\n",
       "    .dataframe tbody tr th:only-of-type {\n",
       "        vertical-align: middle;\n",
       "    }\n",
       "\n",
       "    .dataframe tbody tr th {\n",
       "        vertical-align: top;\n",
       "    }\n",
       "\n",
       "    .dataframe thead th {\n",
       "        text-align: right;\n",
       "    }\n",
       "</style>\n",
       "<table border=\"1\" class=\"dataframe\">\n",
       "  <thead>\n",
       "    <tr style=\"text-align: right;\">\n",
       "      <th></th>\n",
       "      <th>Review</th>\n",
       "      <th>Word_Count</th>\n",
       "    </tr>\n",
       "  </thead>\n",
       "  <tbody>\n",
       "    <tr>\n",
       "      <th>0</th>\n",
       "      <td>not like ths book swrwrd othrws ws ok peace</td>\n",
       "      <td>9</td>\n",
       "    </tr>\n",
       "    <tr>\n",
       "      <th>1</th>\n",
       "      <td>kindle dx text speech keep stop message text s...</td>\n",
       "      <td>11</td>\n",
       "    </tr>\n",
       "    <tr>\n",
       "      <th>2</th>\n",
       "      <td>not like character natalie ie heroine story me...</td>\n",
       "      <td>123</td>\n",
       "    </tr>\n",
       "    <tr>\n",
       "      <th>3</th>\n",
       "      <td>book poorly edit book read great continuity mi...</td>\n",
       "      <td>14</td>\n",
       "    </tr>\n",
       "    <tr>\n",
       "      <th>4</th>\n",
       "      <td>simply find story feel like streamofconsciousn...</td>\n",
       "      <td>13</td>\n",
       "    </tr>\n",
       "  </tbody>\n",
       "</table>\n",
       "</div>"
      ],
      "text/plain": [
       "                                              Review  Word_Count\n",
       "0        not like ths book swrwrd othrws ws ok peace           9\n",
       "1  kindle dx text speech keep stop message text s...          11\n",
       "2  not like character natalie ie heroine story me...         123\n",
       "3  book poorly edit book read great continuity mi...          14\n",
       "4  simply find story feel like streamofconsciousn...          13"
      ]
     },
     "execution_count": 16,
     "metadata": {},
     "output_type": "execute_result"
    }
   ],
   "source": [
    "# Add a column with word count for each review\n",
    "df['Word_Count'] = df['Review'].apply(lambda x: len(x.split()))\n",
    "\n",
    "\n",
    "df[['Review', 'Word_Count']].head()\n",
    "\n",
    "\n"
   ]
  },
  {
   "cell_type": "code",
   "execution_count": 17,
   "id": "c6f1298e-0f4d-4743-ad7c-e48f426e5444",
   "metadata": {},
   "outputs": [
    {
     "name": "stdout",
     "output_type": "stream",
     "text": [
      "Word Count Statistics:\n"
     ]
    },
    {
     "data": {
      "text/plain": [
       "count    12406.000000\n",
       "mean        44.623086\n",
       "std         48.093136\n",
       "min          3.000000\n",
       "25%         13.000000\n",
       "50%         25.000000\n",
       "75%         56.000000\n",
       "max        299.000000\n",
       "Name: Word_Count, dtype: float64"
      ]
     },
     "execution_count": 17,
     "metadata": {},
     "output_type": "execute_result"
    }
   ],
   "source": [
    "# statistics on word count\n",
    "print(\"Word Count Statistics:\")\n",
    "df['Word_Count'].describe()"
   ]
  },
  {
   "cell_type": "markdown",
   "id": "734b81c3-9eae-4f89-a608-d6528e5d14a9",
   "metadata": {},
   "source": [
    "# Data Visualization"
   ]
  },
  {
   "cell_type": "markdown",
   "id": "0aec69ac-6c4b-485c-9f30-fc9b9b882b00",
   "metadata": {},
   "source": [
    "# Bar plot: Review count per rating"
   ]
  },
  {
   "cell_type": "code",
   "execution_count": 18,
   "id": "5a4ee906-8847-4440-9caa-ad0e36be497b",
   "metadata": {},
   "outputs": [
    {
     "data": {
      "image/png": "[encoded data removed]",
      "text/plain": [
       "<Figure size 640x480 with 1 Axes>"
      ]
     },
     "metadata": {},
     "output_type": "display_data"
    }
   ],
   "source": [
    "sns.countplot(x='Rating', data=df, color='skyblue')\n",
    "plt.title('Balanced Dataset: Review Count per Rating', fontsize=12, weight='bold')\n",
    "plt.xlabel('Rating', fontsize=12)\n",
    "plt.ylabel('Number of Reviews', fontsize=12)\n",
    "plt.xticks(fontsize=10)\n",
    "plt.yticks(fontsize=10)\n",
    "plt.show()\n"
   ]
  },
  {
   "cell_type": "markdown",
   "id": "9fb566c0-b119-4a85-8368-cb49be7a5f4f",
   "metadata": {},
   "source": [
    "# Rating Distribution (Pie Chart)"
   ]
  },
  {
   "cell_type": "code",
   "execution_count": 19,
   "id": "23004106-eddb-4be0-886d-3b31a3a22f36",
   "metadata": {},
   "outputs": [
    {
     "data": {
      "image/png": "[encoded data removed]",
      "text/plain": [
       "<Figure size 640x480 with 1 Axes>"
      ]
     },
     "metadata": {},
     "output_type": "display_data"
    }
   ],
   "source": [
    "# Count of reviews per rating\n",
    "rating_counts = df['Rating'].value_counts().sort_index()\n",
    "\n",
    "# Labels and values for pie chart\n",
    "categories = rating_counts.index\n",
    "values = rating_counts.values\n",
    "\n",
    "plt.pie(values, labels=categories, autopct='%1.1f%%', startangle=90, colors=sns.color_palette(\"pastel\"))\n",
    "plt.title(\"Balanced Dataset: Rating Distribution\", fontsize=12, weight='bold')\n",
    "plt.show()\n"
   ]
  },
  {
   "cell_type": "markdown",
   "id": "d350be89-85ad-4580-9bfd-d8713eb27483",
   "metadata": {},
   "source": [
    "# Histogram for Word Count"
   ]
  },
  {
   "cell_type": "code",
   "execution_count": 20,
   "id": "552c4032-91f3-405d-b3f1-1dbc1a1e7f09",
   "metadata": {},
   "outputs": [
    {
     "data": {
      "image/png": "[encoded data removed]",
      "text/plain": [
       "<Figure size 640x480 with 1 Axes>"
      ]
     },
     "metadata": {},
     "output_type": "display_data"
    }
   ],
   "source": [
    "sns.histplot(df['Word_Count'], bins=30, kde=True, color='cornflowerblue')\n",
    "plt.title('Word Count Distribution in Reviews', fontsize=12, weight='bold')\n",
    "plt.xlabel('Number of Words', fontsize=12)\n",
    "plt.ylabel('Frequency', fontsize=12)\n",
    "\n",
    "\n",
    "\n",
    "plt.tight_layout()\n",
    "plt.show()"
   ]
  },
  {
   "cell_type": "markdown",
   "id": "cccdfd84-0ae5-40de-97ed-e9a4f0bf60b6",
   "metadata": {},
   "source": [
    "# Box Plot: Word count by Rating"
   ]
  },
  {
   "cell_type": "code",
   "execution_count": 21,
   "id": "7821d89c-33ba-42ed-a4a0-fd0f4123fa77",
   "metadata": {},
   "outputs": [
    {
     "data": {
      "image/png": "[encoded data removed]",
      "text/plain": [
       "<Figure size 640x480 with 1 Axes>"
      ]
     },
     "metadata": {},
     "output_type": "display_data"
    }
   ],
   "source": [
    "\n",
    "sns.boxplot(x='Rating', y='Word_Count', data=df, color='lightgreen')\n",
    "plt.title('Word Count Distribution by Rating', fontsize=12, weight='bold')\n",
    "plt.xlabel('Rating', fontsize=12)\n",
    "plt.ylabel('Word Count', fontsize=12)\n",
    "plt.xticks(fontsize=10)\n",
    "plt.yticks(fontsize=10)\n",
    "plt.tight_layout()\n",
    "plt.show()\n",
    "\n"
   ]
  },
  {
   "cell_type": "markdown",
   "id": "cc5c0164-6f09-4863-942f-17e0fca41f64",
   "metadata": {},
   "source": [
    "# full sample reviews per rating"
   ]
  },
  {
   "cell_type": "code",
   "execution_count": 22,
   "id": "921a892e-1a1f-43b9-b74c-9336cfe391c9",
   "metadata": {},
   "outputs": [
    {
     "name": "stdout",
     "output_type": "stream",
     "text": [
      "\n",
      "--- Rating: 1 ---\n",
      "\n",
      "1. free read know not bother time waste reading\n",
      "\n",
      "2. thing get end story sheer cussedness storyline flat absolutely character development dialog cheesy porn find increasingly disgusted female lead whine way find sympathetic protagonist find caring story explain bring main character point book suspend belief well not buy time\n",
      "\n",
      "3. story alex alley taylor like cup tea threesome happy story\n",
      "\n",
      "4. write terrible grammer terrible plot ridiculous bad stereotype thing\n",
      "\n",
      "5. writer learn difference betweenthere theyreyour yourewere wereand standard grammar book find book actually painful read attempt humor funny time hard translate mush real english take away pure joy type story\n",
      "\n",
      "\n",
      "--- Rating: 2 ---\n",
      "\n",
      "1. idea story good fact vampires not feed leave mark neck confuse give book 2 star possibility need rework need lot editing begin pay attention misspelling space period part not line happen etc detract away story vampire not end book big let wellthe love story force way fast way unrealistic care family ridiculousit buy not like book overly descriptive book descriptive not happen feel character go think author vision probably see clearly head get paper draw story hard partreviewe jessica book sake\n",
      "\n",
      "2. reviewraine misfit try fit not like kid like love goth type look vampire lonely hope find love someday walk mysterious tristan moment world turn upside downa excited read book vampire lore fanatic book leave disappoint not feel connection character like feel havewhat likei love premiselove triangle fight bad guy fight scene train visualize root good guy speak lastly fairly fast readwhat not likea mention biggy not feel emotion character feel flat want not downside fast read leave confused kept jumping story felt wrap upthat say recommend book think leave decide cup tea yoursmy ratie 2 star 5i recieve complimentary copy book exchange honest review\n",
      "\n",
      "3. overall story pretty awesome apocalypse cause vampire postapocalypticdystopian society vampire hunter turn vampire kick ass fight scene love suspense snitch secret killer disclosure villain identity good twist storyi like postapocalypse vampire excited beginning thinking find amazing read give 5 immediatelybut turn bring hide vampire society care quickly give fight yes know fight internally somewhat strategy gain trust escape ve like fight bit long try hard escape join forgave aden way quickly love react find turn feeling ve internal struggle fact aden feel bad act thankful help apologize behavior baffle meaden turn not resort not brink death aden choice fight vampire vampire hunter decide turn like someone daughter birthmark show regret find end behavior antagonist love interest s not like nt like sloane behavior think switch team fight conflict internal dialogue believable mellow mei enjoyed fight scene rest taste dialogue clicheacute keep roll eye struggle obnoxious high school fall love scene ve uniquely write great twist story pull bit liked turn end wish depth believable idea nero end evil not accept action way portrayedim sorry want like book begin not taste mean m fan ya genre vampire dystopia bring not well execution story good\n",
      "\n",
      "4. not feel worth pay buy not realize come part rush\n",
      "\n",
      "5. poor character development improbable story line add waste read time big green machine work adroitly 34cia34 operative everit good book exaggerated action super human exploitsjust likely happen\n",
      "\n",
      "\n",
      "--- Rating: 3 ---\n",
      "\n",
      "1. purchase book october november year september not care\n",
      "\n",
      "2. sorry book interested get boring middle find skim page finally decide stop read 50 go end big bang apologize slow go book loose quick need pull begin middle end not\n",
      "\n",
      "3. like shortie sex hot character believable thing not care tyler whine moment thought read girl express emotion tyler keep go point not finish story 3starsstill m willing buy rest series hopefully tyler will not whiny chick book\n",
      "\n",
      "4. actually pretty good book enjoy buy book 2 write fulllength good plot bit christian turn face good read\n",
      "\n",
      "5. wow daisy go hiding man want know s baby daddy not care say baby aiden guess get to wait book read daisy aiden love story\n",
      "\n",
      "\n",
      "--- Rating: 4 ---\n",
      "\n",
      "1. little science fiction mystery imagine clone human computer interesting hope happens read want entertain book wish edit little not let stop read booknow m read necromancer\n",
      "\n",
      "2. story woman catch group schoolfriend 20 year social networking site encourage play new game round call 25 random fact 20 year long time woman harbour devastate secretthis great story grip page not let finish secret tease slowly intrigue pile spade secret reveal story take turn huge twist tale not comingthis great novel intrigue twist turn chance will not regret iti receive complimentary copy book order review\n",
      "\n",
      "3. wonder happen suffer country worldwide lethal pandemic we8217ve share sar mad cow bird flu virus8217 contain relatively quickly8212but high scale outbreak sector c take look government respond outbreak like sar mad cow happen high level let tell isn8217 t pretty8212though i8217 m sure it8217s realistic we8217d like admit appalled situation reaction character novel realistically call question philosophical debate greater good well let limited number suffer great good suffer sullivan look question rivet novel unfold isn8217 t pretty picture definitely reader thinkthis wellwritten novel takes look clone it8217s intense interesting8211both situation character keep glue page highly enjoy itthe novel follow different character unfolds8212donna rural vet mike cdc analyst worker triple e8212allowe reader gain omniscient insight happen spectrum rash animal people begin symptom stroke8230 ultimately lead death sound scientific nature sector c easy follow find highly interested character situation find sullivan great job explain boring reader scientific datum jargon appreciate highly suggest give novel read\n",
      "\n",
      "4. great story love character way learn depends provide balance world trouble keep read action space great descriptive character reason character action enjoy read new race civilization make race alike greed power cause turmoil life\n",
      "\n",
      "5. bootscootin blahniksby dd scottroxy rae vaughn tired live parent spotlight dime want clothe designer start shop little corner feed store sink dime money hop imagine dismay rear ends cowboy not money fix truck cowboy turn tomato farmer zayne mcdonald intrigue roxy think hard aroundthis book alight feel good book roxy feisty care individual heart gold zayne kind man want protagonist find vivid description take reader bootscootin good time imagine reaction roxy zayne truly book ll want read love good romance4 star\n",
      "\n",
      "\n",
      "--- Rating: 5 ---\n",
      "\n",
      "1. enjoy story m sucker sweet story heart ache heroines pain m try spoiler love honest regret book feel grief attitude beginning story feel genuine love story resolve bit surprised end big bonus lovemake craft happy deserve hea character sister character amusing d love 1ns\n",
      "\n",
      "2. fascinating book private eye want education definitely read learn not imagine write private eye reading book\n",
      "\n",
      "3. think love story get going shock good literally stop read love book soon wanted purchase sequel good recommend book easy read entertain\n",
      "\n",
      "4. enjoy book character plot realistic story simple intense look forward read book series\n",
      "\n",
      "5. not remember time read quirky cute love sooo short love little fairy tale like\n",
      "\n"
     ]
    }
   ],
   "source": [
    "# Display 5 sample reviews per rating\n",
    "for rating, group in df.groupby('Rating'):\n",
    "    print(f\"\\n--- Rating: {rating} ---\\n\")\n",
    "    sample_reviews = group['Review'].sample(\n",
    "        n=min(5, len(group)),\n",
    "        random_state=42\n",
    "    )\n",
    "    for i, review in enumerate(sample_reviews, 1):\n",
    "        print(f\"{i}. {review}\\n\")\n"
   ]
  },
  {
   "cell_type": "markdown",
   "id": "0273ac9d-ee92-48d7-8756-1cfeaf36207f",
   "metadata": {},
   "source": [
    "# Keep only Review and Rating columns"
   ]
  },
  {
   "cell_type": "code",
   "execution_count": 23,
   "id": "b36f4bb8-2b24-410c-a176-7c55c3503885",
   "metadata": {},
   "outputs": [
    {
     "name": "stdout",
     "output_type": "stream",
     "text": [
      "Final dataset columns: ['Review', 'Rating']\n",
      "Final dataset shape: (12406, 2)\n"
     ]
    },
    {
     "data": {
      "text/html": [
       "<div>\n",
       "<style scoped>\n",
       "    .dataframe tbody tr th:only-of-type {\n",
       "        vertical-align: middle;\n",
       "    }\n",
       "\n",
       "    .dataframe tbody tr th {\n",
       "        vertical-align: top;\n",
       "    }\n",
       "\n",
       "    .dataframe thead th {\n",
       "        text-align: right;\n",
       "    }\n",
       "</style>\n",
       "<table border=\"1\" class=\"dataframe\">\n",
       "  <thead>\n",
       "    <tr style=\"text-align: right;\">\n",
       "      <th></th>\n",
       "      <th>Review</th>\n",
       "      <th>Rating</th>\n",
       "    </tr>\n",
       "  </thead>\n",
       "  <tbody>\n",
       "    <tr>\n",
       "      <th>0</th>\n",
       "      <td>not like ths book swrwrd othrws ws ok peace</td>\n",
       "      <td>1</td>\n",
       "    </tr>\n",
       "    <tr>\n",
       "      <th>1</th>\n",
       "      <td>kindle dx text speech keep stop message text s...</td>\n",
       "      <td>1</td>\n",
       "    </tr>\n",
       "    <tr>\n",
       "      <th>2</th>\n",
       "      <td>not like character natalie ie heroine story me...</td>\n",
       "      <td>1</td>\n",
       "    </tr>\n",
       "    <tr>\n",
       "      <th>3</th>\n",
       "      <td>book poorly edit book read great continuity mi...</td>\n",
       "      <td>1</td>\n",
       "    </tr>\n",
       "    <tr>\n",
       "      <th>4</th>\n",
       "      <td>simply find story feel like streamofconsciousn...</td>\n",
       "      <td>1</td>\n",
       "    </tr>\n",
       "  </tbody>\n",
       "</table>\n",
       "</div>"
      ],
      "text/plain": [
       "                                              Review  Rating\n",
       "0        not like ths book swrwrd othrws ws ok peace       1\n",
       "1  kindle dx text speech keep stop message text s...       1\n",
       "2  not like character natalie ie heroine story me...       1\n",
       "3  book poorly edit book read great continuity mi...       1\n",
       "4  simply find story feel like streamofconsciousn...       1"
      ]
     },
     "execution_count": 23,
     "metadata": {},
     "output_type": "execute_result"
    }
   ],
   "source": [
    "\n",
    "df = df[['Review', 'Rating']]\n",
    "\n",
    "# Check final columns and shape\n",
    "print(\"Final dataset columns:\", df.columns.tolist())\n",
    "print(\"Final dataset shape:\", df.shape)\n",
    "df.head()\n"
   ]
  },
  {
   "cell_type": "markdown",
   "id": "12a0a7db-96c1-451f-8860-817b9430c364",
   "metadata": {},
   "source": [
    "# Shuffle the dataset"
   ]
  },
  {
   "cell_type": "code",
   "execution_count": 24,
   "id": "ae03e246-91fe-499d-b691-cd62ab65ff90",
   "metadata": {},
   "outputs": [
    {
     "data": {
      "text/html": [
       "<div>\n",
       "<style scoped>\n",
       "    .dataframe tbody tr th:only-of-type {\n",
       "        vertical-align: middle;\n",
       "    }\n",
       "\n",
       "    .dataframe tbody tr th {\n",
       "        vertical-align: top;\n",
       "    }\n",
       "\n",
       "    .dataframe thead th {\n",
       "        text-align: right;\n",
       "    }\n",
       "</style>\n",
       "<table border=\"1\" class=\"dataframe\">\n",
       "  <thead>\n",
       "    <tr style=\"text-align: right;\">\n",
       "      <th></th>\n",
       "      <th>Review</th>\n",
       "      <th>Rating</th>\n",
       "    </tr>\n",
       "  </thead>\n",
       "  <tbody>\n",
       "    <tr>\n",
       "      <th>0</th>\n",
       "      <td>character great disappointing little story fac...</td>\n",
       "      <td>1</td>\n",
       "    </tr>\n",
       "    <tr>\n",
       "      <th>1</th>\n",
       "      <td>good reading quality mixed nephew sophisticate...</td>\n",
       "      <td>3</td>\n",
       "    </tr>\n",
       "    <tr>\n",
       "      <th>2</th>\n",
       "      <td>good bdsm love story read tough read mm love f...</td>\n",
       "      <td>5</td>\n",
       "    </tr>\n",
       "    <tr>\n",
       "      <th>3</th>\n",
       "      <td>read lot book genre book baffle understand lit...</td>\n",
       "      <td>2</td>\n",
       "    </tr>\n",
       "    <tr>\n",
       "      <th>4</th>\n",
       "      <td>bible easily understand purchase bible young l...</td>\n",
       "      <td>5</td>\n",
       "    </tr>\n",
       "  </tbody>\n",
       "</table>\n",
       "</div>"
      ],
      "text/plain": [
       "                                              Review  Rating\n",
       "0  character great disappointing little story fac...       1\n",
       "1  good reading quality mixed nephew sophisticate...       3\n",
       "2  good bdsm love story read tough read mm love f...       5\n",
       "3  read lot book genre book baffle understand lit...       2\n",
       "4  bible easily understand purchase bible young l...       5"
      ]
     },
     "execution_count": 24,
     "metadata": {},
     "output_type": "execute_result"
    }
   ],
   "source": [
    "# Shuffle the dataset\n",
    "df = df.sample(frac=1, random_state=42).reset_index(drop=True)\n",
    "\n",
    "df.head()\n"
   ]
  },
  {
   "cell_type": "markdown",
   "id": "a1dd26c2-454f-43ab-9b5c-107066ac9ee1",
   "metadata": {},
   "source": [
    "# Train-Test Split"
   ]
  },
  {
   "cell_type": "code",
   "execution_count": 25,
   "id": "32927ca5-17d0-44f4-928c-87f597f4d126",
   "metadata": {},
   "outputs": [
    {
     "name": "stdout",
     "output_type": "stream",
     "text": [
      "Training set shape: (10545,)\n",
      "Testing set shape: (1861,)\n"
     ]
    }
   ],
   "source": [
    "from sklearn.model_selection import train_test_split\n",
    "\n",
    "# Features and target\n",
    "X = df['Review']\n",
    "y = df['Rating']\n",
    "\n",
    "# Split into train and test sets (80% train, 20% test)\n",
    "X_train, X_test, y_train, y_test = train_test_split(\n",
    "    X, y, test_size=0.15, random_state=42, stratify=y\n",
    ")\n",
    "\n",
    "\n",
    "print(\"Training set shape:\", X_train.shape)\n",
    "print(\"Testing set shape:\", X_test.shape)\n"
   ]
  },
  {
   "cell_type": "code",
   "execution_count": 26,
   "id": "c782e0e7-faf3-4ae7-b6cd-96d2fa51ca80",
   "metadata": {},
   "outputs": [
    {
     "name": "stdout",
     "output_type": "stream",
     "text": [
      "Training set saved at: ..\\data\\new data\\balanced_train.csv\n",
      "Testing set saved at: ..\\data\\new data\\balanced_test.csv\n"
     ]
    }
   ],
   "source": [
    "# Save train and test sets to CSV files\n",
    "train_data = pd.DataFrame({'Review': X_train, 'Rating': y_train})\n",
    "test_data = pd.DataFrame({'Review': X_test, 'Rating': y_test})\n",
    "\n",
    "train_csv_path = r\"..\\data\\new data\\balanced_train.csv\"\n",
    "test_csv_path = r\"..\\data\\new data\\balanced_test.csv\"\n",
    "\n",
    "train_data.to_csv(train_csv_path, index=False, encoding='utf-8')\n",
    "test_data.to_csv(test_csv_path, index=False, encoding='utf-8')\n",
    "\n",
    "print(f\"Training set saved at: {train_csv_path}\")\n",
    "print(f\"Testing set saved at: {test_csv_path}\")\n"
   ]
  },
  {
   "cell_type": "code",
   "execution_count": 27,
   "id": "0378cb59-5344-482d-b188-10766ef0f45c",
   "metadata": {},
   "outputs": [
    {
     "name": "stdout",
     "output_type": "stream",
     "text": [
      "X_train shape: (10545,)\n",
      "X_test shape: (1861,)\n",
      "y_train distribution:\n",
      " Rating\n",
      "3    2115\n",
      "5    2112\n",
      "2    2108\n",
      "1    2106\n",
      "4    2104\n",
      "Name: count, dtype: int64\n",
      "y_test distribution:\n",
      " Rating\n",
      "3    373\n",
      "5    373\n",
      "2    372\n",
      "1    372\n",
      "4    371\n",
      "Name: count, dtype: int64\n"
     ]
    }
   ],
   "source": [
    "\n",
    "# Convert lists to pandas Series\n",
    "X_train = pd.Series(X_train)\n",
    "X_test = pd.Series(X_test)\n",
    "y_train = pd.Series(y_train)\n",
    "y_test = pd.Series(y_test)\n",
    "\n",
    "# Now you can check shape and value counts\n",
    "print(\"X_train shape:\", X_train.shape)\n",
    "print(\"X_test shape:\", X_test.shape)\n",
    "print(\"y_train distribution:\\n\", y_train.value_counts())\n",
    "print(\"y_test distribution:\\n\", y_test.value_counts())\n"
   ]
  },
  {
   "cell_type": "code",
   "execution_count": null,
   "id": "f67ea3bf-124e-43e4-9b3e-514fd9ab325a",
   "metadata": {},
   "outputs": [],
   "source": []
  },
  {
   "cell_type": "markdown",
   "id": "8dcbe196-33ed-4ee2-b293-7f89deb0e03a",
   "metadata": {},
   "source": [
    "# Text Feature Extraction using TF-IDF Vectorizer"
   ]
  },
  {
   "cell_type": "code",
   "execution_count": 28,
   "id": "a3529e9b-c9ab-431f-8573-d2fa42271628",
   "metadata": {},
   "outputs": [
    {
     "name": "stdout",
     "output_type": "stream",
     "text": [
      "Training TF-IDF shape: (10545, 15000)\n",
      "Testing TF-IDF shape: (1861, 15000)\n"
     ]
    }
   ],
   "source": [
    "from sklearn.feature_extraction.text import TfidfVectorizer\n",
    "\n",
    "vectorizer = TfidfVectorizer(\n",
    "    sublinear_tf=True,\n",
    "    max_features=15000,   # expand features\n",
    "    ngram_range=(1, 3),   # unigrams + bigrams + trigrams\n",
    "    min_df=2,\n",
    "    max_df=0.95\n",
    ")\n",
    "\n",
    "\n",
    "\n",
    "# Fit TF-IDF on training data and transform\n",
    "X_train_tfidf = vectorizer.fit_transform(X_train)\n",
    "\n",
    "# Transform test data\n",
    "X_test_tfidf = vectorizer.transform(X_test)\n",
    "\n",
    "print(\"Training TF-IDF shape:\", X_train_tfidf.shape)\n",
    "print(\"Testing TF-IDF shape:\", X_test_tfidf.shape)\n",
    "\n",
    "\n"
   ]
  },
  {
   "cell_type": "code",
   "execution_count": 29,
   "id": "08a6ea58-eabb-4502-80bd-1841e423a6f8",
   "metadata": {},
   "outputs": [],
   "source": [
    "from sklearn.utils.class_weight import compute_class_weight\n",
    "\n",
    "\n",
    "classes = np.unique(y_train)\n",
    "class_weights = compute_class_weight(class_weight='balanced', classes=classes, y=y_train)\n",
    "class_weights_dict = dict(zip(classes, class_weights))\n"
   ]
  },
  {
   "cell_type": "code",
   "execution_count": 30,
   "id": "660a3d87-fca4-4ca9-9060-a99760ef8f14",
   "metadata": {},
   "outputs": [
    {
     "name": "stdout",
     "output_type": "stream",
     "text": [
      "(10545, 15000)\n",
      "(1861, 15000)\n"
     ]
    }
   ],
   "source": [
    "print(X_train_tfidf.shape)\n",
    "print(X_test_tfidf.shape)\n"
   ]
  },
  {
   "cell_type": "code",
   "execution_count": 31,
   "id": "cc905abe-6e0c-482f-8a87-47f003f933fe",
   "metadata": {},
   "outputs": [
    {
     "name": "stdout",
     "output_type": "stream",
     "text": [
      "Training shape after feature selection: (10545, 15000)\n",
      "Testing shape after feature selection: (1861, 15000)\n"
     ]
    },
    {
     "name": "stderr",
     "output_type": "stream",
     "text": [
      "C:\\Users\\sreel\\AppData\\Roaming\\Python\\Python313\\site-packages\\sklearn\\feature_selection\\_univariate_selection.py:782: UserWarning: k=35000 is greater than n_features=15000. All the features will be returned.\n",
      "  warnings.warn(\n"
     ]
    }
   ],
   "source": [
    "\n",
    "# -----------------------------\n",
    "#  Feature Selection (chi²)\n",
    "\n",
    "from sklearn.feature_selection import SelectKBest, chi2\n",
    "\n",
    "k = 35000  # Keep top 15,000 features\n",
    "selector = SelectKBest(chi2, k=k)\n",
    "X_train_selected = selector.fit_transform(X_train_tfidf, y_train)\n",
    "X_test_selected = selector.transform(X_test_tfidf)\n",
    "\n",
    "print(\"Training shape after feature selection:\", X_train_selected.shape)\n",
    "print(\"Testing shape after feature selection:\", X_test_selected.shape)"
   ]
  },
  {
   "cell_type": "markdown",
   "id": "fb01ae90-a9da-41bc-89c8-2ad2f7925a78",
   "metadata": {},
   "source": [
    "# Convert TF-IDF Matrices to DataFrames"
   ]
  },
  {
   "cell_type": "code",
   "execution_count": 32,
   "id": "f9e888b6-3d13-4ec4-9621-667c5747b5fe",
   "metadata": {},
   "outputs": [
    {
     "name": "stdout",
     "output_type": "stream",
     "text": [
      "\n",
      "Train TF-IDF DataFrame shape: (10545, 15000)\n",
      "Test TF-IDF DataFrame shape: (1861, 15000)\n"
     ]
    },
    {
     "data": {
      "text/html": [
       "<div>\n",
       "<style scoped>\n",
       "    .dataframe tbody tr th:only-of-type {\n",
       "        vertical-align: middle;\n",
       "    }\n",
       "\n",
       "    .dataframe tbody tr th {\n",
       "        vertical-align: top;\n",
       "    }\n",
       "\n",
       "    .dataframe thead th {\n",
       "        text-align: right;\n",
       "    }\n",
       "</style>\n",
       "<table border=\"1\" class=\"dataframe\">\n",
       "  <thead>\n",
       "    <tr style=\"text-align: right;\">\n",
       "      <th></th>\n",
       "      <th>099</th>\n",
       "      <th>10</th>\n",
       "      <th>10 book</th>\n",
       "      <th>10 minute</th>\n",
       "      <th>10 page</th>\n",
       "      <th>10 year</th>\n",
       "      <th>10 year old</th>\n",
       "      <th>100</th>\n",
       "      <th>100 page</th>\n",
       "      <th>100 year</th>\n",
       "      <th>...</th>\n",
       "      <th>zip</th>\n",
       "      <th>zoe</th>\n",
       "      <th>zombie</th>\n",
       "      <th>zombie apocalypse</th>\n",
       "      <th>zombie book</th>\n",
       "      <th>zombie story</th>\n",
       "      <th>zombie tale</th>\n",
       "      <th>zone</th>\n",
       "      <th>zorn</th>\n",
       "      <th>zu</th>\n",
       "    </tr>\n",
       "  </thead>\n",
       "  <tbody>\n",
       "    <tr>\n",
       "      <th>0</th>\n",
       "      <td>0.0</td>\n",
       "      <td>0.0</td>\n",
       "      <td>0.0</td>\n",
       "      <td>0.0</td>\n",
       "      <td>0.0</td>\n",
       "      <td>0.0</td>\n",
       "      <td>0.0</td>\n",
       "      <td>0.0</td>\n",
       "      <td>0.0</td>\n",
       "      <td>0.0</td>\n",
       "      <td>...</td>\n",
       "      <td>0.0</td>\n",
       "      <td>0.0</td>\n",
       "      <td>0.0</td>\n",
       "      <td>0.0</td>\n",
       "      <td>0.0</td>\n",
       "      <td>0.0</td>\n",
       "      <td>0.0</td>\n",
       "      <td>0.0</td>\n",
       "      <td>0.0</td>\n",
       "      <td>0.0</td>\n",
       "    </tr>\n",
       "    <tr>\n",
       "      <th>1</th>\n",
       "      <td>0.0</td>\n",
       "      <td>0.0</td>\n",
       "      <td>0.0</td>\n",
       "      <td>0.0</td>\n",
       "      <td>0.0</td>\n",
       "      <td>0.0</td>\n",
       "      <td>0.0</td>\n",
       "      <td>0.0</td>\n",
       "      <td>0.0</td>\n",
       "      <td>0.0</td>\n",
       "      <td>...</td>\n",
       "      <td>0.0</td>\n",
       "      <td>0.0</td>\n",
       "      <td>0.0</td>\n",
       "      <td>0.0</td>\n",
       "      <td>0.0</td>\n",
       "      <td>0.0</td>\n",
       "      <td>0.0</td>\n",
       "      <td>0.0</td>\n",
       "      <td>0.0</td>\n",
       "      <td>0.0</td>\n",
       "    </tr>\n",
       "    <tr>\n",
       "      <th>2</th>\n",
       "      <td>0.0</td>\n",
       "      <td>0.0</td>\n",
       "      <td>0.0</td>\n",
       "      <td>0.0</td>\n",
       "      <td>0.0</td>\n",
       "      <td>0.0</td>\n",
       "      <td>0.0</td>\n",
       "      <td>0.0</td>\n",
       "      <td>0.0</td>\n",
       "      <td>0.0</td>\n",
       "      <td>...</td>\n",
       "      <td>0.0</td>\n",
       "      <td>0.0</td>\n",
       "      <td>0.0</td>\n",
       "      <td>0.0</td>\n",
       "      <td>0.0</td>\n",
       "      <td>0.0</td>\n",
       "      <td>0.0</td>\n",
       "      <td>0.0</td>\n",
       "      <td>0.0</td>\n",
       "      <td>0.0</td>\n",
       "    </tr>\n",
       "    <tr>\n",
       "      <th>3</th>\n",
       "      <td>0.0</td>\n",
       "      <td>0.0</td>\n",
       "      <td>0.0</td>\n",
       "      <td>0.0</td>\n",
       "      <td>0.0</td>\n",
       "      <td>0.0</td>\n",
       "      <td>0.0</td>\n",
       "      <td>0.0</td>\n",
       "      <td>0.0</td>\n",
       "      <td>0.0</td>\n",
       "      <td>...</td>\n",
       "      <td>0.0</td>\n",
       "      <td>0.0</td>\n",
       "      <td>0.0</td>\n",
       "      <td>0.0</td>\n",
       "      <td>0.0</td>\n",
       "      <td>0.0</td>\n",
       "      <td>0.0</td>\n",
       "      <td>0.0</td>\n",
       "      <td>0.0</td>\n",
       "      <td>0.0</td>\n",
       "    </tr>\n",
       "    <tr>\n",
       "      <th>4</th>\n",
       "      <td>0.0</td>\n",
       "      <td>0.0</td>\n",
       "      <td>0.0</td>\n",
       "      <td>0.0</td>\n",
       "      <td>0.0</td>\n",
       "      <td>0.0</td>\n",
       "      <td>0.0</td>\n",
       "      <td>0.0</td>\n",
       "      <td>0.0</td>\n",
       "      <td>0.0</td>\n",
       "      <td>...</td>\n",
       "      <td>0.0</td>\n",
       "      <td>0.0</td>\n",
       "      <td>0.0</td>\n",
       "      <td>0.0</td>\n",
       "      <td>0.0</td>\n",
       "      <td>0.0</td>\n",
       "      <td>0.0</td>\n",
       "      <td>0.0</td>\n",
       "      <td>0.0</td>\n",
       "      <td>0.0</td>\n",
       "    </tr>\n",
       "  </tbody>\n",
       "</table>\n",
       "<p>5 rows × 15000 columns</p>\n",
       "</div>"
      ],
      "text/plain": [
       "   099   10  10 book  10 minute  10 page  10 year  10 year old  100  100 page  \\\n",
       "0  0.0  0.0      0.0        0.0      0.0      0.0          0.0  0.0       0.0   \n",
       "1  0.0  0.0      0.0        0.0      0.0      0.0          0.0  0.0       0.0   \n",
       "2  0.0  0.0      0.0        0.0      0.0      0.0          0.0  0.0       0.0   \n",
       "3  0.0  0.0      0.0        0.0      0.0      0.0          0.0  0.0       0.0   \n",
       "4  0.0  0.0      0.0        0.0      0.0      0.0          0.0  0.0       0.0   \n",
       "\n",
       "   100 year  ...  zip  zoe  zombie  zombie apocalypse  zombie book  \\\n",
       "0       0.0  ...  0.0  0.0     0.0                0.0          0.0   \n",
       "1       0.0  ...  0.0  0.0     0.0                0.0          0.0   \n",
       "2       0.0  ...  0.0  0.0     0.0                0.0          0.0   \n",
       "3       0.0  ...  0.0  0.0     0.0                0.0          0.0   \n",
       "4       0.0  ...  0.0  0.0     0.0                0.0          0.0   \n",
       "\n",
       "   zombie story  zombie tale  zone  zorn   zu  \n",
       "0           0.0          0.0   0.0   0.0  0.0  \n",
       "1           0.0          0.0   0.0   0.0  0.0  \n",
       "2           0.0          0.0   0.0   0.0  0.0  \n",
       "3           0.0          0.0   0.0   0.0  0.0  \n",
       "4           0.0          0.0   0.0   0.0  0.0  \n",
       "\n",
       "[5 rows x 15000 columns]"
      ]
     },
     "execution_count": 32,
     "metadata": {},
     "output_type": "execute_result"
    }
   ],
   "source": [
    "# Get feature names from the vectorizer\n",
    "feature_names = vectorizer.get_feature_names_out()\n",
    "\n",
    "# Convert TF-IDF matrices to DataFrames\n",
    "X_train_df = pd.DataFrame(X_train_tfidf.toarray(), columns=feature_names)\n",
    "X_test_df = pd.DataFrame(X_test_tfidf.toarray(), columns=feature_names)\n",
    "\n",
    "print(\"\\nTrain TF-IDF DataFrame shape:\", X_train_df.shape)\n",
    "print(\"Test TF-IDF DataFrame shape:\", X_test_df.shape)\n",
    "X_train_df.head()\n",
    "\n"
   ]
  },
  {
   "cell_type": "code",
   "execution_count": 33,
   "id": "f834575a-0c8a-48a1-a4b2-38a12871889f",
   "metadata": {},
   "outputs": [
    {
     "data": {
      "text/html": [
       "<div>\n",
       "<style scoped>\n",
       "    .dataframe tbody tr th:only-of-type {\n",
       "        vertical-align: middle;\n",
       "    }\n",
       "\n",
       "    .dataframe tbody tr th {\n",
       "        vertical-align: top;\n",
       "    }\n",
       "\n",
       "    .dataframe thead th {\n",
       "        text-align: right;\n",
       "    }\n",
       "</style>\n",
       "<table border=\"1\" class=\"dataframe\">\n",
       "  <thead>\n",
       "    <tr style=\"text-align: right;\">\n",
       "      <th></th>\n",
       "      <th>099</th>\n",
       "      <th>10</th>\n",
       "      <th>10 book</th>\n",
       "      <th>10 minute</th>\n",
       "      <th>10 page</th>\n",
       "      <th>10 year</th>\n",
       "      <th>10 year old</th>\n",
       "      <th>100</th>\n",
       "      <th>100 page</th>\n",
       "      <th>100 year</th>\n",
       "      <th>...</th>\n",
       "      <th>zip</th>\n",
       "      <th>zoe</th>\n",
       "      <th>zombie</th>\n",
       "      <th>zombie apocalypse</th>\n",
       "      <th>zombie book</th>\n",
       "      <th>zombie story</th>\n",
       "      <th>zombie tale</th>\n",
       "      <th>zone</th>\n",
       "      <th>zorn</th>\n",
       "      <th>zu</th>\n",
       "    </tr>\n",
       "  </thead>\n",
       "  <tbody>\n",
       "    <tr>\n",
       "      <th>10540</th>\n",
       "      <td>0.0</td>\n",
       "      <td>0.0</td>\n",
       "      <td>0.0</td>\n",
       "      <td>0.0</td>\n",
       "      <td>0.0</td>\n",
       "      <td>0.0</td>\n",
       "      <td>0.0</td>\n",
       "      <td>0.0</td>\n",
       "      <td>0.0</td>\n",
       "      <td>0.0</td>\n",
       "      <td>...</td>\n",
       "      <td>0.0</td>\n",
       "      <td>0.0</td>\n",
       "      <td>0.0</td>\n",
       "      <td>0.0</td>\n",
       "      <td>0.0</td>\n",
       "      <td>0.0</td>\n",
       "      <td>0.0</td>\n",
       "      <td>0.0</td>\n",
       "      <td>0.0</td>\n",
       "      <td>0.0</td>\n",
       "    </tr>\n",
       "    <tr>\n",
       "      <th>10541</th>\n",
       "      <td>0.0</td>\n",
       "      <td>0.0</td>\n",
       "      <td>0.0</td>\n",
       "      <td>0.0</td>\n",
       "      <td>0.0</td>\n",
       "      <td>0.0</td>\n",
       "      <td>0.0</td>\n",
       "      <td>0.0</td>\n",
       "      <td>0.0</td>\n",
       "      <td>0.0</td>\n",
       "      <td>...</td>\n",
       "      <td>0.0</td>\n",
       "      <td>0.0</td>\n",
       "      <td>0.0</td>\n",
       "      <td>0.0</td>\n",
       "      <td>0.0</td>\n",
       "      <td>0.0</td>\n",
       "      <td>0.0</td>\n",
       "      <td>0.0</td>\n",
       "      <td>0.0</td>\n",
       "      <td>0.0</td>\n",
       "    </tr>\n",
       "    <tr>\n",
       "      <th>10542</th>\n",
       "      <td>0.0</td>\n",
       "      <td>0.0</td>\n",
       "      <td>0.0</td>\n",
       "      <td>0.0</td>\n",
       "      <td>0.0</td>\n",
       "      <td>0.0</td>\n",
       "      <td>0.0</td>\n",
       "      <td>0.0</td>\n",
       "      <td>0.0</td>\n",
       "      <td>0.0</td>\n",
       "      <td>...</td>\n",
       "      <td>0.0</td>\n",
       "      <td>0.0</td>\n",
       "      <td>0.0</td>\n",
       "      <td>0.0</td>\n",
       "      <td>0.0</td>\n",
       "      <td>0.0</td>\n",
       "      <td>0.0</td>\n",
       "      <td>0.0</td>\n",
       "      <td>0.0</td>\n",
       "      <td>0.0</td>\n",
       "    </tr>\n",
       "    <tr>\n",
       "      <th>10543</th>\n",
       "      <td>0.0</td>\n",
       "      <td>0.0</td>\n",
       "      <td>0.0</td>\n",
       "      <td>0.0</td>\n",
       "      <td>0.0</td>\n",
       "      <td>0.0</td>\n",
       "      <td>0.0</td>\n",
       "      <td>0.0</td>\n",
       "      <td>0.0</td>\n",
       "      <td>0.0</td>\n",
       "      <td>...</td>\n",
       "      <td>0.0</td>\n",
       "      <td>0.0</td>\n",
       "      <td>0.0</td>\n",
       "      <td>0.0</td>\n",
       "      <td>0.0</td>\n",
       "      <td>0.0</td>\n",
       "      <td>0.0</td>\n",
       "      <td>0.0</td>\n",
       "      <td>0.0</td>\n",
       "      <td>0.0</td>\n",
       "    </tr>\n",
       "    <tr>\n",
       "      <th>10544</th>\n",
       "      <td>0.0</td>\n",
       "      <td>0.0</td>\n",
       "      <td>0.0</td>\n",
       "      <td>0.0</td>\n",
       "      <td>0.0</td>\n",
       "      <td>0.0</td>\n",
       "      <td>0.0</td>\n",
       "      <td>0.0</td>\n",
       "      <td>0.0</td>\n",
       "      <td>0.0</td>\n",
       "      <td>...</td>\n",
       "      <td>0.0</td>\n",
       "      <td>0.0</td>\n",
       "      <td>0.0</td>\n",
       "      <td>0.0</td>\n",
       "      <td>0.0</td>\n",
       "      <td>0.0</td>\n",
       "      <td>0.0</td>\n",
       "      <td>0.0</td>\n",
       "      <td>0.0</td>\n",
       "      <td>0.0</td>\n",
       "    </tr>\n",
       "  </tbody>\n",
       "</table>\n",
       "<p>5 rows × 15000 columns</p>\n",
       "</div>"
      ],
      "text/plain": [
       "       099   10  10 book  10 minute  10 page  10 year  10 year old  100  \\\n",
       "10540  0.0  0.0      0.0        0.0      0.0      0.0          0.0  0.0   \n",
       "10541  0.0  0.0      0.0        0.0      0.0      0.0          0.0  0.0   \n",
       "10542  0.0  0.0      0.0        0.0      0.0      0.0          0.0  0.0   \n",
       "10543  0.0  0.0      0.0        0.0      0.0      0.0          0.0  0.0   \n",
       "10544  0.0  0.0      0.0        0.0      0.0      0.0          0.0  0.0   \n",
       "\n",
       "       100 page  100 year  ...  zip  zoe  zombie  zombie apocalypse  \\\n",
       "10540       0.0       0.0  ...  0.0  0.0     0.0                0.0   \n",
       "10541       0.0       0.0  ...  0.0  0.0     0.0                0.0   \n",
       "10542       0.0       0.0  ...  0.0  0.0     0.0                0.0   \n",
       "10543       0.0       0.0  ...  0.0  0.0     0.0                0.0   \n",
       "10544       0.0       0.0  ...  0.0  0.0     0.0                0.0   \n",
       "\n",
       "       zombie book  zombie story  zombie tale  zone  zorn   zu  \n",
       "10540          0.0           0.0          0.0   0.0   0.0  0.0  \n",
       "10541          0.0           0.0          0.0   0.0   0.0  0.0  \n",
       "10542          0.0           0.0          0.0   0.0   0.0  0.0  \n",
       "10543          0.0           0.0          0.0   0.0   0.0  0.0  \n",
       "10544          0.0           0.0          0.0   0.0   0.0  0.0  \n",
       "\n",
       "[5 rows x 15000 columns]"
      ]
     },
     "execution_count": 33,
     "metadata": {},
     "output_type": "execute_result"
    }
   ],
   "source": [
    "X_train_df.tail()"
   ]
  },
  {
   "cell_type": "code",
   "execution_count": 34,
   "id": "66679deb-4d07-4b67-b58b-66ed294f0fe3",
   "metadata": {},
   "outputs": [
    {
     "name": "stdout",
     "output_type": "stream",
     "text": [
      "TF-IDF Vectorizer saved at: ..\\models\\tfidf_balanced.pkl\n"
     ]
    }
   ],
   "source": [
    "import os\n",
    "import joblib\n",
    "\n",
    "model_dir = r\"..\\models\"\n",
    "os.makedirs(model_dir, exist_ok=True)\n",
    "\n",
    "# Save word-level TF-IDF vectorizer\n",
    "word_vectorizer_path = os.path.join(model_dir, \"tfidf_balanced.pkl\")\n",
    "joblib.dump(vectorizer, word_vectorizer_path)\n",
    "\n",
    "print(f\"TF-IDF Vectorizer saved at: {word_vectorizer_path}\")\n",
    "\n"
   ]
  },
  {
   "cell_type": "markdown",
   "id": "f04fc631-258d-408e-a5ed-281c48a39ad7",
   "metadata": {},
   "source": [
    "# Training and Evaluation of Machine Learning Models"
   ]
  },
  {
   "cell_type": "code",
   "execution_count": 35,
   "id": "a0112cb5-ee9f-442b-aea4-72f8633b506e",
   "metadata": {},
   "outputs": [
    {
     "name": "stderr",
     "output_type": "stream",
     "text": [
      "C:\\Users\\sreel\\AppData\\Roaming\\Python\\Python313\\site-packages\\sklearn\\linear_model\\_logistic.py:1264: FutureWarning: 'multi_class' was deprecated in version 1.5 and will be removed in 1.7. From then on, it will always use 'multinomial'. Leave it to its default value to avoid this warning.\n",
      "  warnings.warn(\n"
     ]
    },
    {
     "name": "stdout",
     "output_type": "stream",
     "text": [
      "Accuracy: 0.4868\n",
      "\n",
      "Classification Report:\n",
      "              precision    recall  f1-score   support\n",
      "\n",
      "           1     0.5690    0.6317    0.5987       372\n",
      "           2     0.4282    0.3925    0.4095       372\n",
      "           3     0.3911    0.3753    0.3830       373\n",
      "           4     0.4190    0.4043    0.4115       371\n",
      "           5     0.6010    0.6300    0.6152       373\n",
      "\n",
      "    accuracy                         0.4868      1861\n",
      "   macro avg     0.4816    0.4868    0.4836      1861\n",
      "weighted avg     0.4817    0.4868    0.4837      1861\n",
      "\n"
     ]
    },
    {
     "data": {
      "image/png": "[encoded data removed]",
      "text/plain": [
       "<Figure size 640x480 with 2 Axes>"
      ]
     },
     "metadata": {},
     "output_type": "display_data"
    }
   ],
   "source": [
    "# Import required libraries\n",
    "from sklearn.linear_model import LogisticRegression\n",
    "from sklearn.metrics import accuracy_score, classification_report, confusion_matrix, ConfusionMatrixDisplay\n",
    "import matplotlib.pyplot as plt\n",
    "\n",
    "# Initialize Logistic Regression model\n",
    "lr_model = LogisticRegression(\n",
    "    max_iter=8000,\n",
    "    solver='saga',              # good for large sparse data\n",
    "    multi_class='multinomial',\n",
    "    class_weight=class_weights_dict,\n",
    "    random_state=42\n",
    ")\n",
    "\n",
    "# Train the model\n",
    "lr_model.fit(X_train_tfidf, y_train)\n",
    "\n",
    "# Predict on test data\n",
    "y_pred = lr_model.predict(X_test_tfidf)\n",
    "\n",
    "# Evaluate performance\n",
    "acc = accuracy_score(y_test, y_pred)\n",
    "print(f\"Accuracy: {acc:.4f}\")\n",
    "\n",
    "print(\"\\nClassification Report:\")\n",
    "print(classification_report(y_test, y_pred, digits=4))\n",
    "\n",
    "# Confusion Matrix\n",
    "cm = confusion_matrix(y_test, y_pred)\n",
    "disp = ConfusionMatrixDisplay(confusion_matrix=cm, display_labels=classes)\n",
    "disp.plot(cmap='Blues', values_format='d')\n",
    "plt.title(\"Confusion Matrix - Logistic Regression (Balanced Data)\")\n",
    "plt.show()"
   ]
  },
  {
   "cell_type": "markdown",
   "id": "0fc5c6e5-cb95-4a2a-b64b-298f1c68c9bb",
   "metadata": {},
   "source": [
    "# Saving Trained Machine Learning Models"
   ]
  },
  {
   "cell_type": "code",
   "execution_count": 36,
   "id": "dcdb2f1a-719b-4d74-97f7-86f1d9acc5c1",
   "metadata": {},
   "outputs": [
    {
     "name": "stdout",
     "output_type": "stream",
     "text": [
      "Model saved successfully at ..\\models\\Model_Balanced.pkl\n"
     ]
    }
   ],
   "source": [
    "import joblib\n",
    "import os\n",
    "\n",
    "model_dir = r\"..\\models\"\n",
    "os.makedirs(model_dir, exist_ok=True)  \n",
    "\n",
    "model_path = os.path.join(model_dir, 'Model_Balanced.pkl')\n",
    "\n",
    "# Save the trained Logistic Regression model\n",
    "joblib.dump(lr_model, model_path)\n",
    "print(f\"Model saved successfully at {model_path}\")\n"
   ]
  },
  {
   "cell_type": "code",
   "execution_count": null,
   "id": "fb29349a-1423-47da-940c-97a4516756d3",
   "metadata": {},
   "outputs": [],
   "source": []
  },
  {
   "cell_type": "code",
   "execution_count": null,
   "id": "c8a035ca-6a0d-4cba-b46a-623065795825",
   "metadata": {},
   "outputs": [],
   "source": []
  },
  {
   "cell_type": "code",
   "execution_count": null,
   "id": "8c00f1f6-78b8-4267-884f-52b45c72b8cc",
   "metadata": {},
   "outputs": [],
   "source": []
  }
 ],
 "metadata": {
  "kernelspec": {
   "display_name": "Python [conda env:base] *",
   "language": "python",
   "name": "conda-base-py"
  },
  "language_info": {
   "codemirror_mode": {
    "name": "ipython",
    "version": 3
   },
   "file_extension": ".py",
   "mimetype": "text/x-python",
   "name": "python",
   "nbconvert_exporter": "python",
   "pygments_lexer": "ipython3",
   "version": "3.13.5"
  }
 },
 "nbformat": 4,
 "nbformat_minor": 5
}
